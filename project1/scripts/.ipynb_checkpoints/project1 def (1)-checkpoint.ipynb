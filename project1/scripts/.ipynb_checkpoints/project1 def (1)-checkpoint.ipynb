{
 "cells": [
  {
   "cell_type": "code",
   "execution_count": 1,
   "metadata": {
    "tags": []
   },
   "outputs": [],
   "source": [
    "# Useful starting lines\n",
    "%matplotlib inline\n",
    "import numpy as np\n",
    "import matplotlib.pyplot as plt\n",
    "import math\n",
    "import random\n",
    "%load_ext autoreload\n",
    "%autoreload 2"
   ]
  },
  {
   "cell_type": "markdown",
   "metadata": {},
   "source": [
    "## Load the training data into feature matrix, class labels, and event ids:"
   ]
  },
  {
   "cell_type": "code",
   "execution_count": 2,
   "metadata": {
    "jupyter": {
     "outputs_hidden": false
    }
   },
   "outputs": [],
   "source": [
    "from proj1_helpers import *\n",
    "DATA_TRAIN_PATH = '../data/train.csv' # train data path here \n",
    "y, tX, ids = load_csv_data(DATA_TRAIN_PATH)"
   ]
  },
  {
   "cell_type": "code",
   "execution_count": 3,
   "metadata": {},
   "outputs": [
    {
     "name": "stdout",
     "output_type": "stream",
     "text": [
      "(250000, 30)\n"
     ]
    }
   ],
   "source": [
    "print(tX.shape)"
   ]
  },
  {
   "cell_type": "markdown",
   "metadata": {},
   "source": [
    "### Changing the labels to {0,1}"
   ]
  },
  {
   "cell_type": "code",
   "execution_count": 4,
   "metadata": {},
   "outputs": [],
   "source": [
    "# change the array from -1 1 to 0 1\n",
    "# label simplification\n",
    "# y == 0 non detected Boson, y == 1 detected Boson\n",
    "y_ = np.array([0 if l == -1 else 1 for l in y])"
   ]
  },
  {
   "cell_type": "markdown",
   "metadata": {},
   "source": [
    "# All of the following parts are the same for the test set, should be functions\n",
    "\n",
    "# less code = better code (in this case)"
   ]
  },
  {
   "cell_type": "markdown",
   "metadata": {},
   "source": [
    "### Dividing the features by the number of jets"
   ]
  },
  {
   "cell_type": "code",
   "execution_count": 5,
   "metadata": {},
   "outputs": [],
   "source": [
    "# dividing the rows of tX by the number of jets, dropping the column Pri_Jet_Num and adding an extra column of np.ones\n",
    "zero_indices = []\n",
    "one_indices = []\n",
    "two_three_indices = []\n",
    "zero_indices = np.where(tX[:,22]==0)[0]\n",
    "one_indices = np.where(tX[:,22]==1)[0]\n",
    "two_three_indices = np.where(np.logical_or(tX[:,22]==2, tX[:,22]==3))[0]\n",
    "#Use indices to seperate the testing samples into the respective arrays\n",
    "tX_0 = tX[zero_indices, :]\n",
    "tX_0 = np.delete(tX_0, 22, axis=1)\n",
    "tX_1 = tX[one_indices, :]\n",
    "tX_1 = np.delete(tX_1, 22, axis=1)\n",
    "tX_2_3 = tX[two_three_indices, :]"
   ]
  },
  {
   "cell_type": "markdown",
   "metadata": {},
   "source": [
    "### Dividing also the output by the type of particle"
   ]
  },
  {
   "cell_type": "code",
   "execution_count": 6,
   "metadata": {},
   "outputs": [],
   "source": [
    "y_0 = y_[zero_indices]\n",
    "y_1 = y_[one_indices]\n",
    "y_2_3 = y_[two_three_indices]"
   ]
  },
  {
   "cell_type": "markdown",
   "metadata": {},
   "source": [
    "### Adding a column of zeros and ones to detect whether the mass has been measured or not"
   ]
  },
  {
   "cell_type": "code",
   "execution_count": 7,
   "metadata": {},
   "outputs": [],
   "source": [
    "# take the indices where the mass is not calculated, add the column which has 0 in those indices\n",
    "# and 1 everywhere else for all matrices 0,1,2_3\n",
    "zero_indices_0 = np.where(tX_0[:,1] == -999.)[0]\n",
    "column_to_add = np.array([0 if i in zero_indices_0 else 1 for i in range(tX_0.shape[0])])\n",
    "tX_0 = np.insert(tX_0, 0, column_to_add, axis=1)\n",
    "zero_indices_1 = np.where(tX_1[:,1] == -999.)[0]\n",
    "column_to_add = np.array([0 if i in zero_indices_1 else 1 for i in range(tX_1.shape[0])])\n",
    "tX_1 = np.insert(tX_1, 0, column_to_add, axis=1)\n",
    "zero_indices_2_3 = np.where(tX_2_3[:,1] == -999.)[0]\n",
    "column_to_add = np.array([0 if i in zero_indices_2_3 else 1 for i in range(tX_2_3.shape[0])])\n",
    "tX_2_3 = np.insert(tX_2_3, 0, column_to_add, axis=1)"
   ]
  },
  {
   "cell_type": "markdown",
   "metadata": {},
   "source": [
    "### Throwing away the outliers from the training data\n",
    "Is this necessary? For logistic regression, should be done only for Linear regression, imo."
   ]
  },
  {
   "cell_type": "code",
   "execution_count": 8,
   "metadata": {},
   "outputs": [],
   "source": [
    "for i in range(1, tX_2_3.shape[1]):\n",
    "    index_column_valid =np.where(tX_2_3[:,i] != -999.)[0] # cut out all the wrong measurements\n",
    "    # take the center of the sampledistribution\n",
    "    column_25_quantile, column_75_quantile = np.quantile(tX_2_3[index_column_valid,i], \n",
    "                                                         np.array([0.25, 0.75]))\n",
    "    interquantile = column_75_quantile-column_25_quantile\n",
    "    column_15_quantile, column_85_quantile = np.quantile(tX_2_3[index_column_valid,i], \n",
    "                                                         np.array([0.15, 0.85]))\n",
    "    #determine the outliears given that they have a large divergance from the rest of the values\n",
    "    indices_outliers = np.where((column_15_quantile - 1.5 * interquantile >= tX_2_3[index_column_valid,i])\n",
    "                                             | (tX_2_3[index_column_valid,i] >= \n",
    "                                                column_85_quantile + 1.5 * interquantile))[0]\n",
    "    #indices_outliers = np.argwhere((tX_tilda_2_3[index_column_valid,i] >= column_85_quantile + 1.5 * interquantile) | \n",
    "                                  #(column_15_quantile - 1.5 * interquantile >= tX_tilda_2_3[index_column_valid,i]))\n",
    "    #median of the valid indices\n",
    "    median = np.median(tX_2_3[index_column_valid, i], axis = 0)\n",
    "    #print(np.sort(tX_tilda_2_3[index_column_valid[indices_outliers],i]).T)\n",
    "    #print(np.where(tX_tilda_2_3[indices_outliers,i])==-999.)\n",
    "    #print(median)\n",
    "    #replace the outliers with the calculated median\n",
    "    tX_2_3[index_column_valid[indices_outliers],i] =  median"
   ]
  },
  {
   "cell_type": "code",
   "execution_count": 9,
   "metadata": {},
   "outputs": [
    {
     "name": "stdout",
     "output_type": "stream",
     "text": [
      "(99913, 19)\n",
      "[5, 6, 7, 13, 23, 24, 25, 26, 27, 28, 29]\n"
     ]
    }
   ],
   "source": [
    "#apart from replacing the outliers in valid columns like in the 2_3 case we erase columns that are invalid\n",
    "# invalid means that all their values are -999. since such columns have no meaning\n",
    "#initialize the list of columns that need to be deleted\n",
    "col_to_delete_0 = []\n",
    "for i in range(1, tX_0.shape[1]):\n",
    "    #check if the column has any valid indices \n",
    "    index_column_valid =np.where(tX_0[:,i] != -999.)[0]\n",
    "    if len(index_column_valid)==0:\n",
    "        #we drop the column (we will have to do the same for the test set as well)\n",
    "        col_to_delete_0.append(i)\n",
    "    else :\n",
    "        column_25_quantile, column_75_quantile = np.quantile(tX_0[index_column_valid,i], \n",
    "                                                         np.array([0.25, 0.75]))\n",
    "        interquantile = column_75_quantile-column_25_quantile\n",
    "        column_15_quantile, column_85_quantile = np.quantile(tX_0[index_column_valid,i], \n",
    "                                                         np.array([0.15, 0.85]))\n",
    "        indices_outliers = np.where((column_15_quantile - 1.5 * interquantile >= tX_0[index_column_valid,i])\n",
    "                                             | (tX_0[index_column_valid,i] >= \n",
    "                                                column_85_quantile + 1.5 * interquantile))[0]\n",
    "        #indices_outliers = np.argwhere((tX_tilda_2_3[index_column_valid,i] >= column_85_quantile + 1.5 * interquantile) | \n",
    "                                  #(column_15_quantile - 1.5 * interquantile >= tX_tilda_2_3[index_column_valid,i]))\n",
    "        median = np.median(tX_0[index_column_valid, i], axis = 0)\n",
    "        #print(np.sort(tX_tilda_2_3[index_column_valid[indices_outliers],i]).T)\n",
    "        #print(np.where(tX_tilda_2_3[indices_outliers,i])==-999.)\n",
    "        #print(median)\n",
    "        tX_0[index_column_valid[indices_outliers],i] =  median\n",
    "col_to_delete_0.append(tX_0.shape[1]-1)\n",
    "tX_0 = np.delete(tX_0, col_to_delete_0, axis=1)\n",
    "print(tX_0.shape)\n",
    "print(col_to_delete_0)"
   ]
  },
  {
   "cell_type": "code",
   "execution_count": 10,
   "metadata": {},
   "outputs": [
    {
     "name": "stdout",
     "output_type": "stream",
     "text": [
      "[5, 6, 7, 13, 26, 27, 28]\n"
     ]
    }
   ],
   "source": [
    "# we follow the same procedure as for the Pjet_In 0\n",
    "col_to_delete_1 = []\n",
    "for i in range(1, tX_1.shape[1]):\n",
    "    index_column_valid =np.where(tX_1[:,i] != -999.)[0]\n",
    "    if len(index_column_valid)==0:\n",
    "        #we drop the column (we will have to do the same for the test set as well)\n",
    "        col_to_delete_1.append(i)\n",
    "    else :\n",
    "        column_25_quantile, column_75_quantile = np.quantile(tX_1[index_column_valid,i], \n",
    "                                                         np.array([0.25, 0.75]))\n",
    "        interquantile = column_75_quantile-column_25_quantile\n",
    "        column_15_quantile, column_85_quantile = np.quantile(tX_1[index_column_valid,i], \n",
    "                                                         np.array([0.15, 0.85]))\n",
    "        indices_outliers = np.where((column_15_quantile - 1.5 * interquantile >= tX_1[index_column_valid,i])\n",
    "                                             | (tX_1[index_column_valid,i] >= \n",
    "                                                column_85_quantile + 1.5 * interquantile))[0]\n",
    "        #indices_outliers = np.argwhere((tX_tilda_2_3[index_column_valid,i] >= column_85_quantile + 1.5 * interquantile) | \n",
    "                                  #(column_15_quantile - 1.5 * interquantile >= tX_tilda_2_3[index_column_valid,i]))\n",
    "        median = np.median(tX_1[index_column_valid, i], axis = 0)\n",
    "        #print(np.sort(tX_tilda_2_3[index_column_valid[indices_outliers],i]).T)\n",
    "        #print(np.where(tX_tilda_2_3[indices_outliers,i])==-999.)\n",
    "        #print(median)\n",
    "        tX_1[index_column_valid[indices_outliers],i] =  median\n",
    "tX_1 = np.delete(tX_1, col_to_delete_1, axis=1)\n",
    "print(col_to_delete_1)"
   ]
  },
  {
   "cell_type": "markdown",
   "metadata": {},
   "source": [
    "### Now we substitute the -999 values with the median"
   ]
  },
  {
   "cell_type": "code",
   "execution_count": 11,
   "metadata": {},
   "outputs": [],
   "source": [
    "for i in range(1, tX_2_3.shape[1]):\n",
    "    index_column_non_valid =np.where(tX_2_3[:,i] == -999.)[0] #find invalid indices\n",
    "    index_column_valid =np.where(tX_2_3[:,i] != -999.)[0] #find valid indices\n",
    "    median = np.median(tX_2_3[index_column_valid, i], axis = 0) #calculate the median of the valid indices\n",
    "    tX_2_3[index_column_non_valid,i] =  median"
   ]
  },
  {
   "cell_type": "code",
   "execution_count": 12,
   "metadata": {},
   "outputs": [],
   "source": [
    "for i in range(1, tX_1.shape[1]):\n",
    "    index_column_non_valid =np.where(tX_1[:,i] == -999.)[0] #find invalid indices\n",
    "    index_column_valid =np.where(tX_1[:,i] != -999.)[0] #find valid indices\n",
    "    median = np.median(tX_1[index_column_valid, i], axis = 0) #calculate the median of the valid indices\n",
    "    tX_1[index_column_non_valid,i] =  median"
   ]
  },
  {
   "cell_type": "code",
   "execution_count": 13,
   "metadata": {},
   "outputs": [],
   "source": [
    "for i in range(1, tX_0.shape[1]):\n",
    "    index_column_non_valid =np.where(tX_0[:,i] == -999.)[0] #find invalid indices\n",
    "    index_column_valid =np.where(tX_0[:,i] != -999.)[0] #find valid indices\n",
    "    median = np.median(tX_0[index_column_valid, i], axis = 0) #calculate the median of the valid indices\n",
    "    tX_0[index_column_non_valid,i] =  median"
   ]
  },
  {
   "cell_type": "markdown",
   "metadata": {},
   "source": [
    "### Now we standardize the data"
   ]
  },
  {
   "cell_type": "code",
   "execution_count": 14,
   "metadata": {
    "tags": []
   },
   "outputs": [],
   "source": [
    "tX_2_3[:,1:], mean_2_3,std_2_3 = standardize(tX_2_3[:,1:]) #we standardize everything a part from the column added manually"
   ]
  },
  {
   "cell_type": "code",
   "execution_count": 15,
   "metadata": {},
   "outputs": [
    {
     "name": "stdout",
     "output_type": "stream",
     "text": [
      "[[ 1.          0.97351249  0.46588281 ...  0.61614788 -1.36131161\n",
      "  -0.70374641]\n",
      " [ 1.         -0.82851663 -0.77157038 ...  0.11608109  1.71034105\n",
      "   0.2995537 ]\n",
      " [ 1.          1.3538447  -0.27431587 ...  0.07030726 -1.52202162\n",
      "   0.12704911]\n",
      " ...\n",
      " [ 1.          0.04006392  0.02513449 ...  0.25930888  0.22982758\n",
      "   0.42357227]\n",
      " [ 1.          0.66304099 -1.0843679  ...  0.29031696 -1.21821366\n",
      "  -0.20699627]\n",
      " [ 1.          0.04006392  0.31977857 ... -0.02271698 -0.62490751\n",
      "   0.05569682]]\n",
      "0\n"
     ]
    }
   ],
   "source": [
    "print(tX_2_3)\n",
    "print(np.count_nonzero(tX_2_3 == -999.))"
   ]
  },
  {
   "cell_type": "code",
   "execution_count": 16,
   "metadata": {},
   "outputs": [
    {
     "name": "stdout",
     "output_type": "stream",
     "text": [
      "[[ 1.00000e+00  1.43905e+02  8.14170e+01 ...  3.10820e+01  6.00000e-02\n",
      "   8.60620e+01]\n",
      " [ 1.00000e+00  1.75864e+02  1.69150e+01 ...  2.72300e+00 -8.71000e-01\n",
      "   5.31310e+01]\n",
      " [ 1.00000e+00  1.05594e+02  5.05590e+01 ...  3.77910e+01  2.40000e-02\n",
      "   1.29804e+02]\n",
      " ...\n",
      " [ 1.00000e+00  1.11452e+02  5.81790e+01 ...  4.67370e+01 -8.67000e-01\n",
      "   8.04080e+01]\n",
      " [ 1.00000e+00  9.49510e+01  1.93620e+01 ...  1.21500e+01  8.11000e-01\n",
      "   1.12718e+02]\n",
      " [ 1.00000e+00  1.11452e+02  7.27560e+01 ...  4.07290e+01 -1.59600e+00\n",
      "   9.94050e+01]]\n"
     ]
    }
   ],
   "source": [
    "print(tX_0)"
   ]
  },
  {
   "cell_type": "code",
   "execution_count": 17,
   "metadata": {},
   "outputs": [],
   "source": [
    "tX_0[:,1:],mean_0,std_0 = standardize(tX_0[:,1:]) "
   ]
  },
  {
   "cell_type": "code",
   "execution_count": 18,
   "metadata": {},
   "outputs": [
    {
     "name": "stdout",
     "output_type": "stream",
     "text": [
      "[[ 1.          1.05744907  0.7827665  ...  0.01825038  0.04662815\n",
      "  -0.7724943 ]\n",
      " [ 1.          2.14505538 -1.37519852 ... -1.71504715 -0.4674532\n",
      "  -1.44727052]\n",
      " [ 1.         -0.24632406 -0.2496121  ...  0.42830338  0.0267496\n",
      "   0.12380588]\n",
      " ...\n",
      " [ 1.         -0.0469687   0.00532098 ...  0.97508147 -0.46524447\n",
      "  -0.8883482 ]\n",
      " [ 1.         -0.60851918 -1.29333222 ... -1.13887042  0.46131675\n",
      "  -0.22629665]\n",
      " [ 1.         -0.0469687   0.49300595 ...  0.60787347 -0.86778508\n",
      "  -0.49908812]]\n"
     ]
    }
   ],
   "source": [
    "print(tX_0)"
   ]
  },
  {
   "cell_type": "code",
   "execution_count": 19,
   "metadata": {},
   "outputs": [],
   "source": [
    "tX_1[:,1:],mean_1,std_1 = standardize(tX_1[:,1:])"
   ]
  },
  {
   "cell_type": "code",
   "execution_count": 20,
   "metadata": {},
   "outputs": [
    {
     "name": "stdout",
     "output_type": "stream",
     "text": [
      "[[ 1.00000000e+00  1.55539992e+00  7.27047143e-01 ...  3.98445313e-01\n",
      "   6.45414781e-01 -4.14297220e-01]\n",
      " [ 1.00000000e+00  1.45598722e-03  3.58462301e+00 ...  1.12748232e+00\n",
      "  -1.10752634e+00 -4.89864560e-01]\n",
      " [ 1.00000000e+00  1.36261180e+00 -1.05809645e+00 ... -3.92076740e-01\n",
      "  -9.40265168e-01 -1.01072441e+00]\n",
      " ...\n",
      " [ 1.00000000e+00  1.45598722e-03  1.01732036e+00 ... -4.67286130e-01\n",
      "  -3.80160315e-01  8.39087556e-01]\n",
      " [ 1.00000000e+00  6.75509966e-01  9.95415259e-01 ... -6.76994064e-01\n",
      "   1.39533906e+00  5.32418071e-01]\n",
      " [ 1.00000000e+00 -2.21030015e-01  4.74893699e-01 ...  9.88591985e-01\n",
      "  -8.30516498e-02 -5.76298292e-01]]\n"
     ]
    }
   ],
   "source": [
    "print(tX_1)"
   ]
  },
  {
   "cell_type": "markdown",
   "metadata": {},
   "source": [
    "### We insert the column for the bias term"
   ]
  },
  {
   "cell_type": "code",
   "execution_count": 21,
   "metadata": {},
   "outputs": [],
   "source": [
    "tX_tilda_0 = np.insert(tX_0, 0, np.ones(tX_0.shape[0]), axis=1)\n",
    "tX_tilda_1 = np.insert(tX_1, 0, np.ones(tX_1.shape[0]), axis=1)\n",
    "tX_tilda_2_3 = np.insert(tX_2_3, 0, np.ones(tX_2_3.shape[0]), axis=1)"
   ]
  },
  {
   "cell_type": "code",
   "execution_count": 22,
   "metadata": {},
   "outputs": [
    {
     "name": "stdout",
     "output_type": "stream",
     "text": [
      "[[ 1.          1.          1.05744907 ...  0.01825038  0.04662815\n",
      "  -0.7724943 ]\n",
      " [ 1.          1.          2.14505538 ... -1.71504715 -0.4674532\n",
      "  -1.44727052]\n",
      " [ 1.          1.         -0.24632406 ...  0.42830338  0.0267496\n",
      "   0.12380588]\n",
      " ...\n",
      " [ 1.          1.         -0.0469687  ...  0.97508147 -0.46524447\n",
      "  -0.8883482 ]\n",
      " [ 1.          1.         -0.60851918 ... -1.13887042  0.46131675\n",
      "  -0.22629665]\n",
      " [ 1.          1.         -0.0469687  ...  0.60787347 -0.86778508\n",
      "  -0.49908812]]\n"
     ]
    }
   ],
   "source": [
    "print(tX_tilda_0)"
   ]
  },
  {
   "cell_type": "code",
   "execution_count": 23,
   "metadata": {},
   "outputs": [],
   "source": [
    "# colors = ['red', 'blue']\n",
    "# x_pos=[]\n",
    "# x_neg=[]\n",
    "\n",
    "# for j in range(len(y)):\n",
    "#  if(y[j]==1):\n",
    "#       x_pos.insert(0,tX[j])\n",
    "#    else:\n",
    "#        x_neg.insert(0,tX[j])\n",
    "# xpos = np.array(x_pos)\n",
    "# xneg = np.array(x_neg)\n",
    "# for i in range(tX.shape[1]):\n",
    "#  plt.hist(xpos[:,i], alpha = 0.5, color = 'r', bins = 100)\n",
    "#  plt.hist(xneg[:,i], alpha = 0.5, color = 'b', bins = 100)\n",
    "#  plt.show()"
   ]
  },
  {
   "cell_type": "markdown",
   "metadata": {},
   "source": [
    "## Do your thing crazy machine learning thing here :) ..."
   ]
  },
  {
   "cell_type": "markdown",
   "metadata": {},
   "source": [
    "## The following functions have to do with the linear regression model"
   ]
  },
  {
   "cell_type": "code",
   "execution_count": 24,
   "metadata": {
    "tags": []
   },
   "outputs": [],
   "source": [
    "# compute the MSE Loss\n",
    "def compute_loss(y, tx, w):\n",
    "    N = y.shape[0] # N = Number of samples\n",
    "    e = y - tx @ w # e = error vector (truth - prediction)\n",
    "    loss = 1/(2*N) * np.dot(e,e) # calculate the average loss\n",
    "    return loss"
   ]
  },
  {
   "cell_type": "code",
   "execution_count": 25,
   "metadata": {},
   "outputs": [],
   "source": [
    "# compute the gradient for the MSE loss function\n",
    "def compute_gradient(y, tx, w):\n",
    "    N = y.shape[0] # N = Number of samples\n",
    "    e = y - tx @ w # e = error vector (truth - prediction)\n",
    "    gradient = -(1/N) * (tx.T) @ (e) # calculate the gradient\n",
    "    return gradient"
   ]
  },
  {
   "cell_type": "markdown",
   "metadata": {},
   "source": [
    "# Should we replace ws? We dont need it anymore and it is reduntant\n",
    "\n",
    "# Less things allow for more readable code"
   ]
  },
  {
   "cell_type": "code",
   "execution_count": 26,
   "metadata": {},
   "outputs": [],
   "source": [
    "# do the gradient descent algorithm\n",
    "# max_iters = the maximum number of repetitions the algorithm is allowed to do \n",
    "# gamma = the step of the function in the direction of the gradient\n",
    "def least_squares_GD(y, tx, initial_w, max_iters, gamma):\n",
    "    ws = [initial_w]# A list of all the weights\n",
    "    losses = []                                                              \n",
    "    w = initial_w # Initialization of the weights\n",
    "    for n_iter in range(max_iters):\n",
    "        loss = compute_loss(y,tx,w) # calculate the MSE loss\n",
    "        gradient = compute_gradient(y,tx,w) # calculate the gradient \n",
    "        w = w - gamma * gradient # conduct a step of gradient descent\n",
    "        ws.append(w) # append the current weight\n",
    "        losses.append(loss) # compute the next loss\n",
    "        # print(\"Gradient Descent({bi}/{ti}): loss={l}, w0={w0}, w1={w1}\".format(\n",
    "        # bi=n_iter, ti=max_iters - 1, l=loss, w0=w[0], w1=w[1]))\n",
    "    return losses, ws"
   ]
  },
  {
   "cell_type": "code",
   "execution_count": 27,
   "metadata": {},
   "outputs": [],
   "source": [
    "# Use cross validation to determine optimal data augmenttion\n",
    "# cross validation function for gradient descent\n",
    "# k-indices = random subsets of the original samples\n",
    "# k the set that we will use as the test set out of the subsets\n",
    "# degree = the degree up to which we will exponentiate each feature\n",
    "def cross_validation_GD(y, x, k_indices, k, degree, gamma = 3.0e-02):\n",
    "    N = y.shape[0] # N = number of samples\n",
    "    k_fold = k_indices.shape[0] # number of seperated sets\n",
    "    list_ = []\n",
    "    interval = int(N/k_fold) # the length of each subset\n",
    "    # this is not well written and should be changed it is very hard to understand\n",
    "    # Create a list of the indices of subsets that are supposed to be used as a training set\n",
    "    for i in range(k_fold):\n",
    "        if i != k:\n",
    "            list_.append(i)\n",
    "    x_training = np.zeros((int((k_fold-1)/k_fold*N), x.shape[1]))\n",
    "    y_training = np.zeros(int((k_fold-1)/k_fold*N))\n",
    "    for j in range(len(list_)):\n",
    "        x_training[interval*(j):interval*(j+1), :] = x[np.array([k_indices[list_[j]]]), :]\n",
    "    for j in range(len(list_)):\n",
    "        y_training[interval*(j):interval*(j+1)] = y[np.array([k_indices[list_[j]]])]\n",
    "    # get the testing set out of the remaining set\n",
    "    x_testing = x[k_indices[k], :]\n",
    "    y_testing = y[k_indices[k]]\n",
    "    # augment the testing and training set feature vectors\n",
    "    x_training_augmented = build_poly(x_training, degree)\n",
    "    x_testing_augmented = build_poly(x_testing, degree)\n",
    "    #w_opt_training = ridge_regression(y_training, x_training_augmented, lambda_)\n",
    "    # calculate the optimal weights\n",
    "    _,  w_opt_training = least_squares_GD(y_training, x_training_augmented,\n",
    "                                                        np.zeros(x_training_augmented.shape[1]), 1000, gamma)\n",
    "    # calculate losses for the training and test set respectively and return them\n",
    "    loss_tr = calculate_loss(y_training, x_training_augmented, w_opt_training[-1])\n",
    "    loss_te = calculate_loss(y_testing, x_testing_augmented, w_opt_training[-1])\n",
    "    return loss_tr, loss_te"
   ]
  },
  {
   "cell_type": "code",
   "execution_count": 28,
   "metadata": {},
   "outputs": [],
   "source": [
    "# compute the stochastic gradient of a random sample\n",
    "def compute_stoch_gradient(y, tx, w):\n",
    "    N = y.shape[0]# number of samples\n",
    "    random_number = random.randint(0,N)# generate random index\n",
    "    xn = tx[random_number,:]# get sample of that index\n",
    "    random_gradient = - np.dot(xn, y[random_number] - np.dot(xn,w))# calculate the stochastic gradient\n",
    "    return random_gradient"
   ]
  },
  {
   "cell_type": "code",
   "execution_count": 29,
   "metadata": {},
   "outputs": [],
   "source": [
    "# Implementation of the stochastic gradient descent algorithm\n",
    "# max_iters = the maximum number of repetitions the algorithm is allowed to do \n",
    "# gamma = the step of the function in the direction of the gradient\n",
    "def least_squares_SGD(y, tx, initial_w, max_iters, gamma):\n",
    "    ws = [initial_w]                                                      #initialize weight list\n",
    "    losses = [] # initialize list of losses\n",
    "    w = initial_w # intialize the weights for the first iteration\n",
    "    for n_iter in range(max_iters):\n",
    "        loss = compute_loss(y,tx,w) # compute MSE loss for all samples\n",
    "        stoch_gradient = compute_stoch_gradient(y,tx,w) # calculate stochastic gradient\n",
    "        w = w - gamma * stoch_gradient # update the weights using the stochastic gradient \n",
    "        ws.append(w) # append the next weight\n",
    "        losses.append(loss) # append the current loss to the list\n",
    "        # print(\"Gradient Descent({bi}/{ti}): loss={l}, w0={w0}, w1={w1}\".format(\n",
    "        #    bi=n_iter, ti=max_iters - 1, l=loss, w0=w[0], w1=w[1]))\n",
    "    return losses, ws"
   ]
  },
  {
   "cell_type": "code",
   "execution_count": 30,
   "metadata": {},
   "outputs": [],
   "source": [
    "from proj1_helpers import *\n",
    "\n",
    "# least squares minimizer using normal equations.\n",
    "def least_squares(y, tx):\n",
    "    # calculate the forcing term and the coefficient matrix respectively\n",
    "    forcing_term = np.transpose(tx) @ y \n",
    "    coefficient_matrix = np.transpose(tx) @ tx \n",
    "    \n",
    "    w = np.linalg.solve(coefficient_matrix, forcing_term) # solve the linear equation for w\n",
    "    return w\n",
    "\n",
    "# do we need this?\n",
    "def test_your_least_squares(y, tx):\n",
    "    \"\"\"compare the solution of the normal equations with the weights returned by gradient descent algorithm.\"\"\"\n",
    "    w_least_squares = least_squares(y, tx)\n",
    "    initial_w = np.zeros(tx.shape[1])\n",
    "    max_iters = 50\n",
    "    gamma = 0.7\n",
    "    losses_gradient_descent, w_gradient_descent = gradient_descent(y, tx, initial_w, max_iters, gamma)\n",
    "    w = w_gradient_descent[-1]\n",
    "    err = np.linalg.norm(w_least_squares-w)\n",
    "    return err"
   ]
  },
  {
   "cell_type": "code",
   "execution_count": 31,
   "metadata": {},
   "outputs": [],
   "source": [
    "# Use the ridge regression formula\n",
    "def ridge_regression(y, tx, lambda_):\n",
    "    N = tx.shape #get the dimensions of x\n",
    "    lambda_prime = 2 * N[0] * lambda_ #calculate the new lambda of the gradient formula\n",
    "    \n",
    "    # calculate the coefficient matrix and the forcing term respectively\n",
    "    coefficient_matrix = np.transpose(tx) @ tx + lambda_prime * np.eye(N[1]) \n",
    "    forcing_term = np.transpose(tx) @ y\n",
    "    \n",
    "    w = np.linalg.solve(coefficient_matrix, forcing_term) #calculate the w with the ridge normal equation\n",
    "    return w\n",
    "\n",
    "#do we need this?\n",
    "def debug_ridge(y, tx):\n",
    "    \"\"\"debugging the ridge regression by setting lambda=0.\"\"\"\n",
    "    w_least_squares = least_squares(y, tx)\n",
    "    w_0 = ridge_regression(y, tx, 0)\n",
    "    err = np.linalg.norm(w_least_squares-w_0)\n",
    "    return err"
   ]
  },
  {
   "cell_type": "markdown",
   "metadata": {},
   "source": [
    "## The Following functions correspond to the logistic regression model"
   ]
  },
  {
   "cell_type": "code",
   "execution_count": 32,
   "metadata": {},
   "outputs": [],
   "source": [
    "#commpute the sigmoid function for a vector t\n",
    "def sigmoid(t):\n",
    "    # seperate the indices where t is negative from the ones where t is non-negative\n",
    "    positive_indices = np.where(t >= 0)[0]\n",
    "    negative_indices = np.where(t < 0)[0]\n",
    "    \n",
    "    #calculate the output seperately for the positive values of t and for the negative ones\n",
    "    # this is done in order to avoid numerical problems s.a. overflow,division by 0 e.t.c. \n",
    "    z = np.zeros(len(t))\n",
    "    z[positive_indices] = 1 / (1+np.exp(-t[positive_indices]))\n",
    "    z[negative_indices] = np.exp(t[negative_indices]) / (1 + np.exp(t[negative_indices]))\n",
    "    return z"
   ]
  },
  {
   "cell_type": "code",
   "execution_count": 33,
   "metadata": {},
   "outputs": [],
   "source": [
    "#calculate the loss for the losistic \n",
    "def calculate_loss(y, tx, w):\n",
    "    #seperate the indices where the prediction is positive and where the prediction is negative \n",
    "    pos_ind = np.where(tx @ w >=0)[0]\n",
    "    neg_ind = np.where(tx @ w <0)[0]\n",
    "    #calculate the loss for both the positive and the negative indices.\n",
    "    loss_pos = - y[pos_ind] * (tx @ w)[pos_ind] + (tx @ w)[pos_ind] + np.log(1+np.exp(-(tx @ w)[pos_ind]))# I am a little curious about th minus here\n",
    "    loss_neg = - y[neg_ind] * (tx @ w)[neg_ind] - (tx @ w)[neg_ind] + np.log(1+np.exp((tx @ w)[neg_ind]))\n",
    "    return loss_pos.sum() + loss_neg.sum()"
   ]
  },
  {
   "cell_type": "code",
   "execution_count": 34,
   "metadata": {},
   "outputs": [],
   "source": [
    "# calculate the gradient for logistic regression\n",
    "def calculate_gradient(y, tx, w):\n",
    "    return np.transpose(tx) @ (sigmoid(tx @ w) - y)"
   ]
  },
  {
   "cell_type": "code",
   "execution_count": 35,
   "metadata": {},
   "outputs": [],
   "source": [
    "# Use the gradient descent method for the \n",
    "def learning_by_gradient_descent(y, tx, w_initial, gamma, max_iters):\n",
    "    losses = [] #list of losses\n",
    "    w = w_initial #set initial weight for the first iteration\n",
    "    for iter in range(max_iters):\n",
    "        grad = calculate_gradient(y, tx, w) # calculate the gradient for a single iteration of the algorithm\n",
    "        w = w - gamma * grad # upate the weights given the gradient and the step\n",
    "        if iter %25 == 0:\n",
    "            gamma = gamma/2 # decrease the gamma after some iterations pass to increase the accuracy\n",
    "        loss = calculate_loss(y, tx, w) # calculate loss\n",
    "        losses.append(loss) # append loss to the list of losses\n",
    "    return losses, w"
   ]
  },
  {
   "cell_type": "code",
   "execution_count": 36,
   "metadata": {},
   "outputs": [
    {
     "name": "stdout",
     "output_type": "stream",
     "text": [
      "[5179248944.798143, 4548292501.191404, 3873264747.21586, 3204189882.428973, 2558766497.952185, 1925840421.0113559, 1358134428.651399, 806750192.3189511, 2000410682.432347, 1601256172.1407375, 2113524821.032508, 1606047298.1298578, 1990415844.7863722, 1640858641.9755054, 1934131711.4022388, 1285499978.8239312, 2039587553.5306728, 1427677293.0631826, 1887233645.3011854, 1447488537.8697572, 1922910135.0623963, 1269966212.241833, 1955256377.1864235, 1400327379.5162978, 1845506548.8768008, 1264731822.7937446, 1931658652.6046593, 1314650368.8541703, 1862692520.7874825, 1330058160.1396334, 1877959970.337535, 1229045186.8782659, 1902392318.7812443, 1308156948.8224394, 1844261214.6759772, 1241157611.7495239, 1894851670.650667, 1255749330.3854282, 1860264536.3924847, 1274839497.8584266, 1859682719.8045282, 1218658685.3278322, 1880581668.5445318, 1258713077.5692606, 1850203797.983286, 1235051327.6527336, 1873359564.5719733, 1230356581.4292586, 1859083288.6187131, 1244041475.3110273, 1856766909.602412, 1220098306.0180311, 1867105792.1103537, 1231961026.5999556, 1855972090.534167, 1230042464.7869253, 1858379882.9984891, 1218727526.9037602, 1861762190.0919862, 1228383177.0211558, 1857254730.0793536, 1222051258.986008, 1860158108.393095, 1220116578.8918219, 1858589441.296099, 1223235696.707758, 1858398873.9065135, 1218854588.4123447, 1858822013.6489122, 1219813127.5371306, 1857066247.301809, 1219270818.5015004, 1858478934.808781, 1217907839.128026, 1858048932.0864751, 1218557408.5252035, 1858184219.2652302, 1218007631.415659, 1857623658.901975, 1216853916.6220303, 1858648321.4048412, 1217888005.0639844, 1857943355.805268, 1216851537.6112883, 1858168298.2146523, 1216534464.5377645, 1858125875.7411382, 1217143279.49141, 1858043712.6756158, 1215963897.3910758, 1857928972.3261566, 1216515459.8087633, 1858127807.8175392, 1216943000.0037293, 1857998825.6505334, 1215520797.554747, 1857198930.7175212, 1215707533.6527324, 1859049693.9961324, 1217315816.894834, 1857364856.5389555, 1125745790.5445623, 944200126.657572, 662141542.2897104, 623888265.612607, 542765196.7953151, 1066639937.6401906, 872688728.2081693, 1044854655.0297998, 632335883.5035801, 861860414.6223644, 649571079.9006648, 981428811.5169876, 578543407.9163169, 926430950.9943751, 621055451.350449, 936233535.7555366, 636682671.588411, 935014632.206196, 593303992.0667547, 943586850.2810777, 626939780.7731559, 924314950.778758, 610477202.9649825, 939691555.2094963, 608318258.4171047, 930729998.8784566, 618952336.003176, 928217639.2255765, 603865604.5538828, 936328613.9741703, 613170980.9661639, 928199761.7846708, 612721425.0214484, 930881380.9538592, 605416549.0383158, 931676151.601345, 612312906.701596, 927577932.3155206, 608182233.9415643, 930870217.3025103, 607916111.7119666, 929317429.7851305, 610383415.2933748, 928273500.0328197, 606428604.6303221, 930117001.6332449, 609102403.7225044, 927919378.0026678, 608528072.4425352, 929437197.0497265, 607326808.7336782, 929399168.4146247, 609271270.5283577, 928165670.486648, 607504681.2195421, 929339226.9214528, 608176286.491995, 928693185.4112351, 608613019.9187083, 928991724.3774278, 607740543.4400961, 928578304.0650572, 607865888.9969428, 929525574.228121, 608779589.0455394, 928624516.2158211, 607683329.9267457, 928559078.0036565, 607533383.1551881, 929540625.54409, 608494949.052401, 928488220.4699922, 607459021.9910532, 928727358.7326349, 607401095.1515696, 929418277.284363, 608290484.415622, 928571785.6079389, 607641021.1030781, 928598808.0565355, 607313938.0993247, 929386695.382826, 608104848.7109203, 928773507.013954, 607658077.6373798, 928502668.7602459, 607164674.0626876, 929268466.8520622, 608027924.4327757, 928859014.9247037, 607671236.8918054, 928412601.4956619, 607001757.8286512, 929084036.7119654, 607842996.107118, 929021460.8104572, 607693632.7013255, 928354897.4589422, 606911652.6716005, 929250777.961142, 562338764.5084602, 471218611.30264723, 330626236.700499, 310540371.87007934, 270510508.4752068, 532053310.0568228, 436769059.84071964, 524056143.11548495, 317238968.72681385, 429577620.3712184, 323409654.21004033, 491073023.5648856, 289592934.1581979, 463101490.5138425, 310020098.324984, 468504227.8073406, 318738711.75238156, 467008873.6226584, 295828556.09009826, 472048350.7931721, 313367679.3178885, 461708455.99843013, 305367354.45804626, 469705509.19011897, 303477106.9440692, 465819893.4427184, 310151431.3339487, 463445644.4942955, 301605846.46527046, 468611008.1110824, 306888495.56567687, 463850759.3439174, 306205964.5653915, 465807045.745436, 302849773.2570713, 465633031.04135025, 306027699.434389, 463974362.773064, 304182293.79237515, 465246407.6748983, 303907945.3040789, 464658186.22912014, 305134593.73907876, 464137569.16607, 303317181.7869709, 465013746.2908135, 304524655.9984316, 464016756.16794866, 304280707.3693937, 464631839.4556482, 303610177.1788395, 464733117.64516157, 304603485.5648394, 464045746.4791299, 303778129.6348742, 464748370.51139355, 304103799.6892841, 464413834.0970155, 304351672.50932133, 464421781.2393981, 303848057.0287603, 464307239.8855933, 303922886.1061293, 464720465.9554361, 304355587.8214898, 464323377.4818178, 303812948.0498963, 464310892.70609915, 303782213.93672574, 464747851.5690365, 304266958.0864312, 464273836.55707973, 303758220.6616069, 464321444.7950701, 303672680.0894933, 464722430.3987806, 304162824.6334279, 464320686.67749053, 303861335.7743648, 464272309.4311625, 303625015.2187499, 464635634.5316339, 304028786.45549905, 464428227.0918934, 303843639.06533635, 464221400.2828311, 303571636.18053067, 464639564.6031018, 304007189.88321346, 464411320.44630545, 303839740.4793311, 464209364.84884435, 303505054.2379757, 464539359.6490947, 303899188.12543976, 464512345.0637584, 303853194.68506396, 464162831.33013076, 303460754.88849825, 464587917.13550615, 281144993.1314286, 235583483.44554785, 165298051.74551803, 155232534.2248161, 135212349.65637723, 265955999.32496652, 218313605.33389467, 262042732.44382945, 158623183.5010187, 214798439.12867975, 161697255.44430602, 245526436.79880473, 144796251.0608096, 231516414.1101929, 154980685.190211, 234276368.71167302, 159398400.94696078, 233491595.00596964, 148017719.01452005, 236032329.74562144, 156653089.8361018, 230875733.6318457, 152718033.34822437, 234857636.33866355, 151767505.2706751, 232929630.63248813, 155077881.48315072, 231754781.8972228, 150827948.4214121, 234305187.6284745, 153440270.17795855, 231917835.51081127, 153091193.0018982, 232893638.68059814, 151428571.2712323, 232821934.40963888, 153027172.7971301, 231973099.80444926, 152077297.32204527, 232638380.4952467, 151953156.5706311, 232322350.44398487, 152564950.94031447, 232078474.92537436, 151664055.39973545, 232507367.19208482, 152264391.21690065, 232001686.622673, 152133907.12837827, 232323579.9371547, 151815448.6960212, 232368638.91250375, 152313701.32706046, 232026745.92332727, 151883211.36965817, 232343975.7604034, 152037288.53024527, 232219961.44897166, 152183889.46161827, 232182883.33454567, 151902273.6355641, 232180379.27236578, 151963776.49372572, 232332168.61121875, 152161421.92009598, 232151275.4358615, 151886753.649435, 232185359.51033598, 151905909.1275671, 232337066.37019056, 152129015.70412546, 232157981.51143184, 151878291.448803, 232150707.56027043, 151840764.39949018, 232340173.73473796, 152088534.59361157, 232158585.38889277, 151894004.08975255, 232124413.33372754, 151800955.89516348, 232321609.0610204, 152030327.5610334, 232168194.48094794, 151909266.6393895, 232115744.60653123, 151778741.86789376, 232288681.41499063, 151984406.7262562, 232200701.62498337, 151915493.8334219, 232104847.18962267, 151762197.16087556, 232267874.10870674, 151944903.28626698, 232219492.3360099, 151920969.7298184, 232101411.59304136, 151747842.84563372, 232244683.70843807, 140549471.55350128, 117772082.54195175, 82635111.25388817, 77607480.7944967, 67576980.5854686, 132977535.31737933, 109166899.30266164, 131031164.39084749, 79316379.19547363, 107390374.9504182, 80842364.26122066, 122766564.99300416, 72399688.92323434, 115764381.24794129, 77496084.91768438, 117133451.34226187, 79689138.8390181, 116745605.06906627, 73995932.90602723, 118023582.78733976, 78337118.0594913, 115433477.65080221, 76355063.59742701, 117426030.80589525, 75879129.15624529, 116466425.52169849, 77540776.78514338, 115880767.53132933, 75410471.40599135, 117152575.90710911, 76706212.8413619, 115953046.22622289, 76547325.08159983, 116438330.03564611, 75707719.76031418, 116415272.40341356, 76520999.73531115, 115977266.95633075, 76033321.74896024, 116320047.72681141, 75964822.7179268, 116160325.93017645, 76291519.81734745, 116042926.61023107, 75827118.14908023, 116264222.540463, 76126673.55576105, 115999917.82059106, 76080466.94080697, 116157747.57030131, 75891126.89403772, 116178542.65464236, 76137951.88069126, 116017703.21359383, 75961469.23937187, 116152064.65821171, 75995239.06093793, 116130167.10034682, 76099115.82419242, 116070797.68548533, 75938508.43309407, 116101996.30895609, 75984404.5804206, 116137347.1439463, 76070111.944942, 116065533.85583915, 75927778.795975, 116103216.20392187, 75969798.15493555, 116131704.2785283, 76046615.79434061, 116066010.97842638, 75920243.69328687, 116095479.81235744, 75946710.29340492, 116130677.81353907, 76032812.8886922, 116069124.0411104, 75920139.67156374, 116080027.27460447, 75920109.95805326, 116131261.79148959, 76016231.64367768, 116071399.46444331, 75926636.34584017, 116067542.01697916, 75900305.17692094, 116126976.78966689, 75996697.57132682, 116074696.07158995, 75933336.75995034, 116060133.06697299, 75888627.65601046, 116119593.75127241, 75978132.18883559, 116079670.09190528, 75938412.43920967, 116056904.52192909, 75883525.60890633, 116110385.0349783, 70276308.05703199, 58894707.4778264, 41318835.40913622, 38832045.052401416, 33798463.72301163, 66535352.75851836, 54608808.3918709, 65490625.06996292, 39630583.00039946, 53705866.69348158, 40436553.7362605, 61354693.7058752, 36171216.30161316, 57894442.05543779, 38769272.62377578, 58553119.45425692, 39823152.09410711, 58396235.12266503, 36994122.18902723, 59001771.485364996, 39184251.9768485, 57722408.121814765, 38154782.326732315, 58723478.7118256, 37946322.894888856, 58212600.53429077, 38758316.671383604, 57956430.72771442, 37705691.880848214, 58559711.50449147, 38345090.56245993, 57973848.615278296, 38272060.44254664, 58213169.69229162, 37851779.305158, 58209788.859850936, 38267898.07001454, 57985422.66249126, 38011909.41220422, 58163985.20106558, 37977459.611857176, 58074860.00950096, 38151890.08084613, 58019341.112111986, 37908952.17274243, 58139096.421998926, 38058538.6088408, 57999793.76639568, 38047448.80836608, 58074521.05400852, 37939826.77689232, 58086393.62672, 38067826.36937914, 58006179.41708292, 37979809.82576336, 58074138.81680356, 37989798.2334886, 58053577.36267145, 38044362.60106502, 58028659.24000016, 37964311.27795787, 58055979.59124089, 37994514.55430934, 58047284.255127095, 38020215.58129765, 58030928.73876515, 37960683.31208843, 58051408.73714094, 37991263.03469387, 58043465.11494862, 38004247.29453942, 58030714.81240837, 37959224.532803245, 58047657.3874972, 37984961.15033055, 58041057.26648618, 37993104.92514606, 58030655.043242544, 37959031.827351674, 58043368.099638864, 37977603.393070236, 58039369.81023616, 37984780.875499845, 58030673.502329126, 37959249.10367486, 58039597.62822241, 37971084.82367708, 58037766.04306782, 37978103.03539063, 58030683.733041875, 37959277.25836459, 58036705.675309174, 37966130.497061834, 58036242.90201293, 37972664.057037264, 58030667.36344562, 37959029.658469915, 58034646.456015654, 37962650.91341573, 58034891.660598665, 35138309.0134364, 29455703.181361236, 20658806.98103927, 19450246.56955848, 16922244.062767006, 33324868.668766867, 27322119.872503087, 32714032.963378623, 19786044.211876035, 26864537.13345335, 20242305.56690772, 30647260.273633122, 18060147.245468054, 28952854.69470978, 19398219.006972, 29274011.473906428, 19901346.32259544, 29202825.186737873, 18504204.062156945, 29499943.942574367, 19595646.96437023, 28866713.331723645, 19067375.766087618, 29363478.48027734, 18979810.075955708, 29098295.926636837, 19374302.028682917, 28989793.005843647, 18851702.594509687, 29265154.592762135, 19169786.533980016, 28987254.116441846, 19136268.633251563, 29105994.608496614, 18928224.46650376, 29105973.05744212, 19141047.19591782, 28993334.703998532, 19003982.99029494, 29089643.64804545, 18991032.569855653, 29032878.697152734, 19078875.5824273, 29009570.667438146, 18954027.22675743, 29071153.823027845, 19030383.851701945, 28998318.370785836, 19022970.480328914, 29033730.94266983, 18968443.511930007, 29038216.678531498, 19031889.972229086, 29002535.67948178, 18989210.00497199, 29033744.644459967, 18990149.14359954, 29019395.88419181, 19016520.32747273, 29011695.878306437, 18980524.632999808, 29026287.134836793, 18996392.517722413, 29013609.176471166, 19001207.112354256, 29014647.592795745, 18980543.678691763, 29020888.65078807, 18995690.65222883, 29011857.482489176, 18991011.170293596, 29015387.77514311, 18982139.676705327, 29016793.063296273, 18992136.639642518, 29011540.67455116, 18985095.986021936, 29014922.593871742, 18982980.24977191, 29013956.892853796, 18987895.76505624, 29011618.396018572, 18982065.09997155, 29013854.632179208, 18982761.833245285, 29012283.05325726, 18984264.65312942, 29011626.14463992, 18980581.831087448, 29012710.581734236, 18981855.861742433, 29011400.76843488, 18981662.17326451, 29011456.541000143, 18979757.094183493, 29011776.46638036, 18980715.721488822, 29010944.93609763, 18979975.968354955, 29011171.318586983, 17564770.640825946, 14724151.040190807, 10327079.6898364, 9724495.996035583, 8453260.810877768, 16657737.332322974, 13662769.6483776, 16365906.490412414, 9899590.456266958, 13425961.906866005, 10117610.92011806, 15332653.104563406, 9039456.114553412, 14471528.15246636, 9693336.23582507, 14647816.056465654, 9956950.735246938, 14595086.716947647, 9255388.259617139, 14757360.695878137, 9795726.875762269, 14435366.623072574, 9539420.535759587, 14679194.186463155, 9488082.062970841, 14554217.977497928, 9690769.326720636, 14497343.379043972, 9426675.808760146, 14628075.830779327, 9580429.962086665, 14495591.601020169, 9572462.534758642, 14551457.656013032, 9463850.05611276, 14555391.092251275, 9575717.574340854, 14496390.017536089, 9501659.684391186, 14550507.527440676, 9498485.215418123, 14515449.613322975, 9541913.669696385, 14506890.288376544, 9478151.83330696, 14535479.435936954, 9517619.82036554, 14499983.902970582, 9511078.612057246, 14516512.27338507, 9484352.907759808, 14517114.893772012, 9515850.917169403, 14501197.243430402, 9493359.279327441, 14516160.847463006, 9494285.976029957, 14507039.298773104, 9506202.622752992, 14504892.706753168, 9488621.268713359, 14511800.7841858, 9497974.973252047, 14503628.398830513, 9497265.567011546, 14506600.275992617, 9489538.413289418, 14507607.677321149, 9496911.447345376, 14503277.757922467, 9492058.226064026, 14506453.088855816, 9490955.173463134, 14504883.12918131, 9494049.435500395, 14503702.353118194, 9489976.711240191, 14505376.41482817, 9491265.822240168, 14503632.158979472, 9491460.0898395, 14503896.686343782, 9489402.382707987, 14504261.426923607, 9490684.875804182, 14503224.80002109, 9489817.286132604, 14503740.340580752, 9489218.077771092, 14503497.37199867, 9489815.191783946, 14503113.82518606, 9488966.318849856, 14503423.838763513, 9488998.67265109, 14503084.875682047, 9489057.91362055, 14503040.177244771, 9488555.558327876, 14503120.498922177, 8780226.112409364, 7360253.881430604, 5163279.240541929, 4857982.638163843, 4214644.959390706, 8301556.112685195, 6820232.3631534325, 8195486.813680872, 4962333.4365153145, 6709579.1497926805, 5054997.498240026, 7684164.041412888, 4539480.323887111, 7231619.648849484, 4836738.615246827, 7337552.618879349, 4989915.364019208, 7290461.9419862805, 4629502.01321184, 7382873.188401944, 4894247.687687848, 7222246.580384006, 4780987.286882041, 7334476.426809932, 4738915.480799626, 7285552.662933421, 4849374.064505124, 7250188.04702883, 4718763.028350042, 7311770.034588621, 4785341.785024183, 7252955.010790566, 4791119.799683796, 7273132.948960192, 4732230.731790936, 7280475.865958644, 4789069.422436001, 7249562.111220515, 4753115.941158295, 7275837.748815082, 4751207.553423686, 7260138.521806812, 4772907.454201086, 7255689.5012201, 4742104.925439161, 7267746.28922679, 4760117.625064314, 7252852.576797566, 4756790.609689779, 7259384.912742677, 4744811.467594567, 7259346.771880061, 4758788.559371242, 7252664.966439021, 4747921.065020372, 7258824.5252730725, 4749089.752565256, 7254529.736499352, 4753527.585655954, 7253943.055523162, 4745703.386314268, 7256424.9485226665, 4750464.870952212, 7252829.638471175, 4748985.704210262, 7254434.479597799, 4746276.428540351, 7254224.171821864, 4749486.646603747, 7252656.8836256955, 4746640.576827722, 7254033.017596633, 4746965.012129944, 7252948.107149017, 4747824.558469546, 7252801.948725253, 4745929.832663469, 7253307.270653378, 4746989.141191572, 7252446.09485952, 4746530.044699382, 7252790.896575781, 4745877.506342417, 7252697.404504124, 4746551.166696687, 7252322.980245903, 4745839.757459312, 7252611.443635056, 4745886.257857529, 7252339.500721996, 4746030.869482189, 7252293.989675024, 4745569.146148304, 7252388.349518857, 4745782.37028552, 7252179.904054899, 4745644.21179256, 7252247.197747683, 4745477.379760821, 7252212.292423854, 4391593.950033841, 3682452.3383028447, 2586622.109741648, 2426753.447684956, 2095583.4727561376, 4111633.6065945895, 3392938.7360149943, 4112425.980760151, 2499580.240703349, 3355446.616864684, 2521802.598343479, 3859505.54609107, 2294196.532051271, 3613938.6695265425, 2404452.205158187, 3686324.6862055855, 2505096.661591559, 3637805.358332766, 2321075.897154009, 3693426.808307552, 2440258.6818889463, 3620754.7624399783, 2406804.84397915, 3661313.7916409704, 2363754.1680117794, 3652587.7566504627, 2426864.715195326, 3626680.322779955, 2368642.7002196154, 3655046.3475193735, 2388576.9109224356, 3633346.5533816013, 2400853.991976336, 3635655.1954444954, 2368540.592602666, 3643242.841142846, 2393920.60806942, 3628849.9931909726, 2381791.2850453584, 3637895.920201982, 2376527.2597969696, 3634276.8722102004, 2388400.753655348, 3630288.842178569, 2375284.174878963, 3635436.7253592666, 2380922.2048238544, 3630328.7092270446, 2381402.9855873147, 3631538.5946134115, 2375527.1979656345, 3632292.2491395934, 2380895.306621305, 3629500.6211768356, 2377293.2888117726, 3631384.8806522223, 2376983.4319962854, 3630221.8714146153, 2378925.062068489, 3629642.58468496, 2376036.410665979, 3630507.5485041467, 2377498.6853727074, 3629336.9634489585, 2377110.8205872825, 3629691.0913733714, 2376061.5816141106, 3629658.09015924, 2377114.151253916, 3629108.2690659715, 2376153.2198708244, 3629481.3566553188, 2376227.6446075314, 3629140.379892754, 2376467.139526389, 3629062.7442008303, 2375844.6548107183, 3629181.7511296864, 2376173.889460905, 3628913.3123450093, 2375976.218957874, 3628997.373234598, 2375790.423884429, 3628941.2440491957, 2375968.960774601, 3628831.386178163, 2375723.268657369, 3628895.2463381644, 2375756.22408525, 3628800.6617165594, 2375758.236302179, 3628789.435164709, 2375622.5796190454, 3628795.499755737, 2375684.7618740797, 3628733.2075093943, 2375614.2331172405, 3628748.573401289, 2375578.3654407365, 3628723.928379057, 2199867.475922406, 1847599.2712396514, 1305371.0023030632, 1215198.79254927, 1033829.4956846149, 1995345.1412957932, 1672173.3884231541, 2077535.3307724015, 1279607.1671477384, 1682761.2600441903, 1248881.7925574684, 1949371.7030244712, 1183237.1940035122, 1809094.9999830215, 1184615.8794001695, 1862362.6133575735, 1248056.6352127832, 1818747.5963797136, 1191765.891478691, 1845850.614301553, 1206071.0155999402, 1827870.3724992482, 1219074.7001156425, 1826561.2834357948, 1187167.789280499, 1833756.536788772, 1208686.2880700578, 1821382.1638172306, 1199804.694374735, 1827472.6487578328, 1192677.0840767827, 1825636.9102763266, 1203839.791570582, 1821268.1822318085, 1192661.8316383092, 1825292.6390491494, 1196244.198943029, 1821647.8184307672, 1197715.3847509718, 1821824.1016568493, 1192202.0537192686, 1822701.730237094, 1196434.3341717492, 1820444.692583926, 1194021.116185504, 1821577.166188896, 1193218.5219693135, 1820934.3117889734, 1194999.9842950697, 1820269.651772263, 1192783.6899487, 1820878.9082799829, 1193671.682406142, 1820093.779311415, 1193605.6920934163, 1820187.8196897353, 1192693.690436223, 1820217.477818234, 1193454.1158919723, 1819798.3658288242, 1192843.9518986407, 1819993.1933148748, 1192794.3296395978, 1819796.6922053283, 1193014.8730243328, 1819691.5739344792, 1192578.3373122774, 1819761.8736177776, 1192764.6112261657, 1819589.5550774192, 1192668.4238105842, 1819609.045801037, 1192516.629764054, 1819578.8572829983, 1192631.741217837, 1819497.105252947, 1192482.7984668575, 1819521.9275539685, 1192483.410474156, 1819466.3677713366, 1192491.5976704494, 1819445.8956816082, 1192402.782912437, 1819445.3246782462, 1192432.188247569, 1819405.9011522275, 1192393.2890730982, 1819405.911763361, 1192364.4546755909, 1819390.5911226969, 1192374.5177459205, 1819372.598004698, 1192337.4670073942, 1819372.200448138, 1192335.3569860733, 1819356.645014031, 1192327.108926911, 1819350.8410349083, 1192307.0292723523, 1819346.4073600443, 1107489.994490551, 936510.9378479084, 675756.5691830986, 621079.6979173565, 513142.73289947654, 881224.6210091724, 774247.2255132208, 1060467.157576301, 688909.6850749162, 869060.9009019638, 617048.3262047765, 989041.3356396939, 651462.9376753677, 928898.0782886628, 590958.195820016, 940114.5262672917, 608787.6146839715, 931908.5003391542, 637511.6516575181, 921762.5675501134, 597431.9930428325, 931008.3581489336, 617752.1303194168, 921461.4043830106, 615197.7918336391, 923912.6550271966, 604152.6144898976, 924595.5982940695, 614798.2255670567, 920155.2651225036, 607231.548191666, 922678.3683146856, 607896.6347493231, 921037.9643175838, 610158.6238260975, 920335.7332730258, 606398.4860202504, 921015.6633173748, 608356.2335369629, 919898.8655200362, 607699.9240009165, 920087.8983975517, 606844.702249258, 919973.6606221868, 607708.0837631307, 919560.2247093598, 606927.359595674, 919697.4711989868, 607022.8919358926, 919473.6197195504, 607124.5834911531, 919383.9114035238, 606782.3415084858, 919385.6698168658, 606937.6185792038, 919250.9074227919, 606828.2438645868, 919238.8414281629, 606750.6298988997, 919192.9423696455, 606798.0286542174, 919135.7541728858, 606708.3643228464, 919124.7200486845, 606707.7481848247, 919084.2216740397, 606695.6151090651, 919061.5146743623, 606655.3133005552, 919045.5002605157, 606657.7612140491, 919021.0395680724, 606635.5719287123, 919009.0322047079, 606621.3570604746, 918994.4278196525, 606616.187456181, 918981.0958608707, 606600.7484568133, 918972.3332889208, 606594.5626872324, 918961.9326866979, 606586.8974842341, 918954.1975305736, 606578.2923201623, 918947.4561358979, 606573.6867920769, 918940.7790347725, 606567.2792213194, 918935.7289237218, 606562.3597033749, 918930.8597701163, 606558.369398108, 918926.6200661135, 606553.9549962503, 918923.0996653946, 606550.7100199121, 918919.7741358601, 606547.5369051268, 918916.9913076205, 569792.7002740471, 494617.60271076864, 382451.35663694894, 351348.9633342928, 303108.4252051912, 344365.238101459, 288981.1961199585, 463436.3984794259, 360145.9646870008, 494160.41381009587, 336843.9532649407, 466286.15223904635, 328202.70058688894, 479910.5412067544, 324433.7089556855, 473843.0959655303, 321518.6919469481, 476372.2214208905, 327529.8956232196, 474633.16605469695, 327313.8668275678, 473177.70963822945, 326313.44163829426, 473206.5861253716, 326488.97190810705, 472863.13855305995, 326286.6988046284, 472633.48724907887, 326272.4919443841, 472490.92502144055, 326248.6816017604, 472348.9259810503, 326241.9479628006, 472251.33656474174, 326246.7547075544, 472167.69568341185, 326254.41377452563, 472102.18871764326, 326265.92341395415, 472048.61531070044, 326278.165396498, 472004.762770131, 326290.76253165235, 471968.58554290474, 326302.9354013681, 471938.43408876186, 326314.3826659033, 471913.1578660627, 326324.9351918386, 471891.82499501086, 326334.4762792094, 471873.69441509084, 326343.00355815946, 471858.1926242349, 326350.56725083047, 471844.8864887083, 326357.21890013065, 471833.41125521046, 326363.03001024504, 471823.4735481499, 326368.08420114045, 471814.8411951133, 326372.4562622898, 471807.3198049644, 326376.22518496175, 471800.7522626438, 326379.46303249494, 471795.00522515026, 326382.2363474708, 471789.9674811733, 326384.605685906, 471785.5457919812, 326386.6255040709, 471781.6602548677, 326388.34376966814, 471778.2425575952, 326389.8024494616, 471775.2342961646, 326391.03879516956, 471772.5846091098, 326392.0848431289, 471770.24960945686, 326392.96817977086, 471768.19112377847, 326393.7130708401, 471766.375878983, 326394.34094840364, 471764.77478150016, 326394.8684716247, 471763.3623055515, 326395.3108874259, 471762.1160607827, 326395.6812354765, 471761.01639210375, 326395.99064807413, 471760.04601148976, 326396.2486137686, 471759.1896990728, 326396.46320789354, 471758.4340458585, 317518.20558043633, 295276.4844176785, 261576.91755974243, 248484.8644727339, 237392.04551586043, 233724.5172834238, 228505.27011041634, 226877.31059587092, 223511.57536845835, 222648.9759118557, 220197.38597361848, 219779.5807646068, 217871.43168575453, 217770.33718839075, 216200.58449837586, 216348.00651284333, 214978.9288414037, 215336.8295824082, 214065.8628485579, 214622.51181917835, 213365.55694407882, 214129.44597405448, 212807.20898187524, 213808.49618363404, 212338.51770429892, 213633.7263160979, 211919.83499376988, 213599.20006954353, 211519.8113859802, 213714.90989194688, 211111.88729599037, 214014.0685954482, 210678.4828113707, 214562.11326402193, 210216.57280007185, 215468.70192883542, 209757.7553421908, 216911.79311525886, 209395.16164514524, 219143.3086121641, 209321.98070250993, 222410.86019904166, 209806.33296709618, 226748.24652337155, 211010.24885185214, 231598.8702781681, 212675.1161426888, 235855.05255456382, 214177.03287062966, 238647.15992580567, 215069.3968780927, 239979.6190855681, 215375.548336942, 240388.67213082022, 215351.8657954644, 240381.68174142143, 215212.8960728091, 240242.97465069537, 215064.67770250698, 240089.44572122133, 214941.87099616032, 239956.6534934097, 214848.57941324895, 239850.06462442887, 214779.76946288513, 239766.3588146225, 214729.2259740151, 239700.92757678882, 214691.86114126575, 239649.7353104574, 214663.96837358188, 239609.6120581386, 214642.94172336982, 239578.12297871622, 214626.94370607077, 239553.38767303375, 214614.66452774275, 239533.93533046174, 214605.161955003, 239518.6139828541, 214597.74952251892, 239506.52131846294, 214591.92202747436, 239496.95153982364, 214587.30443358023, 239489.35300899897, 214583.61682969748, 239483.29630959732, 214580.64936188352, 239478.4469731937, 214578.2433599807, 239474.54545429608, 214576.2786124109, 239471.39037214746, 214574.6630768743, 239468.82516045248, 214573.3260352382, 239466.72808772427, 214572.21280429105, 239465.00429369317, 219114.39305015188, 217977.71970896897, 216092.64535785385, 214863.6024624664, 214030.29694701414, 213459.3405693355, 213061.08937530674, 212777.8974647915, 212572.36797851464, 212420.07301554666, 212304.85970656655, 212215.89131246417, 212145.8307696967, 212089.63355220063, 212043.76149984912, 212005.71402731296, 211973.68736876885, 211946.35968502864, 211922.76225595, 211902.172958179, 211884.0488542535, 211867.96876652224, 211853.59573920388, 211840.66971162648, 211828.9877929074, 211818.3884127534, 211808.72912976926, 211799.8904776399, 211791.77710976137, 211784.31614856722, 211777.44199585888, 211771.08928082025, 211765.207987402, 211759.753862583, 211754.69161717454, 211749.98765564017, 211745.61110804987, 211741.5356452255, 211737.73907770982, 211734.20051030238, 211730.89733652395, 211727.81179809908, 211724.9281510349, 211722.23429632135, 211719.7149046169, 211717.35696305605, 211715.15191827947, 211713.0874758945, 211711.15708355262, 211709.34930121264, 211707.65678955687, 211706.07047053755, 211704.58303082344, 211703.19202321908, 211701.8873722511, 211700.66277577926, 211699.51308516818, 211698.43412957905, 211697.42177787857, 211696.4709460064, 211695.578231, 211694.73897523008, 211693.94987392318, 211693.20771966944, 211692.5096587786, 211691.85269075475, 211691.234209808, 211690.65181841084, 211690.10371658814, 211689.58821968982, 211689.10235896744, 211688.64433052126, 211688.2124258006, 211687.8049877896, 211687.42057920343, 211687.0578647966, 211686.71531803306, 211686.39171337074, 211686.0858489859, 211685.79675052987, 211685.52336183467, 211685.26464995227, 211685.01972452458, 211684.78775930233, 211684.5679560008, 211684.35958061062, 211684.16196921025, 211683.97450077813, 211683.79654021235, 211683.62752513005, 211683.46693159835, 211683.31425432005, 211683.16905909785, 211683.03089872713, 211682.89949492944, 211682.77431603457, 211682.65498160062, 211682.5411755684, 211682.43258658997, 211682.32889015746, 211682.27933821213, 211682.2308699998, 211682.18345148687, 211682.13706395635, 211682.09168769722, 211682.047280506, 211682.00381679495, 211681.96127481278, 211681.91963345063, 211681.8788622825, 211681.83893816877, 211681.79983858883, 211681.76154163803, 211681.72402602155, 211681.68727104636, 211681.6512566111, 211681.6159631953, 211681.58137184658, 211681.5474694713, 211681.51423428408, 211681.4816475503, 211681.44969245614, 211681.41835268802, 211681.38761241853, 211681.35745629267, 211681.32786941392, 211681.29884949976, 211681.27037052854, 211681.24241852527, 211681.21498029947, 211681.1880430543, 211681.16159437466, 211681.13562221517, 211681.11011488893, 211681.08506466905, 211681.06051015505, 211681.03638673844, 211681.0126840653, 211680.9893920872, 211680.96650329552, 211680.94400963097, 211680.9218982035, 211680.90016009478, 211680.87878664676, 211680.85776945407, 211680.83710035557, 211680.81677142688, 211680.7967783161, 211680.77711259518, 211680.75776452635, 211680.73872706117, 211680.71999335257, 211680.7015567488, 211680.68341078717, 211680.66554918795, 211680.6479658489, 211680.63065483945, 211680.61361384986, 211680.59684051457, 211680.5803225312, 211680.5640546064, 211680.54803159332, 211680.5322484865, 211680.51670041797, 211680.50138265276, 211680.48629238582, 211680.4714237035, 211680.4567718449, 211680.4423325669, 211680.42810173964, 211680.41407534335, 211680.40024946447, 211680.38662029267, 211680.37318411763, 211680.35993732582, 211680.34687639735, 211680.33399790348, 211680.3212985035, 211680.30877494207, 211680.29642404665, 211680.28424272477, 211680.27222796192, 211680.2603768187, 211680.24868642905, 211680.23715399738, 211680.2257767971, 211680.21455216792, 211680.20347751415, 211680.19255030275, 211680.18176806142, 211680.17112837656, 211680.16062980334, 211680.15027051428, 211680.14004684146, 211680.12995659013, 211680.11999761607, 211680.1101678242, 211680.10046516676, 211680.09088764255, 211680.0814332947, 211680.0767665907, 211680.07212965772, 211680.0675222757, 211680.0629442263, 211680.05839529296, 211680.05387526107, 211680.04938391765, 211680.04492135675, 211680.04048891002, 211680.03608450986, 211680.03170795075, 211680.02735902905, 211680.02303754288, 211680.01874329208, 211680.01447607848, 211680.01023570565, 211680.00602197894, 211680.00183470553, 211679.9976736943, 211679.99353875595, 211679.98942970307, 211679.98534634977, 211679.9812885121, 211679.9772560077, 211679.97324865605, 211679.96926627826, 211679.965308697, 211679.96137573692, 211679.95746722404, 211679.95358298605, 211679.9497228525, 211679.94588665423, 211679.94207422392, 211679.9382853956, 211679.93452000504, 211679.93077788947, 211679.92705888752, 211679.9233628396, 211679.9196895873, 211679.91603897393, 211679.9124108441, 211679.90880504381, 211679.9052214206, 211679.90165982337, 211679.8981201024, 211679.89460210927, 211679.89110569697, 211679.8876307198, 211679.88417703344, 211679.88074449473, 211679.87733296186, 211679.87394229436, 211679.8705723528, 211679.86722299928, 211679.86389409692, 211679.86058551006, 211679.8572971042, 211679.85402874622, 211679.85078030388, 211679.8475516463, 211679.84434264345, 211679.84115316687, 211679.83798308883, 211679.83483228274, 211679.83170062324, 211679.82858798592, 211679.82549424743, 211679.82241928537, 211679.8193629786, 211679.81632520683, 211679.81330585066, 211679.81030479196, 211679.80732191334, 211679.80435709844, 211679.80141023194, 211679.7984811993, 211679.7955698871, 211679.79267618264, 211679.78979997418, 211679.78694115102, 211679.78409960322, 211679.78127522164, 211679.77846789826, 211679.7756775256, 211679.7729039973, 211679.77014720757, 211679.76740705172, 211679.76468342563, 211679.76197622617, 211679.75928535088, 211679.7566106983, 211679.75395216743, 211679.7513096582, 211679.74868307135, 211679.74607230828, 211679.74347727123, 211679.7408978631, 211679.7383339875, 211679.7357855489, 211679.73325245234, 211679.73199351836, 211679.73073837065, 211679.72948699785, 211679.7282393884, 211679.72699553097, 211679.7257554141, 211679.72451902658, 211679.723286357, 211679.72205739425, 211679.720832127, 211679.7196105441, 211679.71839263447, 211679.71717838684, 211679.71596779028, 211679.7147608338, 211679.7135575062, 211679.7123577968, 211679.71116169437, 211679.70996918823, 211679.7087802675, 211679.70759492138, 211679.706413139, 211679.7052349097, 211679.7040602227, 211679.70288906738, 211679.70172143314, 211679.70055730926, 211679.69939668526, 211679.69823955066, 211679.69708589488, 211679.69593570748, 211679.6947889781, 211679.69364569624, 211679.69250585153, 211679.69136943383, 211679.69023643265, 211679.68910683788, 211679.68798063922, 211679.68685782654, 211679.6857383896, 211679.68462231843, 211679.68350960285, 211679.68240023282, 211679.68129419826, 211679.68019148937, 211679.67909209605, 211679.6779960084, 211679.67690321658, 211679.67581371072, 211679.67472748103, 211679.6736445177, 211679.672564811, 211679.67148856484, 211679.67041585254, 211679.66934636605, 211679.6682800958, 211679.66721703202, 211679.6661571653, 211679.66510048613, 211679.66404698495, 211679.66299665233, 211679.66194947885, 211679.6609054551, 211679.6598645717, 211679.65882681933, 211679.65779218872, 211679.65676067054, 211679.65573225555, 211679.65470693455, 211679.65368469834, 211679.6526655379, 211679.65164944384, 211679.65063640737, 211679.64962641915, 211679.64861947036, 211679.64761555183, 211679.64661465463, 211679.64561676994, 211679.64462188867, 211679.643630002, 211679.64264110115, 211679.64165517708, 211679.64067222117, 211679.6396922246, 211679.63871518496, 211679.6377413223, 211679.63677039192, 211679.6358023852, 211679.6348372936, 211679.6338751083, 211679.6329158209, 211679.63195942275, 211679.63100590542, 211679.63005526035, 211679.6291074791, 211679.62816255318, 211679.62722047415, 211679.6262812338, 211679.6253448236, 211679.6244112353, 211679.62394584672, 211679.6234811594, 211679.62301717215, 211679.6225538841, 211679.62209129412, 211679.62162940123, 211679.62116820438, 211679.6207077025, 211679.62024789478, 211679.61978877994, 211679.61933035712, 211679.6188726253, 211679.61841558345, 211679.61795923053, 211679.6175035655, 211679.61704858745, 211679.6165942953, 211679.61614068804, 211679.61568776477, 211679.61523552434, 211679.6147839658, 211679.61433308825, 211679.61388289055, 211679.61343337182, 211679.61298453104, 211679.61253636717, 211679.61208887916, 211679.61164206616, 211679.61119592714, 211679.61075046103, 211679.61030566692, 211679.6098615439, 211679.60941809078, 211679.60897530682, 211679.60853319083, 211679.60809174195, 211679.6076509592, 211679.60721084158, 211679.60677138806, 211679.60633259776, 211679.60589446969, 211679.60545700282, 211679.60502019626, 211679.60458404903, 211679.60414856012, 211679.60371372857, 211679.60327955347, 211679.6028460338, 211679.60241316864, 211679.60198095706, 211679.60154939804, 211679.60111849068, 211679.60068823397, 211679.60025862695, 211679.5998296687, 211679.59940135837, 211679.59897369487, 211679.5985466773, 211679.59812030476, 211679.5976945762, 211679.59726949074, 211679.59684504746, 211679.59642124543, 211679.59599808368, 211679.59557556128, 211679.59515367722, 211679.59473243076, 211679.59431182075, 211679.59389184642, 211679.59347250673, 211679.59305380087, 211679.59263572775, 211679.5922182866, 211679.5918014764, 211679.59138529628, 211679.59096974533, 211679.59055482264, 211679.5901405272, 211679.58972685813, 211679.5893138146, 211679.58890139556, 211679.5884896002, 211679.58807842757, 211679.58766787674, 211679.5872579469, 211679.58684863703, 211679.58643994626, 211679.58603187365, 211679.58562441843, 211679.58521757953, 211679.5848113561, 211679.58440574733, 211679.58400075225, 211679.58359636992, 211679.58319259953, 211679.58278944017, 211679.58238689092, 211679.5819849508, 211679.58158361918, 211679.5811828949, 211679.58098283585, 211679.5807829283, 211679.58058317192, 211679.58038356676, 211679.58018411274, 211679.5799848096, 211679.57978565735, 211679.5795866558, 211679.57938780496, 211679.57918910458, 211679.57899055473, 211679.5787921551, 211679.57859390567, 211679.57839580634, 211679.57819785702, 211679.57800005755, 211679.5778024078, 211679.57760490774, 211679.57740755728, 211679.57721035613, 211679.57701330437, 211679.57681640182, 211679.5766196484, 211679.57642304394, 211679.57622658837, 211679.5760302816, 211679.57583412348, 211679.5756381139, 211679.57544225283, 211679.5752465401, 211679.5750509756, 211679.5748555592, 211679.57466029088, 211679.5744651704, 211679.57427019786, 211679.57407537292, 211679.57388069553, 211679.5736861657, 211679.5734917832, 211679.57329754805, 211679.57310345996, 211679.57290951902, 211679.572715725, 211679.57252207783, 211679.57232857737, 211679.57213522348, 211679.5719420162, 211679.57174895526, 211679.57155604064, 211679.57136327223, 211679.57117064996, 211679.57097817364, 211679.57078584319, 211679.57059365854, 211679.57040161957, 211679.57020972617, 211679.57001797817, 211679.56982637552, 211679.56963491818, 211679.56944360587, 211679.56925243867, 211679.5690614164, 211679.56887053893, 211679.56867980617, 211679.56848921799, 211679.56829877436, 211679.56810847518, 211679.56791832016, 211679.5677283094, 211679.56753844276, 211679.56734872007, 211679.56715914124, 211679.56696970615, 211679.56678041472, 211679.5665912669, 211679.56640226248, 211679.56621340147, 211679.56602468368, 211679.56583610905, 211679.56564767743, 211679.56545938872, 211679.5652712429, 211679.56508323972, 211679.56489537924, 211679.56470766122, 211679.56452008567, 211679.56433265234, 211679.5641453613, 211679.5639582123, 211679.56377120534, 211679.56358434027, 211679.56339761702, 211679.56321103536, 211679.56302459532, 211679.56283829684, 211679.5626521396, 211679.56246612378, 211679.56228024905, 211679.56209451542, 211679.56190892268, 211679.56181619677, 211679.56172350602, 211679.5616308504, 211679.56153823, 211679.5614456447, 211679.56135309458, 211679.56126057956, 211679.5611680997, 211679.56107565484, 211679.56098324517, 211679.5608908705, 211679.56079853093, 211679.56070622642, 211679.56061395686, 211679.5605217224, 211679.56042952294, 211679.56033735847, 211679.56024522902, 211679.56015313455, 211679.56006107494, 211679.5599690504, 211679.5598770607, 211679.55978510596, 211679.55969318605, 211679.55960130107, 211679.55950945104, 211679.55941763584, 211679.5593258555, 211679.55923411, 211679.55914239932, 211679.5590507235, 211679.5589590825, 211679.5588674762, 211679.55877590476, 211679.55868436804, 211679.55859286612, 211679.55850139892, 211679.55840996647, 211679.5583185687, 211679.55822720568, 211679.55813587736, 211679.55804458368, 211679.5579533247, 211679.55786210028, 211679.5577709106, 211679.5576797555, 211679.55758863504, 211679.55749754913, 211679.55740649794, 211679.55731548122, 211679.55722449912, 211679.55713355154, 211679.5570426385, 211679.55695176005, 211679.55686091605, 211679.55677010657, 211679.5566793316, 211679.55658859108, 211679.55649788506, 211679.55640721344, 211679.55631657626, 211679.5562259736, 211679.55613540526, 211679.55604487134, 211679.5559543718, 211679.55586390666, 211679.5557734759, 211679.55568307952, 211679.55559271737, 211679.55550238964, 211679.5554120962, 211679.55532183708, 211679.55523161226, 211679.55514142168, 211679.5550512654, 211679.55496114335, 211679.55487105556, 211679.554781002, 211679.55469098262, 211679.55460099745, 211679.5545110465, 211679.5544211297, 211679.55433124708, 211679.5542413986, 211679.55415158428, 211679.55406180405, 211679.55397205797, 211679.55388234602, 211679.5537926681, 211679.5537030243, 211679.55361341452, 211679.5535238389, 211679.55343429724, 211679.55334478963, 211679.553255316, 211679.55316587642, 211679.55307647074, 211679.55298709913, 211679.55289776146, 211679.55280845775, 211679.55276382284, 211679.55271919648, 211679.5526745785, 211679.55262996908, 211679.55258536813, 211679.5525407756, 211679.5524961916, 211679.55245161604, 211679.55240704896, 211679.55236249033, 211679.55231794022, 211679.55227339853, 211679.55222886533, 211679.5521843406, 211679.5521398243, 211679.55209531655, 211679.55205081715, 211679.55200632624, 211679.55196184377, 211679.55191736986, 211679.55187290427, 211679.5518284472, 211679.55178399856, 211679.55173955837, 211679.5516951266, 211679.5516507033, 211679.5516062885, 211679.55156188205, 211679.55151748413, 211679.55147309456, 211679.55142871346, 211679.55138434083, 211679.55133997655, 211679.5512956208, 211679.5512512734, 211679.5512069345, 211679.551162604, 211679.55111828193, 211679.5510739683, 211679.55102966307, 211679.55098536628, 211679.55094107788, 211679.5508967979, 211679.5508525264, 211679.55080826324, 211679.55076400854, 211679.55071976222, 211679.5506755243, 211679.55063129487, 211679.5505870738, 211679.5505428611, 211679.5504986569, 211679.55045446102, 211679.55041027357, 211679.5503660945, 211679.55032192386, 211679.55027776165, 211679.55023360776, 211679.5501894623, 211679.55014532522, 211679.55010119654, 211679.5500570763, 211679.55001296432, 211679.5499688608, 211679.54992476568, 211679.549880679, 211679.54983660058, 211679.54979253063, 211679.54974846906, 211679.54970441584, 211679.54966037098, 211679.5496163345, 211679.5495723064, 211679.54952828668, 211679.54948427534, 211679.54944027236, 211679.54939627775, 211679.54935229145, 211679.54930831358, 211679.54926434407, 211679.5492203829, 211679.5491764301, 211679.54913248564, 211679.54908854957, 211679.54904462185, 211679.54900070248, 211679.54895679146, 211679.54891288874, 211679.54886899443, 211679.54882510845, 211679.5487812308, 211679.54873736156, 211679.54869350058, 211679.54864964797, 211679.54860580372, 211679.5485619678, 211679.54851814016, 211679.54847432088, 211679.54843050998, 211679.54838670738, 211679.54836481024, 211679.54834291522, 211679.54832102222, 211679.5482991313, 211679.54827724252, 211679.5482553558, 211679.54823347117, 211679.54821158858, 211679.54818970812, 211679.54816782972, 211679.5481459534, 211679.54812407916, 211679.54810220702, 211679.548080337, 211679.54805846894, 211679.54803660302, 211679.5480147392, 211679.5479928774, 211679.54797101775, 211679.54794916013, 211679.54792730464, 211679.5479054512, 211679.5478835998, 211679.54786175053, 211679.54783990327, 211679.54781805817, 211679.5477962151, 211679.54777437416, 211679.54775253526, 211679.54773069842, 211679.54770886368, 211679.54768703104, 211679.5476652004, 211679.54764337192, 211679.54762154544, 211679.54759972106, 211679.5475778988, 211679.54755607859, 211679.54753426043, 211679.54751244438, 211679.54749063036, 211679.54746881846, 211679.54744700866, 211679.5474252009, 211679.5474033952, 211679.54738159155, 211679.54735979007, 211679.54733799057, 211679.54731619314, 211679.54729439787, 211679.5472726046, 211679.54725081343, 211679.54722902432, 211679.54720723734, 211679.5471854523, 211679.54716366946, 211679.54714188862, 211679.54712010987, 211679.5470983332, 211679.5470765586, 211679.54705478615, 211679.5470330156, 211679.54701124725, 211679.54698948094, 211679.54696771665, 211679.54694595453, 211679.5469241944, 211679.5469024364, 211679.54688068043, 211679.5468589265, 211679.5468371747, 211679.54681542492, 211679.54679367726, 211679.54677193164, 211679.54675018805, 211679.54672844658, 211679.5467067072, 211679.5466849698, 211679.54666323456, 211679.54664150137, 211679.54661977018, 211679.5465980411, 211679.5465763141, 211679.54655458912, 211679.54653286628, 211679.54651114545, 211679.54648942672, 211679.54646771005, 211679.54644599542, 211679.5464242829, 211679.5464025724, 211679.54638086396, 211679.54635915763, 211679.54633745333, 211679.54631575115, 211679.54629405096, 211679.5462723528, 211679.54625065683, 211679.5462289629, 211679.546207271, 211679.54619642606, 211679.54618558165, 211679.5461747377, 211679.54616389438, 211679.54615305155, 211679.54614220915, 211679.54613136733, 211679.54612052604, 211679.54610968524, 211679.54609884496, 211679.54608800524, 211679.546077166, 211679.5460663272, 211679.546055489, 211679.54604465133, 211679.5460338141, 211679.54602297745, 211679.5460121413, 211679.54600130572, 211679.54599047056, 211679.54597963594, 211679.54596880186, 211679.54595796828, 211679.54594713522, 211679.54593630266, 211679.54592547062, 211679.5459146391, 211679.54590380815, 211679.54589297762, 211679.54588214768, 211679.5458713182, 211679.5458604893, 211679.54584966088, 211679.54583883294, 211679.54582800556, 211679.54581717864, 211679.5458063523, 211679.54579552644, 211679.5457847011, 211679.5457738763, 211679.54576305198, 211679.54575222815, 211679.54574140493, 211679.54573058218, 211679.5457197599, 211679.5457089382, 211679.545698117, 211679.54568729628, 211679.5456764761, 211679.54566565642, 211679.5456548373, 211679.54564401865, 211679.5456332005, 211679.54562238292, 211679.54561156576, 211679.5456007492, 211679.54558993308, 211679.54557911755, 211679.5455683025, 211679.545557488, 211679.545546674, 211679.5455358605, 211679.54552504758, 211679.54551423504, 211679.54550342308, 211679.5454926116, 211679.5454818007, 211679.54547099033, 211679.54546018038, 211679.54544937107, 211679.54543856214, 211679.54542775382, 211679.54541694597, 211679.54540613858, 211679.54539533186, 211679.54538452558, 211679.54537371977, 211679.54536291448, 211679.54535210977, 211679.54534130546, 211679.54533050174, 211679.5453196986, 211679.5453088959, 211679.5452980937, 211679.54528729204, 211679.54527649083, 211679.5452656902, 211679.5452548901, 211679.54524409046, 211679.5452332914, 211679.54522249274, 211679.54521169467, 211679.54520089715, 211679.54519010015, 211679.54517930362, 211679.5451685076, 211679.54515771204, 211679.54514691705, 211679.5451361226, 211679.54512532864, 211679.54511993192, 211679.54511453529, 211679.54510913882, 211679.5451037425, 211679.54509834622, 211679.5450929502, 211679.54508755426, 211679.54508215844, 211679.54507676273, 211679.54507136717, 211679.54506597173, 211679.5450605764, 211679.54505518122, 211679.5450497862, 211679.5450443912, 211679.54503899644, 211679.54503360175, 211679.54502820718, 211679.5450228128, 211679.54501741854, 211679.54501202432, 211679.5450066303, 211679.5450012364, 211679.54499584268, 211679.54499044898, 211679.5449850555, 211679.54497966208, 211679.54497426885, 211679.54496887568, 211679.5449634827, 211679.54495808983, 211679.5449526971, 211679.54494730447, 211679.544941912, 211679.5449365196, 211679.54493112737, 211679.54492573527, 211679.5449203433, 211679.54491495143, 211679.54490955969, 211679.5449041681, 211679.54489877663, 211679.54489338532, 211679.5448879941, 211679.54488260302, 211679.5448772121, 211679.5448718212, 211679.5448664305, 211679.54486104, 211679.54485564952, 211679.5448502592, 211679.54484486906, 211679.54483947894, 211679.54483408906, 211679.5448286992, 211679.54482330958, 211679.54481792008, 211679.54481253063, 211679.54480714136, 211679.5448017521, 211679.54479636313, 211679.54479097427, 211679.54478558552, 211679.54478019685, 211679.54477480834, 211679.54476941994, 211679.5447640317, 211679.54475864355, 211679.5447532556, 211679.54474786765, 211679.54474247992, 211679.54473709234, 211679.54473170484, 211679.5447263175, 211679.54472093022, 211679.54471554313, 211679.54471015613, 211679.5447047693, 211679.5446993826, 211679.54469399602, 211679.54468860955, 211679.54468322318, 211679.544677837, 211679.54467245092, 211679.54466706497, 211679.54466167913, 211679.54465629344, 211679.54465090786, 211679.54464552243, 211679.54464013714, 211679.54463475192, 211679.5446293669, 211679.54462398196, 211679.54461859717, 211679.5446132125, 211679.54460782796, 211679.54460244352, 211679.54459705923, 211679.54459167505, 211679.54458629104, 211679.54458359908, 211679.54458090715, 211679.5445782153, 211679.5445755235, 211679.5445728316, 211679.54457013984, 211679.54456744806, 211679.54456475636, 211679.54456206466, 211679.54455937297, 211679.54455668136, 211679.54455398972, 211679.54455129823, 211679.54454860667, 211679.54454591515, 211679.5445432237, 211679.54454053225, 211679.54453784085, 211679.54453514947, 211679.54453245812, 211679.54452976683, 211679.54452707552, 211679.54452438428, 211679.54452169305, 211679.54451900188, 211679.54451631074, 211679.54451361962, 211679.54451092856, 211679.5445082375, 211679.54450554645, 211679.54450285542, 211679.54450016457, 211679.54449747351, 211679.5444947827, 211679.5444920918, 211679.544489401, 211679.5444867102, 211679.54448401945, 211679.5444813287, 211679.54447863798, 211679.54447594733, 211679.54447325665, 211679.54447056603, 211679.5444678755, 211679.54446518497, 211679.54446249446, 211679.544459804, 211679.54445711354, 211679.54445442316, 211679.54445173274, 211679.54444904235, 211679.54444635205, 211679.54444366178, 211679.54444097148, 211679.5444382813, 211679.54443559115, 211679.544432901, 211679.54443021084, 211679.54442752074, 211679.54442483064, 211679.54442214064, 211679.54441945066, 211679.54441676068, 211679.54441407076, 211679.54441138086, 211679.54440869097, 211679.5444060011, 211679.5444033113, 211679.54440062155, 211679.5443979318, 211679.54439524206, 211679.5443925524, 211679.54438986277, 211679.54438717314, 211679.54438448357, 211679.54438179405, 211679.5443791045, 211679.54437641503, 211679.54437372557, 211679.54437103617, 211679.54436834675, 211679.54436565735, 211679.54436296807, 211679.54436027876, 211679.5443575895, 211679.54435490025, 211679.54435221112, 211679.54434952198, 211679.54434683276, 211679.54434414368, 211679.5443414546, 211679.54433876553, 211679.54433607653, 211679.54433338757, 211679.54433069864, 211679.5443280097, 211679.54432532087, 211679.54432263202, 211679.5443199432, 211679.54431725442, 211679.54431591003, 211679.54431456566, 211679.54431322135, 211679.54431187696, 211679.54431053263, 211679.54430918826, 211679.54430784396, 211679.54430649965, 211679.54430515532, 211679.544303811, 211679.54430246673, 211679.54430112243, 211679.54429977818, 211679.54429843382, 211679.54429708963, 211679.54429574535, 211679.5442944011, 211679.54429305685, 211679.54429171266, 211679.5442903684, 211679.5442890242, 211679.54428768, 211679.54428633582, 211679.54428499163, 211679.54428364744, 211679.54428230325, 211679.5442809591, 211679.54427961493, 211679.54427827074, 211679.54427692658, 211679.54427558248, 211679.54427423835, 211679.5442728942, 211679.54427155005, 211679.544270206, 211679.54426886188, 211679.54426751786, 211679.54426617373, 211679.5442648297, 211679.54426348562, 211679.5442621416, 211679.5442607975, 211679.54425945345, 211679.54425810947, 211679.5442567654, 211679.54425542138, 211679.5442540774, 211679.54425273338, 211679.54425138942, 211679.5442500454, 211679.54424870148, 211679.5442473574, 211679.5442460135, 211679.54424466955, 211679.54424332565, 211679.5442419817, 211679.54424063774, 211679.5442392938, 211679.54423794989, 211679.54423660605, 211679.54423526215, 211679.54423391825, 211679.5442325744, 211679.5442312305, 211679.54422988664, 211679.54422854277, 211679.5442271989, 211679.5442258551, 211679.54422451125, 211679.5442231674, 211679.54422182363, 211679.5442204798, 211679.544219136, 211679.54421779222, 211679.54421644838, 211679.54421510466, 211679.54421376088, 211679.54421241712, 211679.54421107334, 211679.54420972962, 211679.5442083859, 211679.54420704217, 211679.54420569848, 211679.54420435475, 211679.54420301103, 211679.54420166736, 211679.54420032364, 211679.54419897997, 211679.54419763628, 211679.5441962926, 211679.54419494898, 211679.54419360528, 211679.54419226164, 211679.544190918, 211679.54418957443, 211679.54418823085, 211679.54418688724, 211679.54418554364, 211679.54418420003, 211679.54418285645, 211679.54418218465, 211679.54418151287, 211679.54418084107, 211679.54418016932, 211679.54417949752, 211679.54417882574, 211679.544178154, 211679.54417748222, 211679.54417681042, 211679.54417613868, 211679.54417546687, 211679.54417479513, 211679.54417412338, 211679.54417345158, 211679.54417277983, 211679.54417210806, 211679.5441714363, 211679.54417076457, 211679.54417009282, 211679.54416942105, 211679.54416874933, 211679.54416807758, 211679.54416740584, 211679.54416673406, 211679.54416606235, 211679.5441653906, 211679.54416471883, 211679.5441640471, 211679.54416337542, 211679.5441627037, 211679.54416203196, 211679.54416136022, 211679.5441606885, 211679.54416001678, 211679.54415934507, 211679.54415867332, 211679.5441580016, 211679.5441573299, 211679.5441566582, 211679.54415598646, 211679.54415531474, 211679.54415464308, 211679.5441539714, 211679.54415329968, 211679.54415262796, 211679.54415195627, 211679.5441512846, 211679.5441506129, 211679.54414994115, 211679.54414926944, 211679.5441485978, 211679.5441479261, 211679.5441472544, 211679.54414658275, 211679.54414591106, 211679.54414523943, 211679.54414456766, 211679.54414389603, 211679.54414322437, 211679.54414255265, 211679.54414188102, 211679.5441412094, 211679.5441405377, 211679.54413986602, 211679.54413919436, 211679.5441385227, 211679.54413785104, 211679.5441371794, 211679.5441365078, 211679.5441358361, 211679.54413516444, 211679.54413449278, 211679.54413382118, 211679.5441331495, 211679.5441324779, 211679.5441318062, 211679.5441311346, 211679.54413046295, 211679.54412979132, 211679.54412911972, 211679.54412844812, 211679.54412777643, 211679.54412710483, 211679.5441264332, 211679.54412576157, 211679.54412508995, 211679.54412441835, 211679.54412374677, 211679.54412307515, 211679.54412240352, 211679.54412173186, 211679.54412106032, 211679.5441203887, 211679.54411971706, 211679.54411904543, 211679.5441183739, 211679.54411770226, 211679.5441170307, 211679.54411635912, 211679.5441156875, 211679.54411535172, 211679.5441150159, 211679.5441146801, 211679.54411434435, 211679.54411400852, 211679.54411367272, 211679.54411333695, 211679.54411300112, 211679.5441126654, 211679.5441123296, 211679.54411199383, 211679.544111658, 211679.5441113222, 211679.5441109864, 211679.54411065063, 211679.54411031483, 211679.5441099791, 211679.5441096433, 211679.5441093075, 211679.54410897172, 211679.54410863595, 211679.54410830015, 211679.54410796435, 211679.54410762858, 211679.5441072928, 211679.544106957, 211679.54410662124, 211679.54410628544, 211679.54410594964, 211679.54410561392, 211679.54410527812, 211679.54410494232, 211679.54410460655, 211679.54410427078, 211679.54410393495, 211679.5441035992, 211679.5441032634, 211679.54410292764, 211679.5441025919, 211679.54410225607, 211679.54410192036, 211679.54410158456, 211679.54410124882, 211679.54410091304, 211679.54410057724, 211679.54410024147, 211679.54409990567, 211679.5440995699, 211679.5440992342, 211679.54409889836, 211679.54409856262, 211679.54409822682, 211679.5440978911, 211679.54409755534, 211679.5440972196, 211679.5440968838, 211679.54409654802, 211679.54409621222, 211679.5440958765, 211679.54409554074, 211679.54409520497, 211679.5440948692, 211679.5440945334, 211679.54409419768, 211679.5440938619, 211679.54409352614, 211679.5440931904, 211679.5440928547, 211679.54409251886, 211679.5440921831, 211679.54409184738, 211679.5440915116, 211679.5440911758, 211679.5440908401, 211679.54409050432, 211679.5440901686, 211679.54408983284, 211679.54408949707, 211679.54408916127, 211679.54408882555, 211679.54408848978, 211679.54408815404, 211679.5440878183, 211679.5440874826, 211679.54408714676, 211679.54408681105, 211679.54408647527, 211679.54408613956, 211679.54408580382, 211679.54408546802, 211679.54408513225, 211679.5440847965, 211679.5440844608, 211679.54408412502, 211679.54408378928, 211679.54408345357, 211679.5440831178, 211679.54408278203, 211679.5440824463, 211679.54408211057, 211679.5440819427, 211679.54408177477, 211679.544081607, 211679.54408143906, 211679.54408127125, 211679.54408110332, 211679.54408093548, 211679.5440807676, 211679.54408059974, 211679.54408043186, 211679.54408026396, 211679.54408009606, 211679.5440799282, 211679.54407976035, 211679.54407959245, 211679.54407942458, 211679.5440792567, 211679.5440790888, 211679.54407892097, 211679.54407875307, 211679.5440785852, 211679.54407841738, 211679.54407824948, 211679.54407808164, 211679.5440779137, 211679.54407774584, 211679.544077578, 211679.54407741016, 211679.5440772423, 211679.5440770744, 211679.54407690655, 211679.54407673865, 211679.5440765708, 211679.54407640293, 211679.54407623503, 211679.5440760672, 211679.54407589932, 211679.54407573148, 211679.54407556364, 211679.54407539577, 211679.54407522787, 211679.54407506002, 211679.54407489215, 211679.5440747243, 211679.54407455644, 211679.54407438857, 211679.5440742207, 211679.54407405286, 211679.54407388502, 211679.5440737171, 211679.54407354924, 211679.54407338137, 211679.5440732135, 211679.54407304563, 211679.54407287773, 211679.5440727099, 211679.54407254202, 211679.54407237418, 211679.5440722063, 211679.54407203835, 211679.54407187054, 211679.54407170266, 211679.5440715348, 211679.54407136692, 211679.54407119908, 211679.5440710312, 211679.54407086334, 211679.54407069553, 211679.54407052763, 211679.5440703597, 211679.54407019186, 211679.544070024, 211679.54406985614, 211679.54406968827, 211679.54406952043, 211679.5440693526, 211679.54406918472, 211679.5440690169, 211679.54406884898, 211679.54406868113, 211679.5440685133, 211679.54406834542, 211679.54406817755, 211679.5440680097, 211679.54406784187, 211679.54406767403, 211679.54406750613, 211679.54406733828, 211679.54406717047, 211679.5440670026, 211679.54406683473, 211679.5440666669, 211679.54406649902, 211679.54406633112, 211679.54406616327, 211679.5440659954, 211679.54406582753, 211679.54406565972, 211679.54406549176, 211679.54406532392, 211679.54406524004, 211679.54406515608, 211679.5440650722, 211679.54406498827, 211679.5440649043, 211679.54406482042, 211679.54406473646, 211679.54406465252, 211679.54406456865, 211679.5440644847, 211679.54406440078, 211679.54406431687, 211679.54406423296, 211679.54406414903, 211679.54406406512, 211679.54406398116, 211679.54406389728, 211679.54406381337, 211679.54406372944, 211679.5440636455, 211679.5440635616, 211679.54406347766, 211679.54406339375, 211679.54406330982, 211679.5440632259, 211679.544063142, 211679.54406305804, 211679.5440629741, 211679.54406289023, 211679.54406280626, 211679.54406272233, 211679.54406263836, 211679.54406255443, 211679.54406247055, 211679.54406238656, 211679.54406230262, 211679.5440622187, 211679.5440621347, 211679.5440620508, 211679.54406196688, 211679.54406188295, 211679.54406179898, 211679.54406171507, 211679.5440616311, 211679.54406154717, 211679.5440614632, 211679.5440613793, 211679.54406129537, 211679.54406121143, 211679.5440611275, 211679.54406104353, 211679.5440609596, 211679.54406087572, 211679.54406079173, 211679.54406070782, 211679.54406062388, 211679.54406053992, 211679.544060456, 211679.54406037208, 211679.54406028817, 211679.5440602042, 211679.54406012027, 211679.54406003634, 211679.5440599524, 211679.54405986847, 211679.5440597846, 211679.54405970065, 211679.54405961666, 211679.5440595327, 211679.54405944882, 211679.54405936485, 211679.54405928098, 211679.54405919698, 211679.54405911308, 211679.54405902917, 211679.54405894518, 211679.54405886127, 211679.54405877733, 211679.54405869343, 211679.54405860952, 211679.54405852553, 211679.54405844162, 211679.5440583577, 211679.54405827378, 211679.54405818987, 211679.54405810588, 211679.54405802197, 211679.54405793804, 211679.54405785413, 211679.54405777017, 211679.5440576863, 211679.54405760232, 211679.5440575184, 211679.54405743448, 211679.5440573505, 211679.5440572666, 211679.54405718265, 211679.54405709874, 211679.5440570148, 211679.54405693087, 211679.54405688893, 211679.544056847, 211679.54405680505, 211679.54405676306, 211679.5440567211, 211679.54405667915, 211679.5440566372, 211679.54405659524, 211679.54405655328, 211679.54405651137, 211679.54405646937, 211679.54405642743, 211679.5440563855, 211679.54405634355, 211679.5440563016, 211679.5440562596, 211679.54405621765, 211679.54405617577, 211679.54405613377, 211679.5440560918, 211679.5440560499, 211679.54405600793, 211679.54405596596, 211679.54405592405, 211679.54405588206, 211679.54405584012, 211679.54405579818, 211679.54405575618, 211679.54405571424, 211679.54405567225, 211679.54405563025, 211679.5440555883, 211679.5440555463, 211679.54405550432, 211679.54405546238, 211679.5440554204, 211679.5440553784, 211679.54405533648, 211679.54405529454, 211679.5440552525, 211679.5440552105, 211679.54405516858, 211679.54405512664, 211679.54405508464, 211679.54405504267, 211679.5440550007, 211679.54405495868, 211679.54405491674, 211679.5440548748, 211679.54405483283, 211679.54405479087, 211679.5440547489, 211679.5440547069, 211679.5440546649, 211679.54405462297, 211679.54405458094, 211679.544054539, 211679.54405449706, 211679.54405445507, 211679.54405441307, 211679.54405437107, 211679.5440543291, 211679.54405428717, 211679.5440542452, 211679.5440542032, 211679.54405416123, 211679.54405411927, 211679.54405407727, 211679.54405403533, 211679.54405399336, 211679.54405395142, 211679.5440539094, 211679.5440538675, 211679.5440538255, 211679.5440537835, 211679.54405374156, 211679.54405369956, 211679.54405365756, 211679.54405361565, 211679.54405357366, 211679.54405353166, 211679.5440534897, 211679.54405344775, 211679.54405340573, 211679.5440533638, 211679.54405332182, 211679.54405327985, 211679.54405323786, 211679.54405319592, 211679.54405315395, 211679.54405311195, 211679.54405306999, 211679.54405302802, 211679.54405298602, 211679.54405294408, 211679.54405290214, 211679.54405286012, 211679.54405281812, 211679.54405277618, 211679.5440527342, 211679.5440527132, 211679.54405269228, 211679.54405267126, 211679.54405265028, 211679.5440526293, 211679.54405260834, 211679.5440525873, 211679.54405256634, 211679.54405254533, 211679.54405252435, 211679.54405250333, 211679.54405248235, 211679.5440524614, 211679.54405244038, 211679.54405241943, 211679.54405239844, 211679.54405237746, 211679.54405235648, 211679.5440523355, 211679.54405231448, 211679.5440522935, 211679.54405227254, 211679.54405225153, 211679.54405223054, 211679.54405220962, 211679.54405218855, 211679.54405216762, 211679.5440521466, 211679.54405212565, 211679.54405210467, 211679.54405208366, 211679.54405206267, 211679.54405204172, 211679.54405202073, 211679.54405199975, 211679.54405197877, 211679.54405195775, 211679.5440519368, 211679.54405191584, 211679.54405189483, 211679.5440518738, 211679.54405185283, 211679.54405183185, 211679.5440518109, 211679.54405178985, 211679.5440517689, 211679.54405174791, 211679.54405172696, 211679.54405170595, 211679.544051685, 211679.54405166395, 211679.544051643, 211679.544051622, 211679.54405160106, 211679.54405158001, 211679.54405155906, 211679.54405153808, 211679.54405151706, 211679.5440514961, 211679.54405147512, 211679.5440514541, 211679.54405143316, 211679.54405141211, 211679.54405139116, 211679.54405137015, 211679.54405134922, 211679.5440513282, 211679.54405130725, 211679.54405128624, 211679.5440512652, 211679.54405124427, 211679.54405122326, 211679.54405120228, 211679.54405118132, 211679.5440511603, 211679.54405113932, 211679.54405111837, 211679.54405109736, 211679.54405107637, 211679.5440510554, 211679.5440510344, 211679.54405101345, 211679.54405099244, 211679.54405097145, 211679.54405095047, 211679.54405092946, 211679.5440509085, 211679.5440508875, 211679.54405086656, 211679.54405084552, 211679.54405082457, 211679.54405080358, 211679.54405078254, 211679.54405076161, 211679.5440507406, 211679.54405071962, 211679.54405069866, 211679.54405067768, 211679.54405065667, 211679.54405063568, 211679.54405062518, 211679.5440506147, 211679.5440506042, 211679.54405059374, 211679.54405058324, 211679.5440505727, 211679.54405056225, 211679.54405055178, 211679.54405054127, 211679.54405053073, 211679.5440505203, 211679.54405050978, 211679.5440504993, 211679.5440504888, 211679.54405047832, 211679.5440504678, 211679.54405045736, 211679.54405044683, 211679.54405043632, 211679.54405042587, 211679.54405041537, 211679.54405040486, 211679.5440503944, 211679.5440503839, 211679.54405037337, 211679.5440503629, 211679.54405035244, 211679.54405034197, 211679.54405033143, 211679.54405032092, 211679.54405031045, 211679.54405029997, 211679.54405028946, 211679.544050279, 211679.54405026848, 211679.54405025797, 211679.5440502475, 211679.544050237, 211679.54405022648, 211679.54405021603, 211679.54405020553, 211679.544050195, 211679.54405018454, 211679.54405017407, 211679.54405016356, 211679.54405015305, 211679.5440501426, 211679.5440501321, 211679.5440501216, 211679.54405011112, 211679.5440501006, 211679.54405009013, 211679.54405007962, 211679.54405006915, 211679.54405005864, 211679.5440500482, 211679.5440500377, 211679.5440500272, 211679.5440500167, 211679.54405000623, 211679.54404999572, 211679.5440499852, 211679.54404997476, 211679.54404996426, 211679.54404995375, 211679.54404994327, 211679.54404993283, 211679.54404992232, 211679.5440499118, 211679.5440499013, 211679.54404989083, 211679.54404988032, 211679.54404986984, 211679.54404985937, 211679.5440498488, 211679.54404983835, 211679.5440498279, 211679.54404981746, 211679.5440498069, 211679.5440497964, 211679.54404978594, 211679.54404977543, 211679.54404976493, 211679.54404975448, 211679.54404974397, 211679.54404973343, 211679.544049723, 211679.54404971254, 211679.54404970203, 211679.5440496915, 211679.54404968105, 211679.5440496705, 211679.54404966, 211679.54404964956, 211679.54404963908, 211679.5440496286, 211679.54404961807, 211679.5440496076, 211679.54404959705, 211679.54404958664, 211679.54404958137, 211679.54404957616, 211679.5440495709, 211679.54404956565, 211679.54404956044, 211679.5440495552, 211679.54404954996, 211679.5440495447, 211679.54404953946, 211679.54404953425, 211679.54404952898, 211679.54404952374, 211679.5440495185, 211679.5440495133, 211679.54404950808, 211679.54404950285, 211679.54404949752, 211679.54404949234, 211679.5440494871, 211679.54404948186, 211679.54404947662, 211679.54404947135, 211679.54404946615, 211679.54404946088, 211679.54404945564, 211679.5440494504, 211679.54404944522, 211679.54404943995, 211679.5440494347, 211679.54404942947, 211679.5440494242, 211679.54404941897, 211679.54404941376, 211679.5440494085, 211679.54404940328, 211679.54404939804, 211679.5440493928, 211679.54404938754, 211679.54404938233, 211679.54404937706, 211679.54404937185, 211679.54404936664, 211679.5440493614, 211679.54404935613, 211679.54404935086, 211679.54404934563, 211679.54404934042, 211679.54404933518, 211679.54404932997, 211679.5440493247, 211679.54404931946, 211679.54404931425, 211679.544049309, 211679.54404930377, 211679.5440492985, 211679.54404929327, 211679.54404928806, 211679.5440492828, 211679.54404927755, 211679.5440492723, 211679.54404926708, 211679.54404926187, 211679.5440492566, 211679.54404925136, 211679.5440492461, 211679.54404924088, 211679.54404923564, 211679.54404923043, 211679.5440492252, 211679.54404921996, 211679.5440492147, 211679.54404920945, 211679.54404920424, 211679.54404919897, 211679.54404919376, 211679.54404918852, 211679.5440491833, 211679.54404917802, 211679.54404917278, 211679.54404916754, 211679.54404916227, 211679.5440491571, 211679.54404915188, 211679.54404914659, 211679.54404914138, 211679.5440491361, 211679.5440491309, 211679.5440491257, 211679.54404912045, 211679.54404911518, 211679.54404910997, 211679.5440491047, 211679.54404909947, 211679.5440490942, 211679.544049089, 211679.5440490838, 211679.54404907854, 211679.5440490733, 211679.54404906803, 211679.5440490628, 211679.5440490602, 211679.5440490576, 211679.54404905497, 211679.5440490523, 211679.54404904973, 211679.5440490471, 211679.54404904446, 211679.54404904178, 211679.5440490392, 211679.54404903654, 211679.5440490339, 211679.54404903128, 211679.5440490287, 211679.54404902604, 211679.5440490234, 211679.54404902083, 211679.5440490182, 211679.54404901556, 211679.54404901297, 211679.54404901032, 211679.5440490077, 211679.54404900502, 211679.5440490024, 211679.54404899979, 211679.54404899714, 211679.54404899452, 211679.5440489919, 211679.54404898928, 211679.54404898666, 211679.54404898407, 211679.54404898145, 211679.5440489788, 211679.5440489762, 211679.54404897353, 211679.5440489709, 211679.54404896824, 211679.54404896565, 211679.544048963, 211679.5440489604, 211679.5440489578, 211679.54404895517, 211679.54404895252, 211679.54404894984, 211679.5440489472, 211679.54404894466, 211679.544048942, 211679.54404893942, 211679.54404893675, 211679.54404893413, 211679.5440489315, 211679.5440489289, 211679.54404892627, 211679.54404892365, 211679.54404892097, 211679.54404891838, 211679.54404891576, 211679.54404891314, 211679.5440489105, 211679.54404890788, 211679.54404890526, 211679.54404890258, 211679.5440489, 211679.54404889734, 211679.54404889475, 211679.5440488921, 211679.5440488895, 211679.54404888686, 211679.54404888424, 211679.54404888162, 211679.54404887898, 211679.54404887633, 211679.54404887374, 211679.54404887112, 211679.5440488685, 211679.54404886585, 211679.54404886323, 211679.5440488606, 211679.54404885796, 211679.54404885534, 211679.54404885275, 211679.5440488501, 211679.54404884746, 211679.54404884487, 211679.54404884225, 211679.54404883957, 211679.54404883695, 211679.54404883433, 211679.5440488317, 211679.54404882903, 211679.54404882647, 211679.54404882385, 211679.5440488212, 211679.54404881856, 211679.54404881597, 211679.54404881332, 211679.54404881073, 211679.5440488081, 211679.54404880543, 211679.54404880284, 211679.54404880022, 211679.5440487989, 211679.54404879757, 211679.54404879623, 211679.54404879495, 211679.54404879358, 211679.5440487923, 211679.54404879097, 211679.54404878966, 211679.54404878838, 211679.54404878707, 211679.54404878573, 211679.54404878445, 211679.5440487831, 211679.54404878177, 211679.5440487805, 211679.54404877918, 211679.54404877787, 211679.54404877653, 211679.54404877522, 211679.5440487739, 211679.54404877263, 211679.54404877126, 211679.54404876998, 211679.5440487687, 211679.54404876736, 211679.54404876602, 211679.5440487647, 211679.54404876343, 211679.5440487621, 211679.54404876073, 211679.54404875945, 211679.54404875817, 211679.54404875683, 211679.5440487555, 211679.54404875415, 211679.54404875287, 211679.54404875153, 211679.54404875025, 211679.54404874897, 211679.54404874763, 211679.5440487463, 211679.544048745, 211679.54404874367, 211679.54404874236, 211679.54404874105, 211679.54404873974, 211679.54404873846, 211679.54404873712, 211679.54404873578, 211679.54404873447, 211679.54404873317, 211679.54404873188, 211679.54404873055, 211679.54404872924, 211679.54404872793, 211679.5440487266, 211679.54404872528, 211679.54404872394, 211679.54404872266, 211679.54404872132, 211679.54404872, 211679.5440487187, 211679.5440487174, 211679.54404871605, 211679.54404871477, 211679.54404871343, 211679.54404871212, 211679.54404871084, 211679.54404870953, 211679.54404870817, 211679.54404870688, 211679.54404870557, 211679.54404870427, 211679.54404870293, 211679.54404870165, 211679.54404870034, 211679.54404869903, 211679.5440486977, 211679.54404869638, 211679.54404869504, 211679.54404869376, 211679.54404869248, 211679.5440486911, 211679.5440486898, 211679.5440486885, 211679.54404868715, 211679.5440486858, 211679.5440486845, 211679.54404868325, 211679.5440486819, 211679.54404868057, 211679.54404867926, 211679.54404867793, 211679.54404867665, 211679.54404867534, 211679.54404867403, 211679.54404867272, 211679.5440486714, 211679.5440486701, 211679.54404866873, 211679.54404866812, 211679.54404866745, 211679.54404866684, 211679.54404866617, 211679.5440486655, 211679.54404866492, 211679.54404866425, 211679.54404866364, 211679.5440486629, 211679.54404866233, 211679.54404866166, 211679.54404866105, 211679.54404866032, 211679.54404865974, 211679.54404865907, 211679.54404865843, 211679.54404865776, 211679.54404865715, 211679.5440486565, 211679.54404865584, 211679.5440486552, 211679.54404865456, 211679.5440486539, 211679.54404865328, 211679.54404865263, 211679.54404865197, 211679.5440486513, 211679.54404865063, 211679.54404865002, 211679.54404864938, 211679.54404864874, 211679.54404864807, 211679.54404864743, 211679.54404864679, 211679.54404864614, 211679.54404864548, 211679.54404864486, 211679.54404864422, 211679.54404864355, 211679.54404864289, 211679.54404864227, 211679.5440486416, 211679.54404864096, 211679.54404864035, 211679.5440486397, 211679.54404863904, 211679.54404863843, 211679.54404863773, 211679.5440486371, 211679.54404863642, 211679.5440486358, 211679.5440486351, 211679.5440486345, 211679.5440486339, 211679.5440486332, 211679.54404863258, 211679.54404863188, 211679.54404863127, 211679.5440486306, 211679.54404862996, 211679.54404862932, 211679.54404862868, 211679.544048628, 211679.54404862737, 211679.54404862673, 211679.5440486261, 211679.54404862548, 211679.5440486248, 211679.54404862414, 211679.54404862356, 211679.54404862286, 211679.54404862228, 211679.54404862155, 211679.54404862097, 211679.5440486203, 211679.5440486196, 211679.544048619, 211679.54404861835, 211679.5440486177, 211679.54404861704, 211679.5440486164, 211679.54404861573, 211679.5440486151, 211679.54404861448, 211679.5440486138, 211679.54404861317, 211679.54404861256, 211679.54404861186, 211679.54404861128, 211679.54404861055, 211679.54404860997, 211679.5440486093, 211679.54404860866, 211679.544048608, 211679.54404860732, 211679.5440486067, 211679.54404860604, 211679.5440486054, 211679.5440486048, 211679.54404860412, 211679.54404860377, 211679.54404860345, 211679.54404860316, 211679.54404860278, 211679.54404860252, 211679.54404860214, 211679.54404860176, 211679.54404860147, 211679.54404860112, 211679.54404860074, 211679.54404860048, 211679.54404860013, 211679.54404859984, 211679.54404859943, 211679.54404859914, 211679.54404859876, 211679.5440485985, 211679.54404859812, 211679.54404859777, 211679.54404859748, 211679.54404859716, 211679.54404859684, 211679.54404859646, 211679.54404859614, 211679.54404859582, 211679.54404859548, 211679.54404859515, 211679.54404859483, 211679.54404859446, 211679.54404859414, 211679.54404859382, 211679.54404859347, 211679.54404859312, 211679.5440485928, 211679.54404859245, 211679.54404859213, 211679.5440485918, 211679.54404859146, 211679.54404859114, 211679.54404859085, 211679.54404859044, 211679.54404859012, 211679.54404858983, 211679.54404858948, 211679.54404858913, 211679.5440485888, 211679.54404858846, 211679.54404858814, 211679.5440485878, 211679.54404858744, 211679.54404858715, 211679.54404858683, 211679.54404858642, 211679.54404858613, 211679.5440485858, 211679.54404858546, 211679.54404858514, 211679.54404858482, 211679.54404858447, 211679.54404858415, 211679.5440485838, 211679.54404858346, 211679.54404858316, 211679.54404858281, 211679.54404858247, 211679.54404858212, 211679.5440485818, 211679.5440485815, 211679.54404858116, 211679.54404858078, 211679.54404858052, 211679.54404858014, 211679.54404857982, 211679.5440485795, 211679.54404857915, 211679.5440485788, 211679.5440485785, 211679.54404857816, 211679.5440485778, 211679.5440485775, 211679.54404857714, 211679.54404857685, 211679.54404857647, 211679.54404857615, 211679.54404857583, 211679.5440485755, 211679.54404857516, 211679.5440485748, 211679.54404857452, 211679.54404857417, 211679.5440485738, 211679.54404857347, 211679.54404857315, 211679.54404857283, 211679.5440485725, 211679.54404857213, 211679.5440485718, 211679.5440485715, 211679.54404857114, 211679.54404857082, 211679.54404857068, 211679.54404857047, 211679.54404857033, 211679.54404857013, 211679.54404856998, 211679.54404856986, 211679.54404856966, 211679.54404856949, 211679.5440485693, 211679.5440485692, 211679.54404856902, 211679.54404856885, 211679.54404856864, 211679.5440485685, 211679.5440485683, 211679.5440485682, 211679.544048568, 211679.54404856788, 211679.54404856765, 211679.54404856748, 211679.5440485674, 211679.5440485672, 211679.544048567, 211679.54404856687, 211679.5440485667, 211679.54404856652, 211679.54404856637, 211679.54404856617, 211679.54404856602, 211679.54404856585, 211679.54404856567, 211679.5440485655, 211679.54404856538, 211679.5440485652, 211679.544048565, 211679.54404856483, 211679.54404856468, 211679.54404856448, 211679.5440485644, 211679.54404856422, 211679.544048564, 211679.54404856384, 211679.5440485637, 211679.54404856355, 211679.54404856337, 211679.5440485632, 211679.544048563, 211679.54404856285, 211679.5440485627, 211679.54404856247, 211679.54404856235, 211679.5440485622, 211679.54404856203, 211679.54404856183, 211679.54404856174, 211679.54404856154, 211679.54404856137, 211679.5440485612, 211679.54404856102, 211679.54404856087, 211679.54404856073, 211679.54404856058, 211679.5440485604, 211679.54404856017, 211679.54404856006, 211679.54404855982, 211679.5440485597, 211679.54404855956, 211679.54404855936, 211679.54404855915, 211679.54404855904, 211679.54404855886, 211679.54404855872, 211679.54404855854, 211679.54404855837, 211679.54404855825, 211679.54404855802, 211679.54404855787, 211679.54404855776, 211679.54404855752, 211679.54404855735, 211679.54404855723, 211679.54404855703, 211679.54404855688, 211679.54404855674, 211679.54404855656, 211679.5440485564, 211679.54404855624, 211679.54404855604, 211679.54404855586, 211679.54404855572, 211679.54404855557, 211679.5440485554, 211679.54404855522, 211679.54404855505, 211679.5440485549, 211679.54404855473, 211679.54404855453, 211679.5440485544, 211679.5440485542, 211679.54404855415, 211679.54404855406, 211679.54404855394, 211679.54404855391, 211679.54404855383, 211679.54404855374, 211679.54404855362, 211679.54404855354, 211679.54404855345, 211679.54404855336, 211679.5440485533, 211679.54404855313, 211679.5440485531, 211679.54404855304, 211679.54404855298, 211679.54404855287, 211679.5440485528, 211679.5440485527, 211679.5440485526, 211679.54404855255, 211679.54404855243, 211679.54404855234, 211679.54404855228, 211679.54404855217, 211679.54404855208, 211679.54404855196, 211679.54404855196, 211679.54404855182, 211679.54404855176, 211679.54404855164, 211679.54404855156, 211679.5440485515, 211679.54404855138, 211679.54404855132, 211679.54404855124, 211679.54404855115, 211679.54404855106, 211679.54404855095, 211679.5440485509, 211679.54404855077, 211679.54404855074, 211679.5440485506, 211679.54404855057, 211679.54404855048, 211679.54404855036, 211679.5440485503, 211679.54404855022, 211679.5440485501, 211679.54404855001, 211679.54404854993, 211679.54404854984, 211679.54404854978, 211679.54404854972, 211679.5440485496, 211679.54404854955, 211679.54404854943, 211679.54404854932, 211679.54404854926, 211679.54404854914, 211679.54404854908, 211679.544048549, 211679.54404854888, 211679.5440485488, 211679.54404854876, 211679.54404854862, 211679.5440485485, 211679.54404854847, 211679.54404854844, 211679.5440485483, 211679.5440485482, 211679.54404854818, 211679.54404854806, 211679.54404854798, 211679.54404854786, 211679.5440485478, 211679.54404854772, 211679.5440485476, 211679.54404854757, 211679.54404854748, 211679.54404854737, 211679.54404854728, 211679.5440485472, 211679.5440485471, 211679.54404854702, 211679.54404854693, 211679.54404854684, 211679.54404854678, 211679.54404854667, 211679.5440485466, 211679.5440485465, 211679.54404854646, 211679.54404854635, 211679.54404854626, 211679.54404854617, 211679.54404854606, 211679.544048546, 211679.54404854588, 211679.5440485458, 211679.5440485457, 211679.54404854565, 211679.5440485456, 211679.5440485456, 211679.5440485455, 211679.54404854545, 211679.54404854547, 211679.54404854545, 211679.5440485454, 211679.54404854533, 211679.54404854524, 211679.54404854524, 211679.5440485452, 211679.54404854518, 211679.54404854513, 211679.544048545, 211679.54404854504, 211679.54404854498, 211679.54404854495, 211679.5440485449, 211679.5440485449, 211679.54404854483, 211679.54404854478, 211679.54404854475, 211679.5440485447, 211679.54404854466, 211679.54404854463, 211679.54404854457, 211679.5440485445, 211679.54404854446, 211679.54404854443, 211679.54404854443, 211679.54404854437, 211679.5440485443, 211679.5440485443, 211679.54404854425, 211679.5440485442, 211679.54404854414, 211679.54404854414, 211679.54404854414, 211679.54404854405, 211679.54404854402, 211679.54404854393, 211679.5440485439, 211679.54404854387, 211679.54404854382, 211679.5440485438, 211679.54404854373, 211679.5440485437, 211679.54404854364, 211679.5440485436, 211679.5440485436, 211679.54404854352, 211679.5440485435, 211679.54404854347, 211679.5440485434, 211679.5440485434, 211679.54404854332, 211679.54404854332, 211679.54404854326, 211679.54404854323, 211679.54404854315, 211679.54404854315, 211679.54404854306, 211679.54404854303, 211679.54404854297, 211679.54404854294, 211679.5440485429, 211679.54404854286, 211679.5440485428, 211679.54404854277, 211679.54404854277, 211679.54404854274, 211679.54404854268, 211679.54404854268, 211679.5440485426, 211679.54404854254, 211679.54404854248, 211679.54404854248, 211679.54404854245, 211679.5440485424, 211679.54404854236, 211679.5440485423, 211679.54404854224, 211679.54404854222, 211679.5440485422, 211679.54404854216, 211679.54404854207, 211679.54404854204, 211679.54404854198, 211679.54404854195, 211679.54404854192, 211679.5440485419, 211679.54404854184, 211679.5440485418, 211679.54404854175, 211679.5440485417, 211679.54404854166, 211679.54404854166, 211679.54404854163, 211679.5440485416, 211679.54404854152, 211679.54404854146, 211679.54404854146, 211679.54404854146, 211679.54404854143, 211679.54404854143, 211679.5440485414, 211679.5440485414, 211679.54404854137, 211679.54404854134, 211679.54404854134, 211679.54404854125, 211679.54404854125, 211679.5440485412, 211679.54404854123, 211679.54404854123, 211679.54404854117, 211679.54404854117, 211679.54404854114, 211679.54404854114, 211679.54404854114, 211679.54404854108, 211679.54404854102, 211679.54404854105, 211679.544048541, 211679.54404854096, 211679.54404854093, 211679.54404854096, 211679.5440485409, 211679.5440485409, 211679.54404854085, 211679.54404854085, 211679.54404854085, 211679.54404854085, 211679.54404854085, 211679.54404854076, 211679.54404854076, 211679.5440485407, 211679.5440485407, 211679.54404854064, 211679.54404854064, 211679.54404854067, 211679.5440485406, 211679.54404854064, 211679.5440485406, 211679.54404854059, 211679.54404854053, 211679.5440485405, 211679.54404854047, 211679.54404854047, 211679.5440485405, 211679.54404854044, 211679.54404854044, 211679.5440485404, 211679.54404854038, 211679.54404854038, 211679.54404854032, 211679.54404854032, 211679.54404854032, 211679.5440485403, 211679.54404854027, 211679.5440485402, 211679.5440485402, 211679.54404854018, 211679.54404854015, 211679.54404854015, 211679.54404854012, 211679.5440485401, 211679.54404854012, 211679.5440485401, 211679.5440485401, 211679.54404854003, 211679.54404854, 211679.54404853997, 211679.54404853992, 211679.54404853992, 211679.5440485399, 211679.5440485399, 211679.5440485399, 211679.54404853986, 211679.54404853983, 211679.54404853983, 211679.54404853977, 211679.54404853977, 211679.5440485397, 211679.5440485397, 211679.5440485397, 211679.5440485397, 211679.54404853965, 211679.54404853965, 211679.5440485396, 211679.5440485396, 211679.5440485396, 211679.54404853957, 211679.5440485396, 211679.54404853954, 211679.5440485395, 211679.5440485395, 211679.54404853948, 211679.54404853948, 211679.54404853942, 211679.54404853942, 211679.54404853942, 211679.5440485394, 211679.5440485394, 211679.54404853942, 211679.54404853936, 211679.54404853942, 211679.54404853942, 211679.54404853945, 211679.54404853945, 211679.5440485394, 211679.5440485394, 211679.5440485394, 211679.5440485394, 211679.54404853945, 211679.54404853945, 211679.54404853945, 211679.54404853942, 211679.54404853945, 211679.54404853942, 211679.54404853942, 211679.5440485394, 211679.5440485394, 211679.54404853942, 211679.54404853942, 211679.54404853942, 211679.54404853942, 211679.54404853942, 211679.54404853942, 211679.54404853942, 211679.54404853942, 211679.5440485394, 211679.5440485394, 211679.5440485394, 211679.54404853936, 211679.5440485394, 211679.5440485394, 211679.54404853936, 211679.5440485394, 211679.54404853936, 211679.54404853936, 211679.54404853936, 211679.5440485394, 211679.5440485394, 211679.5440485394, 211679.5440485394, 211679.54404853942, 211679.5440485394, 211679.5440485394, 211679.54404853933, 211679.54404853933, 211679.54404853933, 211679.54404853933, 211679.54404853933, 211679.54404853933, 211679.54404853933, 211679.54404853933, 211679.54404853933, 211679.54404853933, 211679.54404853936, 211679.54404853936, 211679.5440485394, 211679.54404853936, 211679.5440485394, 211679.5440485394, 211679.5440485394, 211679.54404853936, 211679.54404853936, 211679.54404853936, 211679.54404853936, 211679.54404853936, 211679.54404853936, 211679.54404853936, 211679.54404853936, 211679.54404853933, 211679.54404853933, 211679.54404853933, 211679.54404853936, 211679.54404853936, 211679.54404853936, 211679.5440485394, 211679.5440485394, 211679.5440485394, 211679.5440485394, 211679.5440485394, 211679.54404853936, 211679.5440485394, 211679.54404853936, 211679.54404853936, 211679.54404853936, 211679.54404853936, 211679.54404853936, 211679.54404853936, 211679.54404853936, 211679.54404853936, 211679.54404853936, 211679.54404853936, 211679.54404853936, 211679.54404853936, 211679.54404853936, 211679.54404853936, 211679.54404853936, 211679.54404853936, 211679.54404853936, 211679.54404853936, 211679.54404853936, 211679.54404853936, 211679.54404853936, 211679.54404853936, 211679.54404853936, 211679.54404853936, 211679.54404853936, 211679.54404853936, 211679.5440485394, 211679.5440485394, 211679.54404853936, 211679.54404853936, 211679.54404853936, 211679.54404853936, 211679.54404853936, 211679.54404853936, 211679.54404853936, 211679.54404853936, 211679.54404853936, 211679.54404853936, 211679.54404853936, 211679.54404853933, 211679.54404853936, 211679.54404853936, 211679.54404853936, 211679.54404853936, 211679.54404853936, 211679.54404853936, 211679.54404853936, 211679.54404853936, 211679.54404853936, 211679.54404853933, 211679.54404853933, 211679.54404853933, 211679.54404853933, 211679.54404853933, 211679.54404853936, 211679.54404853936, 211679.54404853933, 211679.54404853936, 211679.54404853933, 211679.54404853936, 211679.54404853936, 211679.54404853933, 211679.54404853936, 211679.54404853933, 211679.54404853933, 211679.54404853933, 211679.54404853933, 211679.54404853933, 211679.54404853933, 211679.54404853933, 211679.54404853933, 211679.54404853933, 211679.54404853933, 211679.54404853933, 211679.54404853933, 211679.54404853933, 211679.54404853933, 211679.54404853936, 211679.54404853936, 211679.54404853936, 211679.54404853936, 211679.54404853936, 211679.54404853936, 211679.54404853936, 211679.54404853936, 211679.54404853936, 211679.54404853936, 211679.54404853936, 211679.54404853936, 211679.54404853936, 211679.54404853936, 211679.54404853936, 211679.54404853933, 211679.5440485393, 211679.5440485393, 211679.5440485393, 211679.5440485393, 211679.5440485393, 211679.5440485393, 211679.5440485393, 211679.5440485393, 211679.5440485393, 211679.5440485393, 211679.5440485393, 211679.5440485393, 211679.5440485393, 211679.5440485393, 211679.5440485393, 211679.5440485393, 211679.54404853928, 211679.54404853928, 211679.54404853928, 211679.54404853928, 211679.54404853928, 211679.54404853928, 211679.54404853928, 211679.54404853925, 211679.54404853925, 211679.54404853925, 211679.54404853925, 211679.54404853925, 211679.54404853925, 211679.5440485392, 211679.5440485392, 211679.5440485392, 211679.5440485392, 211679.5440485392, 211679.5440485392, 211679.54404853916, 211679.54404853916, 211679.54404853916, 211679.54404853916, 211679.54404853916, 211679.54404853916, 211679.54404853916, 211679.54404853913, 211679.54404853913, 211679.54404853913, 211679.54404853913, 211679.5440485391, 211679.5440485391, 211679.5440485391, 211679.5440485391, 211679.5440485391, 211679.5440485391, 211679.5440485391, 211679.54404853904, 211679.544048539, 211679.544048539, 211679.544048539, 211679.544048539, 211679.544048539, 211679.544048539, 211679.54404853898, 211679.54404853896, 211679.54404853896, 211679.54404853896, 211679.54404853896, 211679.54404853896, 211679.54404853893, 211679.54404853893, 211679.54404853893, 211679.54404853893, 211679.5440485389, 211679.54404853887, 211679.54404853887, 211679.54404853887, 211679.54404853887, 211679.54404853887, 211679.54404853887, 211679.54404853887, 211679.5440485388, 211679.5440485388, 211679.5440485388, 211679.54404853878, 211679.54404853875, 211679.54404853875, 211679.54404853875, 211679.54404853875, 211679.54404853875, 211679.54404853875, 211679.54404853872, 211679.54404853872, 211679.5440485387, 211679.5440485387, 211679.5440485387, 211679.5440485387, 211679.5440485387, 211679.5440485387, 211679.5440485387, 211679.5440485387, 211679.54404853864, 211679.54404853864, 211679.54404853864, 211679.5440485386, 211679.5440485386, 211679.5440485386, 211679.5440485386, 211679.5440485386, 211679.5440485386, 211679.5440485386, 211679.5440485386, 211679.5440485386, 211679.54404853855, 211679.54404853855, 211679.54404853855, 211679.54404853855, 211679.54404853858, 211679.54404853858, 211679.54404853855, 211679.54404853855, 211679.54404853855, 211679.54404853855, 211679.54404853852, 211679.5440485385, 211679.5440485385, 211679.5440485385, 211679.5440485385, 211679.5440485385, 211679.5440485385, 211679.5440485385, 211679.54404853846, 211679.54404853846, 211679.54404853846, 211679.54404853846, 211679.5440485384, 211679.54404853843, 211679.5440485384, 211679.5440485384, 211679.5440485384, 211679.5440485384, 211679.5440485384, 211679.5440485384, 211679.5440485384, 211679.5440485384, 211679.5440485384, 211679.5440485384, 211679.54404853837, 211679.54404853837, 211679.54404853832, 211679.54404853832, 211679.54404853832, 211679.54404853832, 211679.54404853832, 211679.5440485383, 211679.5440485383, 211679.5440485383, 211679.54404853832, 211679.5440485383, 211679.5440485383, 211679.5440485383, 211679.5440485383, 211679.5440485383, 211679.54404853826, 211679.5440485383, 211679.54404853826, 211679.54404853826, 211679.54404853826, 211679.54404853826, 211679.54404853826, 211679.54404853826, 211679.5440485382, 211679.5440485382, 211679.5440485382, 211679.5440485382, 211679.5440485382, 211679.5440485382, 211679.5440485382, 211679.5440485382, 211679.5440485382, 211679.5440485382, 211679.54404853814, 211679.54404853814, 211679.54404853814, 211679.54404853814, 211679.54404853814, 211679.54404853814, 211679.54404853814, 211679.54404853814, 211679.54404853814, 211679.54404853808, 211679.54404853808, 211679.54404853808, 211679.54404853808, 211679.54404853808, 211679.54404853805, 211679.54404853805, 211679.54404853805, 211679.54404853805, 211679.54404853805, 211679.54404853805, 211679.54404853805, 211679.54404853805, 211679.54404853802, 211679.54404853802, 211679.54404853802, 211679.54404853802, 211679.54404853802, 211679.544048538, 211679.544048538, 211679.54404853797, 211679.54404853797, 211679.54404853797, 211679.54404853797, 211679.54404853797, 211679.54404853797, 211679.54404853797, 211679.54404853797, 211679.54404853797, 211679.54404853797, 211679.54404853797, 211679.54404853797, 211679.54404853797, 211679.54404853797, 211679.5440485379, 211679.5440485379, 211679.54404853794, 211679.5440485379, 211679.5440485379, 211679.5440485379, 211679.54404853788, 211679.54404853788, 211679.54404853788, 211679.54404853788, 211679.54404853785, 211679.54404853785, 211679.54404853785, 211679.54404853785, 211679.54404853785, 211679.54404853785, 211679.54404853785, 211679.54404853785, 211679.54404853785, 211679.54404853785, 211679.54404853782, 211679.54404853782, 211679.54404853785, 211679.54404853785, 211679.54404853782, 211679.54404853782, 211679.54404853782, 211679.54404853776, 211679.54404853776, 211679.54404853776, 211679.54404853776, 211679.54404853776, 211679.54404853776, 211679.54404853776, 211679.54404853776, 211679.54404853776, 211679.54404853776, 211679.54404853776, 211679.54404853776, 211679.54404853773, 211679.54404853773, 211679.54404853773, 211679.54404853773, 211679.54404853773, 211679.54404853773, 211679.5440485377, 211679.5440485377, 211679.5440485377, 211679.5440485377, 211679.5440485377, 211679.5440485377, 211679.5440485377, 211679.5440485377, 211679.5440485377, 211679.5440485377, 211679.5440485377, 211679.5440485377, 211679.5440485377, 211679.5440485377, 211679.5440485377, 211679.5440485377, 211679.5440485377, 211679.5440485377, 211679.54404853767, 211679.54404853767, 211679.54404853767, 211679.54404853767, 211679.54404853767, 211679.54404853765, 211679.54404853765, 211679.54404853765, 211679.54404853765, 211679.54404853765, 211679.54404853765, 211679.54404853765, 211679.54404853765, 211679.54404853767, 211679.54404853767, 211679.54404853762, 211679.54404853762, 211679.54404853762, 211679.54404853762, 211679.54404853762, 211679.54404853762, 211679.54404853762, 211679.54404853762, 211679.54404853765, 211679.54404853765, 211679.5440485376, 211679.5440485376, 211679.5440485376, 211679.5440485376, 211679.5440485376, 211679.5440485376, 211679.5440485376, 211679.5440485376, 211679.54404853753, 211679.5440485376, 211679.54404853753, 211679.54404853753, 211679.54404853753, 211679.54404853753, 211679.54404853753, 211679.54404853753, 211679.54404853753, 211679.54404853753, 211679.54404853753, 211679.54404853753, 211679.54404853753, 211679.54404853753, 211679.54404853753, 211679.54404853753, 211679.54404853753, 211679.54404853753, 211679.54404853753, 211679.54404853753, 211679.54404853753, 211679.54404853753, 211679.54404853753, 211679.54404853753, 211679.54404853753, 211679.54404853753, 211679.54404853753, 211679.54404853753, 211679.54404853747, 211679.54404853753, 211679.54404853753, 211679.54404853753, 211679.54404853747, 211679.54404853753, 211679.54404853753, 211679.54404853753, 211679.54404853753, 211679.54404853747, 211679.54404853747, 211679.54404853747, 211679.54404853747, 211679.54404853747, 211679.54404853747, 211679.54404853747, 211679.54404853747, 211679.54404853747, 211679.54404853747, 211679.54404853747, 211679.54404853747, 211679.54404853747, 211679.54404853747, 211679.54404853747, 211679.54404853747, 211679.54404853747, 211679.54404853747, 211679.54404853747, 211679.54404853747, 211679.54404853747, 211679.54404853747, 211679.54404853747, 211679.54404853747, 211679.54404853747, 211679.54404853747, 211679.54404853747, 211679.54404853747, 211679.54404853747, 211679.54404853747, 211679.54404853747, 211679.54404853747, 211679.54404853747, 211679.54404853747, 211679.54404853747, 211679.54404853747, 211679.54404853747, 211679.54404853747, 211679.54404853747, 211679.54404853747, 211679.54404853747, 211679.54404853747, 211679.54404853747, 211679.54404853747, 211679.54404853747, 211679.54404853747, 211679.54404853747, 211679.54404853747, 211679.54404853747, 211679.54404853747, 211679.54404853747, 211679.54404853747, 211679.54404853744, 211679.5440485374, 211679.54404853744, 211679.54404853744, 211679.54404853744, 211679.5440485374, 211679.5440485374, 211679.5440485374, 211679.5440485374, 211679.5440485374, 211679.54404853744, 211679.5440485374, 211679.5440485374, 211679.5440485374, 211679.5440485374, 211679.5440485374, 211679.5440485374, 211679.5440485374, 211679.5440485374, 211679.5440485374, 211679.5440485374, 211679.5440485374, 211679.5440485374, 211679.5440485374, 211679.5440485374, 211679.5440485374, 211679.5440485374, 211679.5440485374, 211679.5440485374, 211679.5440485374, 211679.5440485374, 211679.5440485374, 211679.5440485374, 211679.5440485374, 211679.5440485374, 211679.5440485374, 211679.5440485374, 211679.5440485374, 211679.5440485374, 211679.5440485374, 211679.5440485374, 211679.5440485374, 211679.5440485374, 211679.5440485374, 211679.5440485374, 211679.54404853738, 211679.5440485374, 211679.54404853738, 211679.54404853738, 211679.54404853738, 211679.54404853738, 211679.54404853738, 211679.54404853738, 211679.54404853738, 211679.54404853738, 211679.54404853738, 211679.54404853738, 211679.54404853738, 211679.54404853738, 211679.54404853738, 211679.54404853738, 211679.54404853738, 211679.54404853738, 211679.54404853738, 211679.54404853738, 211679.54404853738, 211679.54404853738, 211679.54404853738, 211679.54404853738, 211679.54404853735, 211679.54404853738, 211679.54404853735, 211679.54404853735, 211679.54404853735, 211679.54404853735, 211679.54404853735, 211679.54404853735, 211679.54404853735, 211679.54404853735, 211679.54404853735, 211679.54404853733, 211679.54404853733, 211679.54404853733, 211679.54404853733, 211679.54404853733, 211679.54404853733, 211679.54404853733, 211679.54404853733, 211679.54404853733, 211679.54404853733, 211679.54404853733, 211679.54404853733, 211679.54404853733, 211679.54404853733, 211679.54404853733, 211679.54404853733, 211679.54404853733, 211679.5440485373, 211679.5440485373, 211679.5440485373, 211679.54404853733, 211679.5440485373, 211679.5440485373, 211679.5440485373, 211679.5440485373, 211679.5440485373, 211679.5440485373, 211679.5440485373, 211679.5440485373, 211679.5440485373, 211679.5440485373, 211679.5440485373, 211679.5440485373, 211679.5440485373, 211679.5440485373, 211679.5440485373, 211679.5440485373, 211679.5440485373, 211679.5440485373, 211679.5440485373, 211679.5440485373, 211679.5440485373, 211679.5440485373, 211679.5440485373, 211679.5440485373, 211679.5440485373, 211679.5440485373, 211679.5440485373, 211679.5440485373, 211679.5440485373, 211679.5440485373, 211679.5440485373, 211679.5440485373, 211679.5440485373, 211679.5440485373, 211679.5440485373, 211679.5440485373, 211679.5440485373, 211679.5440485373, 211679.5440485373, 211679.5440485373, 211679.5440485373, 211679.5440485373, 211679.5440485373, 211679.5440485373, 211679.5440485373, 211679.5440485373, 211679.5440485373, 211679.5440485373, 211679.5440485373, 211679.5440485373, 211679.5440485373, 211679.5440485373, 211679.5440485373, 211679.5440485373, 211679.5440485373, 211679.5440485373, 211679.5440485373, 211679.5440485373, 211679.5440485373, 211679.5440485373, 211679.5440485373, 211679.5440485373, 211679.5440485373, 211679.5440485373, 211679.5440485373, 211679.5440485373, 211679.5440485373, 211679.5440485373, 211679.5440485373, 211679.5440485373, 211679.5440485373, 211679.5440485373, 211679.5440485373, 211679.5440485373, 211679.5440485373, 211679.5440485373, 211679.5440485373, 211679.5440485373, 211679.5440485373, 211679.5440485373, 211679.5440485373, 211679.5440485373, 211679.5440485373, 211679.5440485373, 211679.5440485373, 211679.5440485373, 211679.5440485373, 211679.5440485373, 211679.5440485373, 211679.5440485373, 211679.5440485373, 211679.5440485373, 211679.5440485373, 211679.5440485373, 211679.5440485373, 211679.5440485373, 211679.5440485373, 211679.5440485373, 211679.5440485373, 211679.5440485373, 211679.5440485373, 211679.5440485373, 211679.5440485373, 211679.5440485373, 211679.5440485373, 211679.5440485373, 211679.5440485373, 211679.5440485373, 211679.5440485373, 211679.5440485373, 211679.5440485373, 211679.5440485373, 211679.5440485373, 211679.5440485373, 211679.5440485373, 211679.5440485373, 211679.5440485373, 211679.5440485373, 211679.5440485373, 211679.5440485373, 211679.5440485373, 211679.5440485373, 211679.54404853733, 211679.54404853733, 211679.5440485373, 211679.54404853733, 211679.54404853733, 211679.54404853733, 211679.54404853733, 211679.54404853733, 211679.54404853733, 211679.5440485373, 211679.54404853733, 211679.54404853733, 211679.54404853733, 211679.54404853733, 211679.54404853733, 211679.54404853733, 211679.54404853733, 211679.54404853733, 211679.54404853733, 211679.54404853733, 211679.54404853733, 211679.54404853733, 211679.54404853733, 211679.54404853733, 211679.54404853733, 211679.54404853733, 211679.54404853733, 211679.54404853733, 211679.54404853733, 211679.54404853733, 211679.54404853733, 211679.54404853733, 211679.54404853733, 211679.54404853733, 211679.54404853733, 211679.54404853733, 211679.54404853733, 211679.54404853733, 211679.54404853733, 211679.54404853733, 211679.54404853733, 211679.54404853733, 211679.54404853733, 211679.54404853733, 211679.54404853733, 211679.54404853733, 211679.54404853733, 211679.54404853733, 211679.54404853733, 211679.54404853733, 211679.54404853733, 211679.54404853733, 211679.54404853733, 211679.54404853733, 211679.54404853733, 211679.54404853733, 211679.54404853735, 211679.54404853735, 211679.54404853735, 211679.54404853735, 211679.54404853735, 211679.54404853735, 211679.54404853735, 211679.54404853735, 211679.54404853735, 211679.54404853735, 211679.54404853735, 211679.54404853735, 211679.54404853735, 211679.54404853735, 211679.54404853735, 211679.54404853735, 211679.54404853735, 211679.54404853735, 211679.54404853735, 211679.54404853735, 211679.54404853735, 211679.54404853735, 211679.54404853735, 211679.54404853735, 211679.54404853735, 211679.54404853735, 211679.54404853735, 211679.54404853735, 211679.54404853735, 211679.54404853735, 211679.54404853735, 211679.54404853735, 211679.54404853735, 211679.54404853735, 211679.54404853735, 211679.54404853735, 211679.54404853735, 211679.54404853735, 211679.54404853735, 211679.54404853735, 211679.54404853735, 211679.54404853735, 211679.54404853735, 211679.54404853735, 211679.54404853735, 211679.54404853735, 211679.54404853735, 211679.54404853735, 211679.54404853735, 211679.54404853735, 211679.54404853735, 211679.54404853735, 211679.54404853735, 211679.54404853735, 211679.54404853735, 211679.54404853735, 211679.54404853735, 211679.54404853735, 211679.54404853735, 211679.54404853735, 211679.54404853735, 211679.54404853735, 211679.54404853735, 211679.54404853735, 211679.54404853735, 211679.54404853735, 211679.54404853735, 211679.54404853735, 211679.54404853735, 211679.54404853735, 211679.54404853735, 211679.54404853735, 211679.54404853735, 211679.54404853735, 211679.54404853735, 211679.54404853735, 211679.54404853735, 211679.54404853735, 211679.54404853735, 211679.54404853735, 211679.54404853735, 211679.54404853735, 211679.54404853735, 211679.54404853735, 211679.54404853735, 211679.54404853735, 211679.54404853735, 211679.54404853735, 211679.54404853735, 211679.54404853735, 211679.54404853735, 211679.54404853735, 211679.54404853735, 211679.54404853735, 211679.54404853735, 211679.54404853735, 211679.54404853735, 211679.54404853735, 211679.54404853735, 211679.54404853735, 211679.54404853735, 211679.54404853735, 211679.54404853735, 211679.54404853735, 211679.54404853735, 211679.54404853735, 211679.54404853735, 211679.54404853735, 211679.54404853735, 211679.54404853735, 211679.54404853735, 211679.54404853735, 211679.54404853735, 211679.54404853735, 211679.54404853735, 211679.54404853735, 211679.54404853735, 211679.54404853735, 211679.54404853735, 211679.54404853735, 211679.54404853735, 211679.54404853735, 211679.54404853735, 211679.54404853735, 211679.54404853735, 211679.54404853735, 211679.54404853735, 211679.54404853735, 211679.54404853735, 211679.54404853735, 211679.54404853735, 211679.54404853735, 211679.54404853735, 211679.54404853735, 211679.54404853735, 211679.54404853735, 211679.54404853735, 211679.54404853735, 211679.54404853735, 211679.54404853735, 211679.54404853735, 211679.54404853735, 211679.54404853735, 211679.54404853735, 211679.54404853735, 211679.54404853735, 211679.54404853735, 211679.54404853735, 211679.54404853735, 211679.54404853735, 211679.54404853738, 211679.54404853738, 211679.54404853738, 211679.54404853738, 211679.54404853738, 211679.54404853738, 211679.54404853738, 211679.54404853738, 211679.54404853738, 211679.54404853738, 211679.54404853738, 211679.54404853738, 211679.54404853738, 211679.54404853738, 211679.54404853738, 211679.54404853738, 211679.54404853738, 211679.54404853738, 211679.54404853738, 211679.54404853738, 211679.54404853738, 211679.54404853738, 211679.54404853738, 211679.54404853738, 211679.54404853738, 211679.54404853738, 211679.54404853738, 211679.54404853738, 211679.54404853738, 211679.54404853738, 211679.54404853738, 211679.54404853738, 211679.54404853738, 211679.54404853738, 211679.54404853738, 211679.54404853738, 211679.54404853738, 211679.54404853738, 211679.54404853738, 211679.54404853738, 211679.54404853738, 211679.54404853738, 211679.54404853738, 211679.54404853738, 211679.54404853738, 211679.54404853738, 211679.54404853738, 211679.54404853738, 211679.54404853738, 211679.54404853738, 211679.54404853738, 211679.54404853738, 211679.54404853738, 211679.54404853738, 211679.54404853738, 211679.54404853738, 211679.54404853738, 211679.54404853738, 211679.54404853738, 211679.54404853738, 211679.54404853738, 211679.54404853738, 211679.54404853738, 211679.54404853738, 211679.5440485374, 211679.5440485374, 211679.5440485374, 211679.5440485374, 211679.5440485374, 211679.5440485374, 211679.5440485374, 211679.5440485374, 211679.5440485374, 211679.5440485374, 211679.5440485374, 211679.5440485374, 211679.5440485374, 211679.5440485374, 211679.5440485374, 211679.5440485374, 211679.5440485374, 211679.5440485374, 211679.5440485374, 211679.5440485374, 211679.5440485374, 211679.5440485374, 211679.5440485374, 211679.5440485374, 211679.5440485374, 211679.5440485374, 211679.5440485374, 211679.5440485374, 211679.5440485374, 211679.5440485374, 211679.5440485374, 211679.5440485374, 211679.5440485374, 211679.5440485374, 211679.5440485374, 211679.5440485374, 211679.5440485374, 211679.5440485374, 211679.5440485374, 211679.5440485374, 211679.5440485374, 211679.5440485374, 211679.5440485374, 211679.5440485374, 211679.5440485374, 211679.5440485374, 211679.5440485374, 211679.5440485374, 211679.5440485374, 211679.5440485374, 211679.5440485374, 211679.5440485374, 211679.5440485374, 211679.5440485374, 211679.5440485374, 211679.5440485374, 211679.5440485374, 211679.5440485374, 211679.5440485374, 211679.5440485374, 211679.5440485374, 211679.5440485374, 211679.5440485374, 211679.5440485374, 211679.5440485374, 211679.5440485374, 211679.5440485374, 211679.5440485374, 211679.5440485374, 211679.5440485374, 211679.5440485374, 211679.5440485374, 211679.5440485374, 211679.5440485374, 211679.5440485374, 211679.5440485374, 211679.5440485374, 211679.5440485374, 211679.5440485374, 211679.5440485374, 211679.5440485374, 211679.5440485374, 211679.5440485374, 211679.5440485374, 211679.5440485374, 211679.5440485374, 211679.5440485374, 211679.5440485374, 211679.5440485374, 211679.5440485374, 211679.5440485374, 211679.5440485374, 211679.5440485374, 211679.5440485374, 211679.5440485374, 211679.5440485374, 211679.5440485374, 211679.5440485374, 211679.5440485374, 211679.5440485374, 211679.5440485374, 211679.5440485374, 211679.5440485374, 211679.5440485374, 211679.5440485374, 211679.5440485374, 211679.5440485374, 211679.5440485374, 211679.5440485374, 211679.5440485374, 211679.5440485374, 211679.5440485374, 211679.5440485374, 211679.5440485374, 211679.5440485374, 211679.5440485374, 211679.5440485374, 211679.5440485374, 211679.5440485374, 211679.5440485374, 211679.5440485374, 211679.5440485374, 211679.5440485374, 211679.5440485374, 211679.5440485374, 211679.5440485374, 211679.5440485374, 211679.5440485374, 211679.5440485374, 211679.5440485374, 211679.5440485374, 211679.5440485374, 211679.5440485374, 211679.5440485374, 211679.5440485374, 211679.5440485374, 211679.5440485374, 211679.5440485374, 211679.5440485374, 211679.5440485374, 211679.5440485374, 211679.5440485374, 211679.5440485374, 211679.5440485374, 211679.5440485374, 211679.5440485374, 211679.5440485374, 211679.5440485374, 211679.5440485374, 211679.5440485374, 211679.5440485374, 211679.5440485374, 211679.5440485374, 211679.5440485374, 211679.5440485374, 211679.5440485374, 211679.5440485374, 211679.5440485374, 211679.5440485374, 211679.5440485374, 211679.5440485374, 211679.5440485374, 211679.5440485374, 211679.5440485374, 211679.5440485374, 211679.5440485374, 211679.5440485374, 211679.5440485374, 211679.5440485374, 211679.5440485374, 211679.5440485374, 211679.5440485374, 211679.5440485374, 211679.5440485374, 211679.5440485374, 211679.5440485374, 211679.5440485374, 211679.5440485374, 211679.5440485374, 211679.5440485374, 211679.5440485374, 211679.5440485374, 211679.5440485374, 211679.5440485374, 211679.5440485374, 211679.5440485374, 211679.5440485374, 211679.5440485374, 211679.5440485374, 211679.5440485374, 211679.5440485374, 211679.5440485374, 211679.5440485374, 211679.5440485374, 211679.5440485374, 211679.5440485374, 211679.5440485374, 211679.5440485374, 211679.5440485374, 211679.5440485374, 211679.5440485374, 211679.5440485374, 211679.5440485374, 211679.5440485374, 211679.5440485374, 211679.5440485374, 211679.5440485374, 211679.5440485374, 211679.5440485374, 211679.5440485374, 211679.5440485374, 211679.5440485374, 211679.5440485374, 211679.5440485374, 211679.5440485374, 211679.5440485374, 211679.5440485374, 211679.5440485374, 211679.5440485374, 211679.5440485374, 211679.5440485374, 211679.5440485374, 211679.5440485374, 211679.5440485374, 211679.5440485374, 211679.5440485374, 211679.5440485374, 211679.5440485374, 211679.5440485374, 211679.5440485374, 211679.5440485374, 211679.5440485374, 211679.5440485374, 211679.5440485374, 211679.5440485374, 211679.5440485374, 211679.5440485374, 211679.5440485374, 211679.5440485374, 211679.5440485374, 211679.5440485374, 211679.5440485374, 211679.5440485374, 211679.5440485374, 211679.5440485374, 211679.5440485374, 211679.5440485374, 211679.5440485374, 211679.5440485374, 211679.5440485374, 211679.5440485374, 211679.5440485374, 211679.5440485374, 211679.5440485374, 211679.5440485374, 211679.5440485374, 211679.5440485374, 211679.5440485374, 211679.5440485374, 211679.5440485374, 211679.5440485374, 211679.5440485374, 211679.5440485374, 211679.5440485374, 211679.5440485374, 211679.5440485374, 211679.5440485374, 211679.5440485374, 211679.5440485374, 211679.5440485374, 211679.5440485374, 211679.5440485374, 211679.5440485374, 211679.5440485374, 211679.5440485374, 211679.5440485374, 211679.5440485374, 211679.5440485374, 211679.5440485374, 211679.5440485374, 211679.5440485374, 211679.5440485374, 211679.5440485374, 211679.5440485374, 211679.5440485374, 211679.5440485374, 211679.5440485374, 211679.5440485374, 211679.5440485374, 211679.5440485374, 211679.5440485374, 211679.5440485374, 211679.5440485374, 211679.5440485374, 211679.5440485374, 211679.5440485374, 211679.5440485374, 211679.5440485374, 211679.5440485374, 211679.5440485374, 211679.5440485374, 211679.5440485374, 211679.5440485374, 211679.5440485374, 211679.5440485374, 211679.5440485374, 211679.5440485374, 211679.5440485374, 211679.5440485374, 211679.5440485374, 211679.5440485374, 211679.5440485374, 211679.5440485374, 211679.5440485374, 211679.5440485374, 211679.5440485374, 211679.5440485374, 211679.5440485374, 211679.5440485374, 211679.5440485374, 211679.5440485374, 211679.5440485374, 211679.5440485374, 211679.5440485374, 211679.5440485374, 211679.5440485374, 211679.5440485374, 211679.5440485374, 211679.5440485374, 211679.5440485374, 211679.5440485374, 211679.5440485374, 211679.5440485374, 211679.5440485374, 211679.5440485374, 211679.5440485374, 211679.5440485374, 211679.5440485374, 211679.5440485374, 211679.5440485374, 211679.5440485374, 211679.5440485374, 211679.5440485374, 211679.5440485374, 211679.5440485374, 211679.5440485374, 211679.5440485374, 211679.5440485374, 211679.5440485374, 211679.5440485374, 211679.5440485374, 211679.5440485374, 211679.5440485374, 211679.5440485374, 211679.5440485374, 211679.5440485374, 211679.5440485374, 211679.5440485374, 211679.5440485374, 211679.5440485374, 211679.5440485374, 211679.5440485374, 211679.5440485374, 211679.5440485374, 211679.5440485374, 211679.5440485374, 211679.5440485374, 211679.5440485374, 211679.5440485374, 211679.5440485374, 211679.5440485374, 211679.5440485374, 211679.5440485374, 211679.5440485374, 211679.5440485374, 211679.5440485374, 211679.5440485374, 211679.5440485374, 211679.5440485374, 211679.5440485374, 211679.5440485374, 211679.5440485374, 211679.5440485374, 211679.5440485374, 211679.5440485374, 211679.5440485374, 211679.5440485374, 211679.5440485374, 211679.5440485374, 211679.5440485374, 211679.5440485374, 211679.5440485374, 211679.5440485374, 211679.5440485374, 211679.5440485374, 211679.5440485374, 211679.5440485374, 211679.5440485374, 211679.5440485374, 211679.5440485374, 211679.5440485374, 211679.5440485374, 211679.5440485374, 211679.5440485374, 211679.5440485374, 211679.5440485374, 211679.5440485374, 211679.5440485374, 211679.5440485374, 211679.5440485374, 211679.5440485374, 211679.5440485374, 211679.5440485374, 211679.5440485374, 211679.5440485374, 211679.5440485374, 211679.5440485374, 211679.5440485374, 211679.5440485374, 211679.5440485374, 211679.5440485374, 211679.5440485374, 211679.5440485374, 211679.5440485374, 211679.5440485374, 211679.5440485374, 211679.5440485374, 211679.5440485374, 211679.5440485374, 211679.5440485374, 211679.5440485374, 211679.5440485374, 211679.5440485374, 211679.5440485374, 211679.5440485374, 211679.5440485374, 211679.5440485374, 211679.5440485374, 211679.5440485374, 211679.5440485374, 211679.5440485374, 211679.5440485374, 211679.5440485374, 211679.5440485374, 211679.5440485374, 211679.5440485374, 211679.5440485374, 211679.5440485374, 211679.5440485374, 211679.5440485374, 211679.5440485374, 211679.5440485374, 211679.5440485374, 211679.5440485374, 211679.5440485374, 211679.5440485374, 211679.5440485374, 211679.5440485374, 211679.5440485374, 211679.5440485374, 211679.5440485374, 211679.5440485374, 211679.5440485374, 211679.5440485374, 211679.5440485374, 211679.5440485374, 211679.5440485374, 211679.5440485374, 211679.5440485374, 211679.5440485374, 211679.5440485374, 211679.5440485374, 211679.5440485374, 211679.5440485374, 211679.5440485374, 211679.5440485374, 211679.5440485374, 211679.5440485374, 211679.5440485374, 211679.5440485374, 211679.5440485374, 211679.5440485374, 211679.5440485374, 211679.5440485374, 211679.5440485374, 211679.5440485374, 211679.5440485374, 211679.5440485374, 211679.5440485374, 211679.5440485374, 211679.5440485374, 211679.5440485374, 211679.5440485374, 211679.5440485374, 211679.5440485374, 211679.5440485374, 211679.5440485374, 211679.5440485374, 211679.5440485374, 211679.5440485374, 211679.5440485374, 211679.5440485374, 211679.5440485374, 211679.5440485374, 211679.5440485374, 211679.5440485374, 211679.5440485374, 211679.5440485374, 211679.5440485374, 211679.5440485374, 211679.5440485374, 211679.5440485374, 211679.5440485374, 211679.5440485374, 211679.5440485374, 211679.5440485374, 211679.5440485374, 211679.5440485374, 211679.5440485374, 211679.5440485374, 211679.5440485374, 211679.5440485374, 211679.5440485374, 211679.5440485374, 211679.5440485374, 211679.5440485374, 211679.5440485374, 211679.5440485374, 211679.5440485374, 211679.5440485374, 211679.5440485374, 211679.5440485374, 211679.5440485374, 211679.5440485374, 211679.5440485374, 211679.5440485374, 211679.5440485374, 211679.5440485374, 211679.5440485374, 211679.5440485374, 211679.5440485374, 211679.5440485374, 211679.5440485374, 211679.5440485374, 211679.5440485374, 211679.5440485374, 211679.5440485374, 211679.5440485374, 211679.5440485374, 211679.5440485374, 211679.5440485374, 211679.5440485374, 211679.5440485374, 211679.5440485374, 211679.5440485374, 211679.5440485374, 211679.5440485374, 211679.5440485374, 211679.5440485374, 211679.5440485374, 211679.5440485374, 211679.5440485374, 211679.5440485374, 211679.5440485374, 211679.5440485374, 211679.5440485374, 211679.5440485374, 211679.5440485374, 211679.5440485374, 211679.5440485374, 211679.5440485374, 211679.5440485374, 211679.5440485374, 211679.5440485374, 211679.5440485374, 211679.5440485374, 211679.5440485374, 211679.5440485374, 211679.5440485374, 211679.5440485374, 211679.5440485374, 211679.5440485374, 211679.5440485374, 211679.5440485374, 211679.5440485374, 211679.5440485374, 211679.5440485374, 211679.5440485374, 211679.5440485374, 211679.5440485374, 211679.5440485374, 211679.5440485374, 211679.5440485374, 211679.5440485374, 211679.5440485374, 211679.5440485374, 211679.5440485374, 211679.5440485374, 211679.5440485374, 211679.5440485374, 211679.5440485374, 211679.5440485374, 211679.5440485374, 211679.5440485374, 211679.5440485374, 211679.5440485374, 211679.5440485374, 211679.5440485374, 211679.5440485374, 211679.5440485374, 211679.5440485374, 211679.5440485374, 211679.5440485374, 211679.5440485374, 211679.5440485374, 211679.5440485374, 211679.5440485374, 211679.5440485374, 211679.5440485374, 211679.5440485374, 211679.5440485374, 211679.5440485374, 211679.5440485374, 211679.5440485374, 211679.5440485374, 211679.5440485374, 211679.5440485374, 211679.5440485374, 211679.5440485374, 211679.5440485374, 211679.5440485374, 211679.5440485374, 211679.5440485374, 211679.5440485374, 211679.5440485374, 211679.5440485374, 211679.5440485374, 211679.5440485374, 211679.5440485374, 211679.5440485374, 211679.5440485374, 211679.5440485374, 211679.5440485374, 211679.5440485374, 211679.5440485374, 211679.5440485374, 211679.5440485374, 211679.5440485374, 211679.5440485374, 211679.5440485374, 211679.5440485374, 211679.5440485374, 211679.5440485374, 211679.5440485374, 211679.5440485374, 211679.5440485374, 211679.5440485374, 211679.5440485374, 211679.5440485374, 211679.5440485374, 211679.5440485374, 211679.5440485374, 211679.5440485374, 211679.5440485374, 211679.5440485374, 211679.5440485374, 211679.5440485374, 211679.5440485374, 211679.5440485374, 211679.5440485374, 211679.5440485374, 211679.5440485374, 211679.5440485374, 211679.5440485374, 211679.5440485374, 211679.5440485374, 211679.5440485374, 211679.5440485374, 211679.5440485374, 211679.5440485374, 211679.5440485374, 211679.5440485374, 211679.5440485374, 211679.5440485374, 211679.5440485374, 211679.5440485374, 211679.5440485374, 211679.5440485374, 211679.5440485374, 211679.5440485374, 211679.5440485374, 211679.5440485374, 211679.5440485374, 211679.5440485374, 211679.5440485374, 211679.5440485374, 211679.5440485374, 211679.5440485374, 211679.5440485374, 211679.5440485374, 211679.5440485374, 211679.5440485374, 211679.5440485374, 211679.5440485374, 211679.5440485374, 211679.5440485374, 211679.5440485374, 211679.5440485374, 211679.5440485374, 211679.5440485374, 211679.5440485374, 211679.5440485374, 211679.5440485374, 211679.5440485374, 211679.5440485374, 211679.5440485374, 211679.5440485374, 211679.5440485374, 211679.5440485374, 211679.5440485374, 211679.5440485374, 211679.5440485374, 211679.5440485374, 211679.5440485374, 211679.5440485374, 211679.5440485374, 211679.5440485374, 211679.5440485374, 211679.5440485374, 211679.5440485374, 211679.5440485374, 211679.5440485374, 211679.5440485374, 211679.5440485374, 211679.5440485374, 211679.5440485374, 211679.5440485374, 211679.5440485374, 211679.5440485374, 211679.5440485374, 211679.5440485374, 211679.5440485374, 211679.5440485374, 211679.5440485374, 211679.5440485374, 211679.5440485374, 211679.5440485374, 211679.5440485374, 211679.5440485374, 211679.5440485374, 211679.5440485374, 211679.5440485374, 211679.5440485374, 211679.5440485374, 211679.5440485374, 211679.5440485374, 211679.5440485374, 211679.5440485374, 211679.5440485374, 211679.5440485374, 211679.5440485374, 211679.5440485374, 211679.5440485374, 211679.5440485374, 211679.5440485374, 211679.5440485374, 211679.5440485374, 211679.5440485374, 211679.5440485374, 211679.5440485374, 211679.5440485374, 211679.5440485374, 211679.5440485374, 211679.5440485374, 211679.5440485374, 211679.5440485374, 211679.5440485374, 211679.5440485374, 211679.5440485374, 211679.5440485374, 211679.5440485374, 211679.5440485374, 211679.5440485374, 211679.5440485374, 211679.5440485374, 211679.5440485374, 211679.5440485374, 211679.5440485374, 211679.5440485374, 211679.5440485374, 211679.5440485374, 211679.5440485374, 211679.5440485374, 211679.5440485374, 211679.5440485374, 211679.5440485374, 211679.5440485374, 211679.5440485374, 211679.5440485374, 211679.5440485374, 211679.5440485374, 211679.5440485374, 211679.5440485374, 211679.5440485374, 211679.5440485374, 211679.5440485374, 211679.5440485374, 211679.5440485374, 211679.5440485374, 211679.5440485374, 211679.5440485374, 211679.5440485374, 211679.5440485374, 211679.5440485374, 211679.5440485374, 211679.5440485374, 211679.5440485374, 211679.5440485374, 211679.5440485374, 211679.5440485374, 211679.5440485374, 211679.5440485374, 211679.5440485374, 211679.5440485374, 211679.5440485374, 211679.5440485374, 211679.5440485374, 211679.5440485374, 211679.5440485374, 211679.5440485374, 211679.5440485374, 211679.5440485374, 211679.5440485374, 211679.5440485374, 211679.5440485374, 211679.5440485374, 211679.5440485374, 211679.5440485374, 211679.5440485374, 211679.5440485374, 211679.5440485374, 211679.5440485374, 211679.5440485374, 211679.5440485374, 211679.5440485374, 211679.5440485374, 211679.5440485374, 211679.5440485374, 211679.5440485374, 211679.5440485374, 211679.5440485374, 211679.5440485374, 211679.5440485374, 211679.5440485374, 211679.5440485374, 211679.5440485374, 211679.5440485374, 211679.5440485374, 211679.5440485374, 211679.5440485374, 211679.5440485374, 211679.5440485374, 211679.5440485374, 211679.5440485374, 211679.5440485374, 211679.5440485374, 211679.5440485374, 211679.5440485374, 211679.5440485374, 211679.5440485374, 211679.5440485374, 211679.5440485374, 211679.5440485374, 211679.5440485374, 211679.5440485374, 211679.5440485374, 211679.5440485374, 211679.5440485374, 211679.5440485374, 211679.5440485374, 211679.5440485374, 211679.5440485374, 211679.5440485374, 211679.5440485374, 211679.5440485374, 211679.5440485374, 211679.5440485374, 211679.5440485374, 211679.5440485374, 211679.5440485374, 211679.5440485374, 211679.5440485374, 211679.5440485374, 211679.5440485374, 211679.5440485374, 211679.5440485374, 211679.5440485374, 211679.5440485374, 211679.5440485374, 211679.5440485374, 211679.5440485374, 211679.5440485374, 211679.5440485374, 211679.5440485374, 211679.5440485374, 211679.5440485374, 211679.5440485374, 211679.5440485374, 211679.5440485374, 211679.5440485374, 211679.5440485374, 211679.5440485374, 211679.5440485374, 211679.5440485374, 211679.5440485374, 211679.5440485374, 211679.5440485374, 211679.5440485374, 211679.5440485374, 211679.5440485374, 211679.5440485374, 211679.5440485374, 211679.5440485374, 211679.5440485374, 211679.5440485374, 211679.5440485374, 211679.5440485374, 211679.5440485374, 211679.5440485374, 211679.5440485374, 211679.5440485374, 211679.5440485374, 211679.5440485374, 211679.5440485374, 211679.5440485374, 211679.5440485374, 211679.5440485374, 211679.5440485374, 211679.5440485374, 211679.5440485374, 211679.5440485374, 211679.5440485374, 211679.5440485374, 211679.5440485374, 211679.5440485374, 211679.5440485374, 211679.5440485374, 211679.5440485374, 211679.5440485374, 211679.5440485374, 211679.5440485374, 211679.5440485374, 211679.5440485374, 211679.5440485374, 211679.5440485374, 211679.5440485374, 211679.5440485374, 211679.5440485374, 211679.5440485374, 211679.5440485374, 211679.5440485374, 211679.5440485374, 211679.5440485374, 211679.5440485374, 211679.5440485374, 211679.5440485374, 211679.5440485374, 211679.5440485374, 211679.5440485374, 211679.5440485374, 211679.5440485374, 211679.5440485374, 211679.5440485374, 211679.5440485374, 211679.5440485374, 211679.5440485374, 211679.5440485374, 211679.5440485374, 211679.5440485374, 211679.5440485374, 211679.5440485374, 211679.5440485374, 211679.5440485374, 211679.5440485374, 211679.5440485374, 211679.5440485374, 211679.5440485374, 211679.5440485374, 211679.5440485374, 211679.5440485374, 211679.5440485374, 211679.5440485374, 211679.5440485374, 211679.5440485374, 211679.5440485374, 211679.5440485374, 211679.5440485374, 211679.5440485374, 211679.5440485374, 211679.5440485374, 211679.5440485374, 211679.5440485374, 211679.5440485374, 211679.5440485374, 211679.5440485374, 211679.5440485374, 211679.5440485374, 211679.5440485374, 211679.5440485374, 211679.5440485374, 211679.5440485374, 211679.5440485374, 211679.5440485374, 211679.5440485374, 211679.5440485374, 211679.5440485374, 211679.5440485374, 211679.5440485374, 211679.5440485374, 211679.5440485374, 211679.5440485374, 211679.5440485374, 211679.5440485374, 211679.5440485374, 211679.5440485374, 211679.5440485374, 211679.5440485374, 211679.5440485374, 211679.5440485374, 211679.5440485374, 211679.5440485374, 211679.5440485374, 211679.5440485374, 211679.5440485374, 211679.5440485374, 211679.5440485374, 211679.5440485374, 211679.5440485374, 211679.5440485374, 211679.5440485374, 211679.5440485374, 211679.5440485374, 211679.5440485374, 211679.5440485374, 211679.5440485374, 211679.5440485374, 211679.5440485374, 211679.5440485374, 211679.5440485374, 211679.5440485374, 211679.5440485374, 211679.5440485374, 211679.5440485374, 211679.5440485374, 211679.5440485374, 211679.5440485374, 211679.5440485374, 211679.5440485374, 211679.5440485374, 211679.5440485374, 211679.5440485374, 211679.5440485374, 211679.5440485374, 211679.5440485374, 211679.5440485374, 211679.5440485374, 211679.5440485374, 211679.5440485374, 211679.5440485374, 211679.5440485374, 211679.5440485374, 211679.5440485374, 211679.5440485374, 211679.5440485374, 211679.5440485374, 211679.5440485374, 211679.5440485374, 211679.5440485374, 211679.5440485374, 211679.5440485374, 211679.5440485374, 211679.5440485374, 211679.5440485374, 211679.5440485374, 211679.5440485374, 211679.5440485374, 211679.5440485374, 211679.5440485374, 211679.5440485374, 211679.5440485374, 211679.5440485374, 211679.5440485374, 211679.5440485374, 211679.5440485374, 211679.5440485374, 211679.5440485374, 211679.5440485374, 211679.5440485374, 211679.5440485374, 211679.5440485374, 211679.5440485374, 211679.5440485374, 211679.5440485374, 211679.5440485374, 211679.5440485374, 211679.5440485374, 211679.5440485374, 211679.5440485374, 211679.5440485374, 211679.5440485374, 211679.5440485374, 211679.5440485374, 211679.5440485374, 211679.5440485374, 211679.5440485374, 211679.5440485374, 211679.5440485374, 211679.5440485374, 211679.5440485374, 211679.5440485374, 211679.5440485374, 211679.5440485374, 211679.5440485374, 211679.5440485374, 211679.5440485374, 211679.5440485374, 211679.5440485374, 211679.5440485374, 211679.5440485374, 211679.5440485374, 211679.5440485374, 211679.5440485374, 211679.5440485374, 211679.5440485374, 211679.5440485374, 211679.5440485374, 211679.5440485374, 211679.5440485374, 211679.5440485374, 211679.5440485374, 211679.5440485374, 211679.5440485374, 211679.5440485374, 211679.5440485374, 211679.5440485374, 211679.5440485374, 211679.5440485374, 211679.5440485374, 211679.5440485374, 211679.5440485374, 211679.5440485374, 211679.5440485374, 211679.5440485374, 211679.5440485374, 211679.5440485374, 211679.5440485374, 211679.5440485374, 211679.5440485374, 211679.5440485374, 211679.5440485374, 211679.5440485374, 211679.5440485374, 211679.5440485374, 211679.5440485374, 211679.5440485374, 211679.5440485374, 211679.5440485374, 211679.5440485374, 211679.5440485374, 211679.5440485374, 211679.5440485374, 211679.5440485374, 211679.5440485374, 211679.5440485374, 211679.5440485374, 211679.5440485374, 211679.5440485374, 211679.5440485374, 211679.5440485374, 211679.5440485374, 211679.5440485374, 211679.5440485374, 211679.5440485374, 211679.5440485374, 211679.5440485374, 211679.5440485374, 211679.5440485374, 211679.5440485374, 211679.5440485374, 211679.5440485374, 211679.5440485374, 211679.5440485374, 211679.5440485374, 211679.5440485374, 211679.5440485374, 211679.5440485374, 211679.5440485374, 211679.5440485374, 211679.5440485374, 211679.5440485374, 211679.5440485374, 211679.5440485374, 211679.5440485374, 211679.5440485374, 211679.5440485374, 211679.5440485374, 211679.5440485374, 211679.5440485374, 211679.5440485374, 211679.5440485374, 211679.5440485374, 211679.5440485374, 211679.5440485374, 211679.5440485374, 211679.5440485374, 211679.5440485374, 211679.5440485374, 211679.5440485374, 211679.5440485374, 211679.5440485374, 211679.5440485374, 211679.5440485374, 211679.5440485374, 211679.5440485374, 211679.5440485374, 211679.5440485374, 211679.5440485374, 211679.5440485374, 211679.5440485374, 211679.5440485374, 211679.5440485374, 211679.5440485374, 211679.5440485374, 211679.5440485374, 211679.5440485374, 211679.5440485374, 211679.5440485374, 211679.5440485374, 211679.5440485374, 211679.5440485374, 211679.5440485374, 211679.5440485374, 211679.5440485374, 211679.5440485374, 211679.5440485374, 211679.5440485374, 211679.5440485374, 211679.5440485374, 211679.5440485374, 211679.5440485374, 211679.5440485374, 211679.5440485374, 211679.5440485374, 211679.5440485374, 211679.5440485374, 211679.5440485374, 211679.5440485374, 211679.5440485374, 211679.5440485374, 211679.5440485374, 211679.5440485374, 211679.5440485374, 211679.5440485374, 211679.5440485374, 211679.5440485374, 211679.5440485374, 211679.5440485374, 211679.5440485374, 211679.5440485374, 211679.5440485374, 211679.5440485374, 211679.5440485374, 211679.5440485374, 211679.5440485374, 211679.5440485374, 211679.5440485374, 211679.5440485374, 211679.5440485374, 211679.5440485374, 211679.5440485374, 211679.5440485374, 211679.5440485374, 211679.5440485374, 211679.5440485374, 211679.5440485374, 211679.5440485374, 211679.5440485374, 211679.5440485374, 211679.5440485374, 211679.5440485374, 211679.5440485374, 211679.5440485374, 211679.5440485374, 211679.5440485374, 211679.5440485374, 211679.5440485374, 211679.5440485374, 211679.5440485374, 211679.5440485374, 211679.5440485374, 211679.5440485374, 211679.5440485374, 211679.5440485374, 211679.5440485374, 211679.5440485374, 211679.5440485374, 211679.5440485374, 211679.5440485374, 211679.5440485374, 211679.5440485374, 211679.5440485374, 211679.5440485374, 211679.5440485374, 211679.5440485374, 211679.5440485374, 211679.5440485374, 211679.5440485374, 211679.5440485374, 211679.5440485374, 211679.5440485374, 211679.5440485374, 211679.5440485374, 211679.5440485374, 211679.5440485374, 211679.5440485374, 211679.5440485374, 211679.5440485374, 211679.5440485374, 211679.5440485374, 211679.5440485374, 211679.5440485374, 211679.5440485374, 211679.5440485374, 211679.5440485374, 211679.5440485374, 211679.5440485374, 211679.5440485374, 211679.5440485374, 211679.5440485374, 211679.5440485374, 211679.5440485374, 211679.5440485374, 211679.5440485374, 211679.5440485374, 211679.5440485374, 211679.5440485374, 211679.5440485374, 211679.5440485374, 211679.5440485374, 211679.5440485374, 211679.5440485374, 211679.5440485374, 211679.5440485374, 211679.5440485374, 211679.5440485374, 211679.5440485374, 211679.5440485374, 211679.5440485374, 211679.5440485374, 211679.5440485374, 211679.5440485374, 211679.5440485374, 211679.5440485374, 211679.5440485374, 211679.5440485374, 211679.5440485374, 211679.5440485374, 211679.5440485374, 211679.5440485374, 211679.5440485374, 211679.5440485374, 211679.5440485374, 211679.5440485374, 211679.5440485374, 211679.5440485374, 211679.5440485374, 211679.5440485374, 211679.5440485374, 211679.5440485374, 211679.5440485374, 211679.5440485374, 211679.5440485374, 211679.5440485374, 211679.5440485374, 211679.5440485374, 211679.5440485374, 211679.5440485374, 211679.5440485374, 211679.5440485374, 211679.5440485374, 211679.5440485374, 211679.5440485374, 211679.5440485374, 211679.5440485374, 211679.5440485374, 211679.5440485374, 211679.5440485374, 211679.5440485374, 211679.5440485374, 211679.5440485374, 211679.5440485374, 211679.5440485374, 211679.5440485374, 211679.5440485374, 211679.5440485374, 211679.5440485374, 211679.5440485374, 211679.5440485374, 211679.5440485374, 211679.5440485374, 211679.5440485374, 211679.5440485374, 211679.5440485374, 211679.5440485374, 211679.5440485374, 211679.5440485374, 211679.5440485374, 211679.5440485374, 211679.5440485374, 211679.5440485374, 211679.5440485374, 211679.5440485374, 211679.5440485374, 211679.5440485374, 211679.5440485374, 211679.5440485374, 211679.5440485374, 211679.5440485374, 211679.5440485374, 211679.5440485374, 211679.5440485374, 211679.5440485374, 211679.5440485374, 211679.5440485374, 211679.5440485374, 211679.5440485374, 211679.5440485374, 211679.5440485374, 211679.5440485374, 211679.5440485374, 211679.5440485374, 211679.5440485374, 211679.5440485374, 211679.5440485374, 211679.5440485374, 211679.5440485374, 211679.5440485374, 211679.5440485374, 211679.5440485374, 211679.5440485374, 211679.5440485374, 211679.5440485374, 211679.5440485374, 211679.5440485374, 211679.5440485374, 211679.5440485374, 211679.5440485374, 211679.5440485374, 211679.5440485374, 211679.5440485374, 211679.5440485374, 211679.5440485374, 211679.5440485374, 211679.5440485374, 211679.5440485374, 211679.5440485374, 211679.5440485374, 211679.5440485374, 211679.5440485374, 211679.5440485374, 211679.5440485374, 211679.5440485374, 211679.5440485374, 211679.5440485374, 211679.5440485374, 211679.5440485374, 211679.5440485374, 211679.5440485374, 211679.5440485374, 211679.5440485374, 211679.5440485374, 211679.5440485374, 211679.5440485374, 211679.5440485374, 211679.5440485374, 211679.5440485374, 211679.5440485374, 211679.5440485374, 211679.5440485374, 211679.5440485374, 211679.5440485374, 211679.5440485374, 211679.5440485374, 211679.5440485374, 211679.5440485374, 211679.5440485374, 211679.5440485374, 211679.5440485374, 211679.5440485374, 211679.5440485374, 211679.5440485374, 211679.5440485374, 211679.5440485374, 211679.5440485374, 211679.5440485374, 211679.5440485374, 211679.5440485374, 211679.5440485374, 211679.5440485374, 211679.5440485374, 211679.5440485374, 211679.5440485374, 211679.5440485374, 211679.5440485374, 211679.5440485374, 211679.5440485374, 211679.5440485374, 211679.5440485374, 211679.5440485374, 211679.5440485374, 211679.5440485374, 211679.5440485374, 211679.5440485374, 211679.5440485374, 211679.5440485374, 211679.5440485374, 211679.5440485374, 211679.5440485374, 211679.5440485374, 211679.5440485374, 211679.5440485374, 211679.5440485374, 211679.5440485374, 211679.5440485374, 211679.5440485374, 211679.5440485374, 211679.5440485374, 211679.5440485374, 211679.5440485374, 211679.5440485374, 211679.5440485374, 211679.5440485374, 211679.5440485374, 211679.5440485374, 211679.5440485374, 211679.5440485374, 211679.5440485374, 211679.5440485374, 211679.5440485374, 211679.5440485374, 211679.5440485374, 211679.5440485374, 211679.5440485374, 211679.5440485374, 211679.5440485374, 211679.5440485374, 211679.5440485374, 211679.5440485374, 211679.5440485374, 211679.5440485374, 211679.5440485374, 211679.5440485374, 211679.5440485374, 211679.5440485374, 211679.5440485374, 211679.5440485374, 211679.5440485374, 211679.5440485374, 211679.5440485374, 211679.5440485374, 211679.5440485374, 211679.5440485374, 211679.5440485374, 211679.5440485374, 211679.5440485374, 211679.5440485374, 211679.5440485374, 211679.5440485374, 211679.5440485374, 211679.5440485374, 211679.5440485374, 211679.5440485374, 211679.5440485374, 211679.5440485374, 211679.5440485374, 211679.5440485374, 211679.5440485374, 211679.5440485374, 211679.5440485374, 211679.5440485374, 211679.5440485374, 211679.5440485374, 211679.5440485374, 211679.5440485374, 211679.5440485374, 211679.5440485374, 211679.5440485374, 211679.5440485374, 211679.5440485374, 211679.5440485374, 211679.5440485374, 211679.5440485374, 211679.5440485374, 211679.5440485374, 211679.5440485374, 211679.5440485374, 211679.5440485374, 211679.5440485374, 211679.5440485374, 211679.5440485374, 211679.5440485374, 211679.5440485374, 211679.5440485374, 211679.5440485374, 211679.5440485374, 211679.5440485374, 211679.5440485374, 211679.5440485374, 211679.5440485374, 211679.5440485374, 211679.5440485374, 211679.5440485374, 211679.5440485374, 211679.5440485374, 211679.5440485374, 211679.5440485374, 211679.5440485374, 211679.5440485374, 211679.5440485374, 211679.5440485374, 211679.5440485374, 211679.5440485374, 211679.5440485374, 211679.5440485374, 211679.5440485374, 211679.5440485374, 211679.5440485374, 211679.5440485374, 211679.5440485374, 211679.5440485374, 211679.5440485374, 211679.5440485374, 211679.5440485374, 211679.5440485374, 211679.5440485374, 211679.5440485374, 211679.5440485374, 211679.5440485374, 211679.5440485374, 211679.5440485374, 211679.5440485374, 211679.5440485374, 211679.5440485374, 211679.5440485374, 211679.5440485374, 211679.5440485374, 211679.5440485374, 211679.5440485374, 211679.5440485374, 211679.5440485374, 211679.5440485374, 211679.5440485374, 211679.5440485374, 211679.5440485374, 211679.5440485374, 211679.5440485374, 211679.5440485374, 211679.5440485374, 211679.5440485374, 211679.5440485374, 211679.5440485374, 211679.5440485374, 211679.5440485374, 211679.5440485374, 211679.5440485374, 211679.5440485374, 211679.5440485374, 211679.5440485374, 211679.5440485374, 211679.5440485374, 211679.5440485374, 211679.5440485374, 211679.5440485374, 211679.5440485374, 211679.5440485374, 211679.5440485374, 211679.5440485374, 211679.5440485374, 211679.5440485374, 211679.5440485374, 211679.5440485374, 211679.5440485374, 211679.5440485374, 211679.5440485374, 211679.5440485374, 211679.5440485374, 211679.5440485374, 211679.5440485374, 211679.5440485374, 211679.5440485374, 211679.5440485374, 211679.5440485374, 211679.5440485374, 211679.5440485374, 211679.5440485374, 211679.5440485374, 211679.5440485374, 211679.5440485374, 211679.5440485374, 211679.5440485374, 211679.5440485374, 211679.5440485374, 211679.5440485374, 211679.5440485374, 211679.5440485374, 211679.5440485374, 211679.5440485374, 211679.5440485374, 211679.5440485374, 211679.5440485374, 211679.5440485374, 211679.5440485374, 211679.5440485374, 211679.5440485374, 211679.5440485374, 211679.5440485374, 211679.5440485374, 211679.5440485374, 211679.5440485374, 211679.5440485374, 211679.5440485374, 211679.5440485374, 211679.5440485374, 211679.5440485374, 211679.5440485374, 211679.5440485374, 211679.5440485374, 211679.5440485374, 211679.5440485374, 211679.5440485374, 211679.5440485374, 211679.5440485374, 211679.5440485374, 211679.5440485374, 211679.5440485374, 211679.5440485374, 211679.5440485374, 211679.5440485374, 211679.5440485374, 211679.5440485374, 211679.5440485374, 211679.5440485374, 211679.5440485374, 211679.5440485374, 211679.5440485374, 211679.5440485374, 211679.5440485374, 211679.5440485374, 211679.5440485374, 211679.5440485374, 211679.5440485374, 211679.5440485374, 211679.5440485374, 211679.5440485374, 211679.5440485374, 211679.5440485374, 211679.5440485374, 211679.5440485374, 211679.5440485374, 211679.5440485374, 211679.5440485374, 211679.5440485374, 211679.5440485374, 211679.5440485374, 211679.5440485374, 211679.5440485374, 211679.5440485374, 211679.5440485374, 211679.5440485374, 211679.5440485374, 211679.5440485374, 211679.5440485374, 211679.5440485374, 211679.5440485374, 211679.5440485374, 211679.5440485374, 211679.5440485374, 211679.5440485374, 211679.5440485374, 211679.5440485374, 211679.5440485374, 211679.5440485374, 211679.5440485374, 211679.5440485374, 211679.5440485374, 211679.5440485374, 211679.5440485374, 211679.5440485374, 211679.5440485374, 211679.5440485374, 211679.5440485374, 211679.5440485374, 211679.5440485374, 211679.5440485374, 211679.5440485374, 211679.5440485374, 211679.5440485374, 211679.5440485374, 211679.5440485374, 211679.5440485374, 211679.5440485374, 211679.5440485374, 211679.5440485374, 211679.5440485374, 211679.5440485374, 211679.5440485374, 211679.5440485374, 211679.5440485374, 211679.5440485374, 211679.5440485374, 211679.5440485374, 211679.5440485374, 211679.5440485374, 211679.5440485374, 211679.5440485374, 211679.5440485374, 211679.5440485374, 211679.5440485374, 211679.5440485374, 211679.5440485374, 211679.5440485374, 211679.5440485374, 211679.5440485374, 211679.5440485374, 211679.5440485374, 211679.5440485374, 211679.5440485374, 211679.5440485374, 211679.5440485374, 211679.5440485374, 211679.5440485374, 211679.5440485374, 211679.5440485374, 211679.5440485374, 211679.5440485374, 211679.5440485374, 211679.5440485374, 211679.5440485374, 211679.5440485374, 211679.5440485374, 211679.5440485374, 211679.5440485374, 211679.5440485374, 211679.5440485374, 211679.5440485374, 211679.5440485374, 211679.5440485374, 211679.5440485374, 211679.5440485374, 211679.5440485374, 211679.5440485374, 211679.5440485374, 211679.5440485374, 211679.5440485374, 211679.5440485374, 211679.5440485374, 211679.5440485374, 211679.5440485374, 211679.5440485374, 211679.5440485374, 211679.5440485374, 211679.5440485374, 211679.5440485374, 211679.5440485374, 211679.5440485374, 211679.5440485374, 211679.5440485374, 211679.5440485374, 211679.5440485374, 211679.5440485374, 211679.5440485374, 211679.5440485374, 211679.5440485374, 211679.5440485374, 211679.5440485374, 211679.5440485374, 211679.5440485374, 211679.5440485374, 211679.5440485374, 211679.5440485374, 211679.5440485374, 211679.5440485374, 211679.5440485374, 211679.5440485374, 211679.5440485374, 211679.5440485374, 211679.5440485374, 211679.5440485374, 211679.5440485374, 211679.5440485374, 211679.5440485374, 211679.5440485374, 211679.5440485374, 211679.5440485374, 211679.5440485374, 211679.5440485374, 211679.5440485374, 211679.5440485374, 211679.5440485374, 211679.5440485374, 211679.5440485374, 211679.5440485374, 211679.5440485374, 211679.5440485374, 211679.5440485374, 211679.5440485374, 211679.5440485374, 211679.5440485374, 211679.5440485374, 211679.5440485374, 211679.5440485374, 211679.5440485374, 211679.5440485374, 211679.5440485374, 211679.5440485374, 211679.5440485374, 211679.5440485374, 211679.5440485374, 211679.5440485374, 211679.5440485374, 211679.5440485374, 211679.5440485374, 211679.5440485374, 211679.5440485374, 211679.5440485374, 211679.5440485374, 211679.5440485374, 211679.5440485374, 211679.5440485374, 211679.5440485374, 211679.5440485374, 211679.5440485374, 211679.5440485374, 211679.5440485374, 211679.5440485374, 211679.5440485374, 211679.5440485374, 211679.5440485374, 211679.5440485374, 211679.5440485374, 211679.5440485374, 211679.5440485374, 211679.5440485374, 211679.5440485374, 211679.5440485374, 211679.5440485374, 211679.5440485374, 211679.5440485374, 211679.5440485374, 211679.5440485374, 211679.5440485374, 211679.5440485374, 211679.5440485374, 211679.5440485374, 211679.5440485374, 211679.5440485374, 211679.5440485374, 211679.5440485374, 211679.5440485374, 211679.5440485374, 211679.5440485374, 211679.5440485374, 211679.5440485374, 211679.5440485374, 211679.5440485374, 211679.5440485374, 211679.5440485374, 211679.5440485374, 211679.5440485374, 211679.5440485374, 211679.5440485374, 211679.5440485374, 211679.5440485374, 211679.5440485374, 211679.5440485374, 211679.5440485374, 211679.5440485374, 211679.5440485374, 211679.5440485374, 211679.5440485374, 211679.5440485374, 211679.5440485374, 211679.5440485374, 211679.5440485374, 211679.5440485374, 211679.5440485374, 211679.5440485374, 211679.5440485374, 211679.5440485374, 211679.5440485374, 211679.5440485374, 211679.5440485374, 211679.5440485374, 211679.5440485374, 211679.5440485374, 211679.5440485374, 211679.5440485374, 211679.5440485374, 211679.5440485374, 211679.5440485374, 211679.5440485374, 211679.5440485374, 211679.5440485374, 211679.5440485374, 211679.5440485374, 211679.5440485374, 211679.5440485374, 211679.5440485374, 211679.5440485374, 211679.5440485374, 211679.5440485374, 211679.5440485374, 211679.5440485374, 211679.5440485374, 211679.5440485374, 211679.5440485374, 211679.5440485374, 211679.5440485374, 211679.5440485374, 211679.5440485374, 211679.5440485374, 211679.5440485374, 211679.5440485374, 211679.5440485374, 211679.5440485374, 211679.5440485374, 211679.5440485374, 211679.5440485374, 211679.5440485374, 211679.5440485374, 211679.5440485374, 211679.5440485374, 211679.5440485374, 211679.5440485374, 211679.5440485374, 211679.5440485374, 211679.5440485374, 211679.5440485374, 211679.5440485374, 211679.5440485374, 211679.5440485374, 211679.5440485374, 211679.5440485374, 211679.5440485374, 211679.5440485374, 211679.5440485374, 211679.5440485374, 211679.5440485374, 211679.5440485374, 211679.5440485374, 211679.5440485374, 211679.5440485374, 211679.5440485374, 211679.5440485374, 211679.5440485374, 211679.5440485374, 211679.5440485374, 211679.5440485374, 211679.5440485374, 211679.5440485374, 211679.5440485374, 211679.5440485374, 211679.5440485374, 211679.5440485374, 211679.5440485374, 211679.5440485374, 211679.5440485374, 211679.5440485374, 211679.5440485374, 211679.5440485374, 211679.5440485374, 211679.5440485374, 211679.5440485374, 211679.5440485374, 211679.5440485374, 211679.5440485374, 211679.5440485374, 211679.5440485374, 211679.5440485374, 211679.5440485374, 211679.5440485374, 211679.5440485374, 211679.5440485374, 211679.5440485374, 211679.5440485374, 211679.5440485374, 211679.5440485374, 211679.5440485374, 211679.5440485374, 211679.5440485374, 211679.5440485374, 211679.5440485374, 211679.5440485374, 211679.5440485374, 211679.5440485374, 211679.5440485374, 211679.5440485374, 211679.5440485374, 211679.5440485374, 211679.5440485374, 211679.5440485374, 211679.5440485374, 211679.5440485374, 211679.5440485374, 211679.5440485374, 211679.5440485374, 211679.5440485374, 211679.5440485374, 211679.5440485374, 211679.5440485374, 211679.5440485374, 211679.5440485374, 211679.5440485374, 211679.5440485374, 211679.5440485374, 211679.5440485374, 211679.5440485374, 211679.5440485374, 211679.5440485374, 211679.5440485374, 211679.5440485374, 211679.5440485374, 211679.5440485374, 211679.5440485374, 211679.5440485374, 211679.5440485374, 211679.5440485374, 211679.5440485374, 211679.5440485374, 211679.5440485374, 211679.5440485374, 211679.5440485374, 211679.5440485374, 211679.5440485374, 211679.5440485374, 211679.5440485374, 211679.5440485374, 211679.5440485374, 211679.5440485374, 211679.5440485374, 211679.5440485374, 211679.5440485374, 211679.5440485374, 211679.5440485374, 211679.5440485374, 211679.5440485374, 211679.5440485374, 211679.5440485374, 211679.5440485374, 211679.5440485374, 211679.5440485374, 211679.5440485374, 211679.5440485374, 211679.5440485374, 211679.5440485374, 211679.5440485374, 211679.5440485374, 211679.5440485374, 211679.5440485374, 211679.5440485374, 211679.5440485374, 211679.5440485374, 211679.5440485374, 211679.5440485374, 211679.5440485374, 211679.5440485374, 211679.5440485374, 211679.5440485374, 211679.5440485374, 211679.5440485374, 211679.5440485374, 211679.5440485374, 211679.5440485374, 211679.5440485374, 211679.5440485374, 211679.5440485374, 211679.5440485374, 211679.5440485374, 211679.5440485374, 211679.5440485374, 211679.5440485374, 211679.5440485374, 211679.5440485374, 211679.5440485374, 211679.5440485374, 211679.5440485374, 211679.5440485374, 211679.5440485374, 211679.5440485374, 211679.5440485374, 211679.5440485374, 211679.5440485374, 211679.5440485374, 211679.5440485374, 211679.5440485374, 211679.5440485374, 211679.5440485374, 211679.5440485374, 211679.5440485374, 211679.5440485374, 211679.5440485374, 211679.5440485374, 211679.5440485374, 211679.5440485374, 211679.5440485374, 211679.5440485374, 211679.5440485374, 211679.5440485374, 211679.5440485374, 211679.5440485374, 211679.5440485374, 211679.5440485374, 211679.5440485374, 211679.5440485374, 211679.5440485374, 211679.5440485374, 211679.5440485374, 211679.5440485374, 211679.5440485374, 211679.5440485374, 211679.5440485374, 211679.5440485374, 211679.5440485374, 211679.5440485374, 211679.5440485374, 211679.5440485374, 211679.5440485374, 211679.5440485374, 211679.5440485374, 211679.5440485374, 211679.5440485374, 211679.5440485374, 211679.5440485374, 211679.5440485374, 211679.5440485374, 211679.5440485374, 211679.5440485374, 211679.5440485374, 211679.5440485374, 211679.5440485374, 211679.5440485374, 211679.5440485374, 211679.5440485374, 211679.5440485374, 211679.5440485374, 211679.5440485374, 211679.5440485374, 211679.5440485374, 211679.5440485374, 211679.5440485374, 211679.5440485374, 211679.5440485374, 211679.5440485374, 211679.5440485374, 211679.5440485374, 211679.5440485374, 211679.5440485374, 211679.5440485374, 211679.5440485374, 211679.5440485374, 211679.5440485374, 211679.5440485374, 211679.5440485374, 211679.5440485374, 211679.5440485374, 211679.5440485374, 211679.5440485374, 211679.5440485374, 211679.5440485374, 211679.5440485374, 211679.5440485374, 211679.5440485374, 211679.5440485374, 211679.5440485374, 211679.5440485374, 211679.5440485374, 211679.5440485374, 211679.5440485374, 211679.5440485374, 211679.5440485374, 211679.5440485374, 211679.5440485374, 211679.5440485374, 211679.5440485374, 211679.5440485374, 211679.5440485374, 211679.5440485374, 211679.5440485374, 211679.5440485374, 211679.5440485374, 211679.5440485374, 211679.5440485374, 211679.5440485374, 211679.5440485374, 211679.5440485374, 211679.5440485374, 211679.5440485374, 211679.5440485374, 211679.5440485374, 211679.5440485374, 211679.5440485374, 211679.5440485374, 211679.5440485374, 211679.5440485374, 211679.5440485374, 211679.5440485374, 211679.5440485374, 211679.5440485374, 211679.5440485374, 211679.5440485374, 211679.5440485374, 211679.5440485374, 211679.5440485374, 211679.5440485374, 211679.5440485374, 211679.5440485374, 211679.5440485374, 211679.5440485374, 211679.5440485374, 211679.5440485374, 211679.5440485374, 211679.5440485374, 211679.5440485374, 211679.5440485374, 211679.5440485374, 211679.5440485374, 211679.5440485374, 211679.5440485374, 211679.5440485374, 211679.5440485374, 211679.5440485374, 211679.5440485374, 211679.5440485374, 211679.5440485374, 211679.5440485374, 211679.5440485374, 211679.5440485374, 211679.5440485374, 211679.5440485374, 211679.5440485374, 211679.5440485374, 211679.5440485374, 211679.5440485374, 211679.5440485374, 211679.5440485374, 211679.5440485374, 211679.5440485374, 211679.5440485374, 211679.5440485374, 211679.5440485374, 211679.5440485374, 211679.5440485374, 211679.5440485374, 211679.5440485374, 211679.5440485374, 211679.5440485374, 211679.5440485374, 211679.5440485374, 211679.5440485374, 211679.5440485374, 211679.5440485374, 211679.5440485374, 211679.5440485374, 211679.5440485374, 211679.5440485374, 211679.5440485374, 211679.5440485374, 211679.5440485374, 211679.5440485374, 211679.5440485374, 211679.5440485374, 211679.5440485374, 211679.5440485374, 211679.5440485374, 211679.5440485374, 211679.5440485374, 211679.5440485374, 211679.5440485374, 211679.5440485374, 211679.5440485374, 211679.5440485374, 211679.5440485374, 211679.5440485374, 211679.5440485374, 211679.5440485374, 211679.5440485374, 211679.5440485374, 211679.5440485374, 211679.5440485374, 211679.5440485374, 211679.5440485374, 211679.5440485374, 211679.5440485374, 211679.5440485374, 211679.5440485374, 211679.5440485374, 211679.5440485374, 211679.5440485374, 211679.5440485374, 211679.5440485374, 211679.5440485374, 211679.5440485374, 211679.5440485374, 211679.5440485374, 211679.5440485374, 211679.5440485374, 211679.5440485374, 211679.5440485374, 211679.5440485374, 211679.5440485374, 211679.5440485374, 211679.5440485374, 211679.5440485374, 211679.5440485374, 211679.5440485374, 211679.5440485374, 211679.5440485374, 211679.5440485374, 211679.5440485374, 211679.5440485374, 211679.5440485374, 211679.5440485374, 211679.5440485374, 211679.5440485374, 211679.5440485374, 211679.5440485374, 211679.5440485374, 211679.5440485374, 211679.5440485374, 211679.5440485374, 211679.5440485374, 211679.5440485374, 211679.5440485374, 211679.5440485374, 211679.5440485374, 211679.5440485374, 211679.5440485374, 211679.5440485374, 211679.5440485374, 211679.5440485374, 211679.5440485374, 211679.5440485374, 211679.5440485374, 211679.5440485374, 211679.5440485374, 211679.5440485374, 211679.5440485374, 211679.5440485374, 211679.5440485374, 211679.5440485374, 211679.5440485374, 211679.5440485374, 211679.5440485374, 211679.5440485374, 211679.5440485374, 211679.5440485374, 211679.5440485374, 211679.5440485374, 211679.5440485374, 211679.5440485374, 211679.5440485374, 211679.5440485374, 211679.5440485374, 211679.5440485374, 211679.5440485374, 211679.5440485374, 211679.5440485374, 211679.5440485374, 211679.5440485374, 211679.5440485374, 211679.5440485374, 211679.5440485374, 211679.5440485374, 211679.5440485374, 211679.5440485374, 211679.5440485374, 211679.5440485374, 211679.5440485374, 211679.5440485374, 211679.5440485374, 211679.5440485374, 211679.5440485374, 211679.5440485374, 211679.5440485374, 211679.5440485374, 211679.5440485374, 211679.5440485374, 211679.5440485374, 211679.5440485374, 211679.5440485374, 211679.5440485374, 211679.5440485374, 211679.5440485374, 211679.5440485374, 211679.5440485374, 211679.5440485374, 211679.5440485374, 211679.5440485374, 211679.5440485374, 211679.5440485374, 211679.5440485374, 211679.5440485374, 211679.5440485374, 211679.5440485374, 211679.5440485374, 211679.5440485374, 211679.5440485374, 211679.5440485374, 211679.5440485374, 211679.5440485374, 211679.5440485374, 211679.5440485374, 211679.5440485374, 211679.5440485374, 211679.5440485374, 211679.5440485374, 211679.5440485374, 211679.5440485374, 211679.5440485374, 211679.5440485374, 211679.5440485374, 211679.5440485374, 211679.5440485374, 211679.5440485374, 211679.5440485374, 211679.5440485374, 211679.5440485374, 211679.5440485374, 211679.5440485374, 211679.5440485374, 211679.5440485374, 211679.5440485374, 211679.5440485374, 211679.5440485374, 211679.5440485374, 211679.5440485374, 211679.5440485374, 211679.5440485374, 211679.5440485374, 211679.5440485374, 211679.5440485374, 211679.5440485374, 211679.5440485374, 211679.5440485374, 211679.5440485374, 211679.5440485374, 211679.5440485374, 211679.5440485374, 211679.5440485374, 211679.5440485374, 211679.5440485374, 211679.5440485374, 211679.5440485374, 211679.5440485374, 211679.5440485374, 211679.5440485374, 211679.5440485374, 211679.5440485374, 211679.5440485374, 211679.5440485374, 211679.5440485374, 211679.5440485374, 211679.5440485374, 211679.5440485374, 211679.5440485374, 211679.5440485374, 211679.5440485374, 211679.5440485374, 211679.5440485374, 211679.5440485374, 211679.5440485374, 211679.5440485374, 211679.5440485374, 211679.5440485374, 211679.5440485374, 211679.5440485374, 211679.5440485374, 211679.5440485374, 211679.5440485374, 211679.5440485374, 211679.5440485374, 211679.5440485374, 211679.5440485374, 211679.5440485374, 211679.5440485374, 211679.5440485374, 211679.5440485374, 211679.5440485374, 211679.5440485374, 211679.5440485374, 211679.5440485374, 211679.5440485374, 211679.5440485374, 211679.5440485374, 211679.5440485374, 211679.5440485374, 211679.5440485374, 211679.5440485374, 211679.5440485374, 211679.5440485374, 211679.5440485374, 211679.5440485374, 211679.5440485374, 211679.5440485374, 211679.5440485374, 211679.5440485374, 211679.5440485374, 211679.5440485374, 211679.5440485374, 211679.5440485374, 211679.5440485374, 211679.5440485374, 211679.5440485374, 211679.5440485374, 211679.5440485374, 211679.5440485374, 211679.5440485374, 211679.5440485374, 211679.5440485374, 211679.5440485374, 211679.5440485374, 211679.5440485374, 211679.5440485374, 211679.5440485374, 211679.5440485374, 211679.5440485374, 211679.5440485374, 211679.5440485374, 211679.5440485374, 211679.5440485374, 211679.5440485374, 211679.5440485374, 211679.5440485374, 211679.5440485374, 211679.5440485374, 211679.5440485374, 211679.5440485374, 211679.5440485374, 211679.5440485374, 211679.5440485374, 211679.5440485374, 211679.5440485374, 211679.5440485374, 211679.5440485374, 211679.5440485374, 211679.5440485374, 211679.5440485374, 211679.5440485374, 211679.5440485374, 211679.5440485374, 211679.5440485374, 211679.5440485374, 211679.5440485374, 211679.5440485374, 211679.5440485374, 211679.5440485374, 211679.5440485374, 211679.5440485374, 211679.5440485374, 211679.5440485374, 211679.5440485374, 211679.5440485374, 211679.5440485374, 211679.5440485374, 211679.5440485374, 211679.5440485374, 211679.5440485374, 211679.5440485374, 211679.5440485374, 211679.5440485374, 211679.5440485374, 211679.5440485374, 211679.5440485374, 211679.5440485374, 211679.5440485374, 211679.5440485374, 211679.5440485374, 211679.5440485374, 211679.5440485374, 211679.5440485374, 211679.5440485374, 211679.5440485374, 211679.5440485374, 211679.5440485374, 211679.5440485374, 211679.5440485374, 211679.5440485374, 211679.5440485374, 211679.5440485374, 211679.5440485374, 211679.5440485374, 211679.5440485374, 211679.5440485374, 211679.5440485374, 211679.5440485374, 211679.5440485374, 211679.5440485374, 211679.5440485374, 211679.5440485374, 211679.5440485374, 211679.5440485374, 211679.5440485374, 211679.5440485374, 211679.5440485374, 211679.5440485374, 211679.5440485374, 211679.5440485374, 211679.5440485374, 211679.5440485374, 211679.5440485374, 211679.5440485374, 211679.5440485374, 211679.5440485374, 211679.5440485374, 211679.5440485374, 211679.5440485374, 211679.5440485374, 211679.5440485374, 211679.5440485374, 211679.5440485374, 211679.5440485374, 211679.5440485374, 211679.5440485374, 211679.5440485374, 211679.5440485374, 211679.5440485374, 211679.5440485374, 211679.5440485374, 211679.5440485374, 211679.5440485374, 211679.5440485374, 211679.5440485374, 211679.5440485374, 211679.5440485374, 211679.5440485374, 211679.5440485374, 211679.5440485374, 211679.5440485374, 211679.5440485374, 211679.5440485374, 211679.5440485374, 211679.5440485374, 211679.5440485374, 211679.5440485374, 211679.5440485374, 211679.5440485374, 211679.5440485374, 211679.5440485374, 211679.5440485374, 211679.5440485374, 211679.5440485374, 211679.5440485374, 211679.5440485374, 211679.5440485374, 211679.5440485374, 211679.5440485374, 211679.5440485374, 211679.5440485374, 211679.5440485374, 211679.5440485374, 211679.5440485374, 211679.5440485374, 211679.5440485374, 211679.5440485374, 211679.5440485374, 211679.5440485374, 211679.5440485374, 211679.5440485374, 211679.5440485374, 211679.5440485374, 211679.5440485374, 211679.5440485374, 211679.5440485374, 211679.5440485374, 211679.5440485374, 211679.5440485374, 211679.5440485374, 211679.5440485374, 211679.5440485374, 211679.5440485374, 211679.5440485374, 211679.5440485374, 211679.5440485374, 211679.5440485374, 211679.5440485374, 211679.5440485374, 211679.5440485374, 211679.5440485374, 211679.5440485374, 211679.5440485374, 211679.5440485374, 211679.5440485374, 211679.5440485374, 211679.5440485374, 211679.5440485374, 211679.5440485374, 211679.5440485374, 211679.5440485374, 211679.5440485374, 211679.5440485374, 211679.5440485374, 211679.5440485374, 211679.5440485374, 211679.5440485374, 211679.5440485374, 211679.5440485374, 211679.5440485374, 211679.5440485374, 211679.5440485374, 211679.5440485374, 211679.5440485374, 211679.5440485374, 211679.5440485374, 211679.5440485374, 211679.5440485374, 211679.5440485374, 211679.5440485374, 211679.5440485374, 211679.5440485374, 211679.5440485374, 211679.5440485374, 211679.5440485374, 211679.5440485374, 211679.5440485374, 211679.5440485374, 211679.5440485374, 211679.5440485374, 211679.5440485374, 211679.5440485374, 211679.5440485374, 211679.5440485374, 211679.5440485374, 211679.5440485374, 211679.5440485374, 211679.5440485374, 211679.5440485374, 211679.5440485374, 211679.5440485374, 211679.5440485374, 211679.5440485374, 211679.5440485374, 211679.5440485374, 211679.5440485374, 211679.5440485374, 211679.5440485374, 211679.5440485374, 211679.5440485374, 211679.5440485374, 211679.5440485374, 211679.5440485374, 211679.5440485374, 211679.5440485374, 211679.5440485374, 211679.5440485374, 211679.5440485374, 211679.5440485374, 211679.5440485374, 211679.5440485374, 211679.5440485374, 211679.5440485374, 211679.5440485374, 211679.5440485374, 211679.5440485374, 211679.5440485374, 211679.5440485374, 211679.5440485374, 211679.5440485374, 211679.5440485374, 211679.5440485374, 211679.5440485374, 211679.5440485374, 211679.5440485374, 211679.5440485374, 211679.5440485374, 211679.5440485374, 211679.5440485374, 211679.5440485374, 211679.5440485374, 211679.5440485374, 211679.5440485374, 211679.5440485374, 211679.5440485374, 211679.5440485374, 211679.5440485374, 211679.5440485374, 211679.5440485374, 211679.5440485374, 211679.5440485374, 211679.5440485374, 211679.5440485374, 211679.5440485374, 211679.5440485374, 211679.5440485374, 211679.5440485374, 211679.5440485374, 211679.5440485374, 211679.5440485374, 211679.5440485374, 211679.5440485374, 211679.5440485374, 211679.5440485374, 211679.5440485374, 211679.5440485374, 211679.5440485374, 211679.5440485374, 211679.5440485374, 211679.5440485374, 211679.5440485374, 211679.5440485374, 211679.5440485374, 211679.5440485374, 211679.5440485374, 211679.5440485374, 211679.5440485374, 211679.5440485374, 211679.5440485374, 211679.5440485374, 211679.5440485374, 211679.5440485374, 211679.5440485374, 211679.5440485374, 211679.5440485374, 211679.5440485374, 211679.5440485374, 211679.5440485374, 211679.5440485374, 211679.5440485374, 211679.5440485374, 211679.5440485374, 211679.5440485374, 211679.5440485374, 211679.5440485374, 211679.5440485374, 211679.5440485374, 211679.5440485374, 211679.5440485374, 211679.5440485374, 211679.5440485374, 211679.5440485374, 211679.5440485374, 211679.5440485374, 211679.5440485374, 211679.5440485374, 211679.5440485374, 211679.5440485374, 211679.5440485374, 211679.5440485374, 211679.5440485374, 211679.5440485374, 211679.5440485374, 211679.5440485374, 211679.5440485374, 211679.5440485374, 211679.5440485374, 211679.5440485374, 211679.5440485374, 211679.5440485374, 211679.5440485374, 211679.5440485374, 211679.5440485374, 211679.5440485374, 211679.5440485374, 211679.5440485374, 211679.5440485374, 211679.5440485374, 211679.5440485374, 211679.5440485374, 211679.5440485374, 211679.5440485374, 211679.5440485374, 211679.5440485374, 211679.5440485374, 211679.5440485374, 211679.5440485374, 211679.5440485374, 211679.5440485374, 211679.5440485374, 211679.5440485374, 211679.5440485374, 211679.5440485374, 211679.5440485374, 211679.5440485374, 211679.5440485374, 211679.5440485374, 211679.5440485374, 211679.5440485374, 211679.5440485374, 211679.5440485374, 211679.5440485374, 211679.5440485374, 211679.5440485374, 211679.5440485374, 211679.5440485374, 211679.5440485374, 211679.5440485374, 211679.5440485374, 211679.5440485374, 211679.5440485374, 211679.5440485374, 211679.5440485374, 211679.5440485374, 211679.5440485374, 211679.5440485374, 211679.5440485374, 211679.5440485374, 211679.5440485374, 211679.5440485374, 211679.5440485374, 211679.5440485374, 211679.5440485374, 211679.5440485374, 211679.5440485374, 211679.5440485374, 211679.5440485374, 211679.5440485374, 211679.5440485374, 211679.5440485374, 211679.5440485374, 211679.5440485374, 211679.5440485374, 211679.5440485374, 211679.5440485374, 211679.5440485374, 211679.5440485374, 211679.5440485374, 211679.5440485374, 211679.5440485374, 211679.5440485374, 211679.5440485374, 211679.5440485374, 211679.5440485374, 211679.5440485374, 211679.5440485374, 211679.5440485374, 211679.5440485374, 211679.5440485374, 211679.5440485374, 211679.5440485374, 211679.5440485374, 211679.5440485374, 211679.5440485374, 211679.5440485374, 211679.5440485374, 211679.5440485374, 211679.5440485374, 211679.5440485374, 211679.5440485374, 211679.5440485374, 211679.5440485374, 211679.5440485374, 211679.5440485374, 211679.5440485374, 211679.5440485374, 211679.5440485374, 211679.5440485374, 211679.5440485374, 211679.5440485374, 211679.5440485374, 211679.5440485374, 211679.5440485374, 211679.5440485374, 211679.5440485374, 211679.5440485374, 211679.5440485374, 211679.5440485374, 211679.5440485374, 211679.5440485374, 211679.5440485374, 211679.5440485374, 211679.5440485374, 211679.5440485374, 211679.5440485374, 211679.5440485374, 211679.5440485374, 211679.5440485374, 211679.5440485374, 211679.5440485374, 211679.5440485374, 211679.5440485374, 211679.5440485374, 211679.5440485374, 211679.5440485374, 211679.5440485374, 211679.5440485374, 211679.5440485374, 211679.5440485374, 211679.5440485374, 211679.5440485374, 211679.5440485374, 211679.5440485374, 211679.5440485374, 211679.5440485374, 211679.5440485374, 211679.5440485374, 211679.5440485374, 211679.5440485374, 211679.5440485374, 211679.5440485374, 211679.5440485374, 211679.5440485374, 211679.5440485374, 211679.5440485374, 211679.5440485374, 211679.5440485374, 211679.5440485374, 211679.5440485374, 211679.5440485374, 211679.5440485374, 211679.5440485374, 211679.5440485374, 211679.5440485374, 211679.5440485374, 211679.5440485374, 211679.5440485374, 211679.5440485374, 211679.5440485374, 211679.5440485374, 211679.5440485374, 211679.5440485374, 211679.5440485374, 211679.5440485374, 211679.5440485374, 211679.5440485374, 211679.5440485374, 211679.5440485374, 211679.5440485374, 211679.5440485374, 211679.5440485374, 211679.5440485374, 211679.5440485374, 211679.5440485374, 211679.5440485374, 211679.5440485374, 211679.5440485374, 211679.5440485374, 211679.5440485374, 211679.5440485374, 211679.5440485374, 211679.5440485374, 211679.5440485374, 211679.5440485374, 211679.5440485374, 211679.5440485374, 211679.5440485374, 211679.5440485374, 211679.5440485374, 211679.5440485374, 211679.5440485374, 211679.5440485374, 211679.5440485374, 211679.5440485374, 211679.5440485374, 211679.5440485374, 211679.5440485374, 211679.5440485374, 211679.5440485374, 211679.5440485374, 211679.5440485374, 211679.5440485374, 211679.5440485374, 211679.5440485374, 211679.5440485374, 211679.5440485374, 211679.5440485374, 211679.5440485374, 211679.5440485374, 211679.5440485374, 211679.5440485374, 211679.5440485374, 211679.5440485374, 211679.5440485374, 211679.5440485374, 211679.5440485374, 211679.5440485374, 211679.5440485374, 211679.5440485374, 211679.5440485374, 211679.5440485374, 211679.5440485374, 211679.5440485374, 211679.5440485374, 211679.5440485374, 211679.5440485374, 211679.5440485374, 211679.5440485374, 211679.5440485374, 211679.5440485374, 211679.5440485374, 211679.5440485374, 211679.5440485374, 211679.5440485374, 211679.5440485374, 211679.5440485374, 211679.5440485374, 211679.5440485374, 211679.5440485374, 211679.5440485374, 211679.5440485374, 211679.5440485374, 211679.5440485374, 211679.5440485374, 211679.5440485374, 211679.5440485374, 211679.5440485374, 211679.5440485374, 211679.5440485374, 211679.5440485374, 211679.5440485374, 211679.5440485374, 211679.5440485374, 211679.5440485374, 211679.5440485374, 211679.5440485374, 211679.5440485374, 211679.5440485374, 211679.5440485374, 211679.5440485374, 211679.5440485374, 211679.5440485374, 211679.5440485374, 211679.5440485374, 211679.5440485374, 211679.5440485374, 211679.5440485374, 211679.5440485374, 211679.5440485374, 211679.5440485374, 211679.5440485374, 211679.5440485374, 211679.5440485374, 211679.5440485374, 211679.5440485374, 211679.5440485374, 211679.5440485374, 211679.5440485374, 211679.5440485374, 211679.5440485374, 211679.5440485374, 211679.5440485374, 211679.5440485374, 211679.5440485374, 211679.5440485374, 211679.5440485374, 211679.5440485374, 211679.5440485374, 211679.5440485374, 211679.5440485374, 211679.5440485374, 211679.5440485374, 211679.5440485374, 211679.5440485374, 211679.5440485374, 211679.5440485374, 211679.5440485374, 211679.5440485374, 211679.5440485374, 211679.5440485374, 211679.5440485374, 211679.5440485374, 211679.5440485374, 211679.5440485374, 211679.5440485374, 211679.5440485374, 211679.5440485374, 211679.5440485374, 211679.5440485374, 211679.5440485374, 211679.5440485374, 211679.5440485374, 211679.5440485374, 211679.5440485374, 211679.5440485374, 211679.5440485374, 211679.5440485374, 211679.5440485374, 211679.5440485374, 211679.5440485374, 211679.5440485374, 211679.5440485374, 211679.5440485374, 211679.5440485374, 211679.5440485374, 211679.5440485374, 211679.5440485374, 211679.5440485374, 211679.5440485374, 211679.5440485374, 211679.5440485374, 211679.5440485374, 211679.5440485374, 211679.5440485374, 211679.5440485374, 211679.5440485374, 211679.5440485374, 211679.5440485374, 211679.5440485374, 211679.5440485374, 211679.5440485374, 211679.5440485374, 211679.5440485374, 211679.5440485374, 211679.5440485374, 211679.5440485374, 211679.5440485374, 211679.5440485374, 211679.5440485374, 211679.5440485374, 211679.5440485374, 211679.5440485374, 211679.5440485374, 211679.5440485374, 211679.5440485374, 211679.5440485374, 211679.5440485374, 211679.5440485374, 211679.5440485374, 211679.5440485374, 211679.5440485374, 211679.5440485374, 211679.5440485374, 211679.5440485374, 211679.5440485374, 211679.5440485374, 211679.5440485374, 211679.5440485374, 211679.5440485374, 211679.5440485374, 211679.5440485374, 211679.5440485374, 211679.5440485374, 211679.5440485374, 211679.5440485374, 211679.5440485374, 211679.5440485374, 211679.5440485374, 211679.5440485374, 211679.5440485374, 211679.5440485374, 211679.5440485374, 211679.5440485374, 211679.5440485374, 211679.5440485374, 211679.5440485374, 211679.5440485374, 211679.5440485374, 211679.5440485374, 211679.5440485374, 211679.5440485374, 211679.5440485374, 211679.5440485374, 211679.5440485374, 211679.5440485374, 211679.5440485374, 211679.5440485374, 211679.5440485374, 211679.5440485374, 211679.5440485374, 211679.5440485374, 211679.5440485374, 211679.5440485374, 211679.5440485374, 211679.5440485374, 211679.5440485374, 211679.5440485374, 211679.5440485374, 211679.5440485374, 211679.5440485374, 211679.5440485374, 211679.5440485374, 211679.5440485374, 211679.5440485374, 211679.5440485374, 211679.5440485374, 211679.5440485374, 211679.5440485374, 211679.5440485374, 211679.5440485374, 211679.5440485374, 211679.5440485374, 211679.5440485374, 211679.5440485374, 211679.5440485374, 211679.5440485374, 211679.5440485374, 211679.5440485374, 211679.5440485374, 211679.5440485374, 211679.5440485374, 211679.5440485374, 211679.5440485374, 211679.5440485374, 211679.5440485374, 211679.5440485374, 211679.5440485374, 211679.5440485374, 211679.5440485374, 211679.5440485374, 211679.5440485374, 211679.5440485374, 211679.5440485374, 211679.5440485374, 211679.5440485374, 211679.5440485374, 211679.5440485374, 211679.5440485374, 211679.5440485374, 211679.5440485374, 211679.5440485374, 211679.5440485374, 211679.5440485374, 211679.5440485374, 211679.5440485374, 211679.5440485374, 211679.5440485374, 211679.5440485374, 211679.5440485374, 211679.5440485374, 211679.5440485374, 211679.5440485374, 211679.5440485374, 211679.5440485374, 211679.5440485374, 211679.5440485374, 211679.5440485374, 211679.5440485374, 211679.5440485374, 211679.5440485374, 211679.5440485374, 211679.5440485374, 211679.5440485374, 211679.5440485374, 211679.5440485374, 211679.5440485374, 211679.5440485374, 211679.5440485374, 211679.5440485374, 211679.5440485374, 211679.5440485374, 211679.5440485374, 211679.5440485374, 211679.5440485374, 211679.5440485374, 211679.5440485374, 211679.5440485374, 211679.5440485374, 211679.5440485374, 211679.5440485374, 211679.5440485374, 211679.5440485374, 211679.5440485374, 211679.5440485374, 211679.5440485374, 211679.5440485374, 211679.5440485374, 211679.5440485374, 211679.5440485374, 211679.5440485374, 211679.5440485374, 211679.5440485374, 211679.5440485374, 211679.5440485374, 211679.5440485374, 211679.5440485374, 211679.5440485374, 211679.5440485374, 211679.5440485374, 211679.5440485374, 211679.5440485374, 211679.5440485374, 211679.5440485374, 211679.5440485374, 211679.5440485374, 211679.5440485374, 211679.5440485374, 211679.5440485374, 211679.5440485374, 211679.5440485374, 211679.5440485374, 211679.5440485374, 211679.5440485374, 211679.5440485374, 211679.5440485374, 211679.5440485374, 211679.5440485374, 211679.5440485374, 211679.5440485374, 211679.5440485374, 211679.5440485374, 211679.5440485374, 211679.5440485374, 211679.5440485374, 211679.5440485374, 211679.5440485374, 211679.5440485374, 211679.5440485374, 211679.5440485374, 211679.5440485374, 211679.5440485374, 211679.5440485374, 211679.5440485374, 211679.5440485374, 211679.5440485374, 211679.5440485374, 211679.5440485374, 211679.5440485374, 211679.5440485374, 211679.5440485374, 211679.5440485374, 211679.5440485374, 211679.5440485374, 211679.5440485374, 211679.5440485374, 211679.5440485374, 211679.5440485374, 211679.5440485374, 211679.5440485374, 211679.5440485374, 211679.5440485374, 211679.5440485374, 211679.5440485374, 211679.5440485374, 211679.5440485374, 211679.5440485374, 211679.5440485374, 211679.5440485374, 211679.5440485374, 211679.5440485374, 211679.5440485374, 211679.5440485374, 211679.5440485374, 211679.5440485374, 211679.5440485374, 211679.5440485374, 211679.5440485374, 211679.5440485374, 211679.5440485374, 211679.5440485374, 211679.5440485374, 211679.5440485374, 211679.5440485374, 211679.5440485374, 211679.5440485374, 211679.5440485374, 211679.5440485374, 211679.5440485374, 211679.5440485374, 211679.5440485374, 211679.5440485374, 211679.5440485374, 211679.5440485374, 211679.5440485374, 211679.5440485374, 211679.5440485374, 211679.5440485374, 211679.5440485374, 211679.5440485374, 211679.5440485374, 211679.5440485374, 211679.5440485374, 211679.5440485374, 211679.5440485374, 211679.5440485374, 211679.5440485374, 211679.5440485374, 211679.5440485374, 211679.5440485374, 211679.5440485374, 211679.5440485374, 211679.5440485374, 211679.5440485374, 211679.5440485374, 211679.5440485374, 211679.5440485374, 211679.5440485374, 211679.5440485374, 211679.5440485374, 211679.5440485374, 211679.5440485374, 211679.5440485374, 211679.5440485374, 211679.5440485374, 211679.5440485374, 211679.5440485374, 211679.5440485374, 211679.5440485374, 211679.5440485374, 211679.5440485374, 211679.5440485374, 211679.5440485374, 211679.5440485374, 211679.5440485374, 211679.5440485374, 211679.5440485374, 211679.5440485374, 211679.5440485374, 211679.5440485374, 211679.5440485374, 211679.5440485374, 211679.5440485374, 211679.5440485374, 211679.5440485374, 211679.5440485374, 211679.5440485374, 211679.5440485374, 211679.5440485374, 211679.5440485374, 211679.5440485374, 211679.5440485374, 211679.5440485374, 211679.5440485374, 211679.5440485374, 211679.5440485374, 211679.5440485374, 211679.5440485374, 211679.5440485374, 211679.5440485374, 211679.5440485374, 211679.5440485374, 211679.5440485374, 211679.5440485374, 211679.5440485374, 211679.5440485374, 211679.5440485374, 211679.5440485374, 211679.5440485374, 211679.5440485374, 211679.5440485374, 211679.5440485374, 211679.5440485374, 211679.5440485374, 211679.5440485374, 211679.5440485374, 211679.5440485374, 211679.5440485374, 211679.5440485374, 211679.5440485374, 211679.5440485374, 211679.5440485374, 211679.5440485374, 211679.5440485374, 211679.5440485374, 211679.5440485374, 211679.5440485374, 211679.5440485374, 211679.5440485374, 211679.5440485374, 211679.5440485374, 211679.5440485374, 211679.5440485374, 211679.5440485374, 211679.5440485374, 211679.5440485374, 211679.5440485374, 211679.5440485374, 211679.5440485374, 211679.5440485374, 211679.5440485374, 211679.5440485374, 211679.5440485374, 211679.5440485374, 211679.5440485374, 211679.5440485374, 211679.5440485374, 211679.5440485374, 211679.5440485374, 211679.5440485374, 211679.5440485374, 211679.5440485374, 211679.5440485374, 211679.5440485374, 211679.5440485374, 211679.5440485374, 211679.5440485374, 211679.5440485374, 211679.5440485374, 211679.5440485374, 211679.5440485374, 211679.5440485374, 211679.5440485374, 211679.5440485374, 211679.5440485374, 211679.5440485374, 211679.5440485374, 211679.5440485374, 211679.5440485374, 211679.5440485374, 211679.5440485374, 211679.5440485374, 211679.5440485374, 211679.5440485374, 211679.5440485374, 211679.5440485374, 211679.5440485374, 211679.5440485374, 211679.5440485374, 211679.5440485374, 211679.5440485374, 211679.5440485374, 211679.5440485374, 211679.5440485374, 211679.5440485374, 211679.5440485374, 211679.5440485374, 211679.5440485374, 211679.5440485374, 211679.5440485374, 211679.5440485374, 211679.5440485374, 211679.5440485374, 211679.5440485374, 211679.5440485374, 211679.5440485374, 211679.5440485374, 211679.5440485374, 211679.5440485374, 211679.5440485374, 211679.5440485374, 211679.5440485374, 211679.5440485374, 211679.5440485374, 211679.5440485374, 211679.5440485374, 211679.5440485374, 211679.5440485374, 211679.5440485374, 211679.5440485374, 211679.5440485374, 211679.5440485374, 211679.5440485374, 211679.5440485374, 211679.5440485374, 211679.5440485374, 211679.5440485374, 211679.5440485374, 211679.5440485374, 211679.5440485374, 211679.5440485374, 211679.5440485374, 211679.5440485374, 211679.5440485374, 211679.5440485374, 211679.5440485374, 211679.5440485374, 211679.5440485374, 211679.5440485374, 211679.5440485374, 211679.5440485374, 211679.5440485374, 211679.5440485374, 211679.5440485374, 211679.5440485374, 211679.5440485374, 211679.5440485374, 211679.5440485374, 211679.5440485374, 211679.5440485374, 211679.5440485374, 211679.5440485374, 211679.5440485374, 211679.5440485374, 211679.5440485374, 211679.5440485374, 211679.5440485374, 211679.5440485374, 211679.5440485374, 211679.5440485374, 211679.5440485374, 211679.5440485374, 211679.5440485374, 211679.5440485374, 211679.5440485374, 211679.5440485374, 211679.5440485374, 211679.5440485374, 211679.5440485374, 211679.5440485374, 211679.5440485374, 211679.5440485374, 211679.5440485374, 211679.5440485374, 211679.5440485374, 211679.5440485374, 211679.5440485374, 211679.5440485374, 211679.5440485374, 211679.5440485374, 211679.5440485374, 211679.5440485374, 211679.5440485374, 211679.5440485374, 211679.5440485374, 211679.5440485374, 211679.5440485374, 211679.5440485374, 211679.5440485374, 211679.5440485374, 211679.5440485374, 211679.5440485374, 211679.5440485374, 211679.5440485374, 211679.5440485374, 211679.5440485374, 211679.5440485374, 211679.5440485374, 211679.5440485374, 211679.5440485374, 211679.5440485374, 211679.5440485374, 211679.5440485374, 211679.5440485374, 211679.5440485374, 211679.5440485374, 211679.5440485374, 211679.5440485374, 211679.5440485374, 211679.5440485374, 211679.5440485374, 211679.5440485374, 211679.5440485374, 211679.5440485374, 211679.5440485374, 211679.5440485374, 211679.5440485374, 211679.5440485374, 211679.5440485374, 211679.5440485374, 211679.5440485374, 211679.5440485374, 211679.5440485374, 211679.5440485374, 211679.5440485374, 211679.5440485374, 211679.5440485374, 211679.5440485374, 211679.5440485374, 211679.5440485374, 211679.5440485374, 211679.5440485374, 211679.5440485374, 211679.5440485374, 211679.5440485374, 211679.5440485374, 211679.5440485374, 211679.5440485374, 211679.5440485374, 211679.5440485374, 211679.5440485374, 211679.5440485374, 211679.5440485374, 211679.5440485374, 211679.5440485374, 211679.5440485374, 211679.5440485374, 211679.5440485374, 211679.5440485374, 211679.5440485374, 211679.5440485374, 211679.5440485374, 211679.5440485374, 211679.5440485374, 211679.5440485374, 211679.5440485374, 211679.5440485374, 211679.5440485374, 211679.5440485374, 211679.5440485374, 211679.5440485374, 211679.5440485374, 211679.5440485374, 211679.5440485374, 211679.5440485374, 211679.5440485374, 211679.5440485374, 211679.5440485374, 211679.5440485374, 211679.5440485374, 211679.5440485374, 211679.5440485374, 211679.5440485374, 211679.5440485374, 211679.5440485374, 211679.5440485374, 211679.5440485374, 211679.5440485374, 211679.5440485374, 211679.5440485374, 211679.5440485374, 211679.5440485374, 211679.5440485374, 211679.5440485374, 211679.5440485374, 211679.5440485374, 211679.5440485374, 211679.5440485374, 211679.5440485374, 211679.5440485374, 211679.5440485374, 211679.5440485374, 211679.5440485374, 211679.5440485374, 211679.5440485374, 211679.5440485374, 211679.5440485374, 211679.5440485374, 211679.5440485374, 211679.5440485374, 211679.5440485374, 211679.5440485374, 211679.5440485374, 211679.5440485374, 211679.5440485374, 211679.5440485374, 211679.5440485374, 211679.5440485374, 211679.5440485374, 211679.5440485374, 211679.5440485374, 211679.5440485374, 211679.5440485374, 211679.5440485374, 211679.5440485374, 211679.5440485374, 211679.5440485374, 211679.5440485374, 211679.5440485374, 211679.5440485374, 211679.5440485374, 211679.5440485374, 211679.5440485374, 211679.5440485374, 211679.5440485374, 211679.5440485374, 211679.5440485374, 211679.5440485374, 211679.5440485374, 211679.5440485374, 211679.5440485374, 211679.5440485374, 211679.5440485374, 211679.5440485374, 211679.5440485374, 211679.5440485374, 211679.5440485374, 211679.5440485374, 211679.5440485374, 211679.5440485374, 211679.5440485374, 211679.5440485374, 211679.5440485374, 211679.5440485374, 211679.5440485374, 211679.5440485374, 211679.5440485374, 211679.5440485374, 211679.5440485374, 211679.5440485374, 211679.5440485374, 211679.5440485374, 211679.5440485374, 211679.5440485374, 211679.5440485374, 211679.5440485374, 211679.5440485374, 211679.5440485374, 211679.5440485374, 211679.5440485374, 211679.5440485374, 211679.5440485374, 211679.5440485374, 211679.5440485374, 211679.5440485374, 211679.5440485374, 211679.5440485374, 211679.5440485374, 211679.5440485374, 211679.5440485374, 211679.5440485374, 211679.5440485374, 211679.5440485374, 211679.5440485374, 211679.5440485374, 211679.5440485374, 211679.5440485374, 211679.5440485374, 211679.5440485374, 211679.5440485374, 211679.5440485374, 211679.5440485374, 211679.5440485374, 211679.5440485374, 211679.5440485374, 211679.5440485374, 211679.5440485374, 211679.5440485374, 211679.5440485374, 211679.5440485374, 211679.5440485374, 211679.5440485374, 211679.5440485374, 211679.5440485374, 211679.5440485374, 211679.5440485374, 211679.5440485374, 211679.5440485374, 211679.5440485374, 211679.5440485374, 211679.5440485374, 211679.5440485374, 211679.5440485374, 211679.5440485374, 211679.5440485374, 211679.5440485374, 211679.5440485374, 211679.5440485374, 211679.5440485374, 211679.5440485374, 211679.5440485374, 211679.5440485374, 211679.5440485374, 211679.5440485374, 211679.5440485374, 211679.5440485374, 211679.5440485374, 211679.5440485374, 211679.5440485374, 211679.5440485374, 211679.5440485374, 211679.5440485374, 211679.5440485374, 211679.5440485374, 211679.5440485374, 211679.5440485374, 211679.5440485374, 211679.5440485374, 211679.5440485374, 211679.5440485374, 211679.5440485374, 211679.5440485374, 211679.5440485374, 211679.5440485374, 211679.5440485374, 211679.5440485374, 211679.5440485374, 211679.5440485374, 211679.5440485374, 211679.5440485374, 211679.5440485374, 211679.5440485374, 211679.5440485374, 211679.5440485374, 211679.5440485374, 211679.5440485374, 211679.5440485374, 211679.5440485374, 211679.5440485374, 211679.5440485374, 211679.5440485374, 211679.5440485374, 211679.5440485374, 211679.5440485374, 211679.5440485374, 211679.5440485374, 211679.5440485374, 211679.5440485374, 211679.5440485374, 211679.5440485374, 211679.5440485374, 211679.5440485374, 211679.5440485374, 211679.5440485374, 211679.5440485374, 211679.5440485374, 211679.5440485374, 211679.5440485374, 211679.5440485374, 211679.5440485374, 211679.5440485374, 211679.5440485374, 211679.5440485374, 211679.5440485374, 211679.5440485374, 211679.5440485374, 211679.5440485374, 211679.5440485374, 211679.5440485374, 211679.5440485374, 211679.5440485374, 211679.5440485374, 211679.5440485374, 211679.5440485374, 211679.5440485374, 211679.5440485374, 211679.5440485374, 211679.5440485374, 211679.5440485374, 211679.5440485374, 211679.5440485374, 211679.5440485374, 211679.5440485374, 211679.5440485374, 211679.5440485374, 211679.5440485374, 211679.5440485374, 211679.5440485374, 211679.5440485374, 211679.5440485374, 211679.5440485374, 211679.5440485374, 211679.5440485374, 211679.5440485374, 211679.5440485374, 211679.5440485374, 211679.5440485374, 211679.5440485374, 211679.5440485374, 211679.5440485374, 211679.5440485374, 211679.5440485374, 211679.5440485374, 211679.5440485374, 211679.5440485374, 211679.5440485374, 211679.5440485374, 211679.5440485374, 211679.5440485374, 211679.5440485374, 211679.5440485374, 211679.5440485374, 211679.5440485374, 211679.5440485374, 211679.5440485374, 211679.5440485374, 211679.5440485374, 211679.5440485374, 211679.5440485374, 211679.5440485374, 211679.5440485374, 211679.5440485374, 211679.5440485374, 211679.5440485374, 211679.5440485374, 211679.5440485374, 211679.5440485374, 211679.5440485374, 211679.5440485374, 211679.5440485374, 211679.5440485374, 211679.5440485374, 211679.5440485374, 211679.5440485374, 211679.5440485374, 211679.5440485374, 211679.5440485374, 211679.5440485374, 211679.5440485374, 211679.5440485374, 211679.5440485374, 211679.5440485374, 211679.5440485374, 211679.5440485374, 211679.5440485374, 211679.5440485374, 211679.5440485374, 211679.5440485374, 211679.5440485374, 211679.5440485374, 211679.5440485374, 211679.5440485374, 211679.5440485374, 211679.5440485374, 211679.5440485374, 211679.5440485374, 211679.5440485374, 211679.5440485374, 211679.5440485374, 211679.5440485374, 211679.5440485374, 211679.5440485374, 211679.5440485374, 211679.5440485374, 211679.5440485374, 211679.5440485374, 211679.5440485374, 211679.5440485374, 211679.5440485374, 211679.5440485374, 211679.5440485374, 211679.5440485374, 211679.5440485374, 211679.5440485374, 211679.5440485374, 211679.5440485374, 211679.5440485374, 211679.5440485374, 211679.5440485374, 211679.5440485374, 211679.5440485374, 211679.5440485374, 211679.5440485374, 211679.5440485374, 211679.5440485374, 211679.5440485374, 211679.5440485374, 211679.5440485374, 211679.5440485374, 211679.5440485374, 211679.5440485374, 211679.5440485374, 211679.5440485374, 211679.5440485374, 211679.5440485374, 211679.5440485374, 211679.5440485374, 211679.5440485374, 211679.5440485374, 211679.5440485374, 211679.5440485374, 211679.5440485374, 211679.5440485374, 211679.5440485374, 211679.5440485374, 211679.5440485374, 211679.5440485374, 211679.5440485374, 211679.5440485374, 211679.5440485374, 211679.5440485374, 211679.5440485374, 211679.5440485374, 211679.5440485374, 211679.5440485374, 211679.5440485374, 211679.5440485374, 211679.5440485374, 211679.5440485374, 211679.5440485374, 211679.5440485374, 211679.5440485374, 211679.5440485374, 211679.5440485374, 211679.5440485374, 211679.5440485374, 211679.5440485374, 211679.5440485374, 211679.5440485374, 211679.5440485374, 211679.5440485374, 211679.5440485374, 211679.5440485374, 211679.5440485374, 211679.5440485374, 211679.5440485374, 211679.5440485374, 211679.5440485374, 211679.5440485374, 211679.5440485374, 211679.5440485374, 211679.5440485374, 211679.5440485374, 211679.5440485374, 211679.5440485374, 211679.5440485374, 211679.5440485374, 211679.5440485374, 211679.5440485374, 211679.5440485374, 211679.5440485374, 211679.5440485374, 211679.5440485374, 211679.5440485374, 211679.5440485374, 211679.5440485374, 211679.5440485374, 211679.5440485374, 211679.5440485374, 211679.5440485374, 211679.5440485374, 211679.5440485374, 211679.5440485374, 211679.5440485374, 211679.5440485374, 211679.5440485374, 211679.5440485374, 211679.5440485374, 211679.5440485374, 211679.5440485374, 211679.5440485374, 211679.5440485374, 211679.5440485374, 211679.5440485374, 211679.5440485374, 211679.5440485374, 211679.5440485374, 211679.5440485374, 211679.5440485374, 211679.5440485374, 211679.5440485374, 211679.5440485374, 211679.5440485374, 211679.5440485374, 211679.5440485374, 211679.5440485374, 211679.5440485374, 211679.5440485374, 211679.5440485374, 211679.5440485374, 211679.5440485374, 211679.5440485374, 211679.5440485374, 211679.5440485374, 211679.5440485374, 211679.5440485374, 211679.5440485374, 211679.5440485374, 211679.5440485374, 211679.5440485374, 211679.5440485374, 211679.5440485374, 211679.5440485374, 211679.5440485374, 211679.5440485374, 211679.5440485374, 211679.5440485374, 211679.5440485374, 211679.5440485374, 211679.5440485374, 211679.5440485374, 211679.5440485374, 211679.5440485374, 211679.5440485374, 211679.5440485374, 211679.5440485374, 211679.5440485374, 211679.5440485374, 211679.5440485374, 211679.5440485374, 211679.5440485374, 211679.5440485374, 211679.5440485374, 211679.5440485374, 211679.5440485374, 211679.5440485374, 211679.5440485374, 211679.5440485374, 211679.5440485374, 211679.5440485374, 211679.5440485374, 211679.5440485374, 211679.5440485374, 211679.5440485374, 211679.5440485374, 211679.5440485374, 211679.5440485374, 211679.5440485374, 211679.5440485374, 211679.5440485374, 211679.5440485374, 211679.5440485374, 211679.5440485374, 211679.5440485374, 211679.5440485374, 211679.5440485374, 211679.5440485374, 211679.5440485374, 211679.5440485374, 211679.5440485374, 211679.5440485374, 211679.5440485374, 211679.5440485374, 211679.5440485374, 211679.5440485374, 211679.5440485374, 211679.5440485374, 211679.5440485374, 211679.5440485374, 211679.5440485374, 211679.5440485374, 211679.5440485374, 211679.5440485374, 211679.5440485374, 211679.5440485374, 211679.5440485374, 211679.5440485374, 211679.5440485374, 211679.5440485374, 211679.5440485374, 211679.5440485374, 211679.5440485374, 211679.5440485374, 211679.5440485374, 211679.5440485374, 211679.5440485374, 211679.5440485374, 211679.5440485374, 211679.5440485374, 211679.5440485374, 211679.5440485374, 211679.5440485374, 211679.5440485374, 211679.5440485374, 211679.5440485374, 211679.5440485374, 211679.5440485374, 211679.5440485374, 211679.5440485374, 211679.5440485374, 211679.5440485374, 211679.5440485374, 211679.5440485374, 211679.5440485374, 211679.5440485374, 211679.5440485374, 211679.5440485374, 211679.5440485374, 211679.5440485374, 211679.5440485374, 211679.5440485374, 211679.5440485374, 211679.5440485374, 211679.5440485374, 211679.5440485374, 211679.5440485374, 211679.5440485374, 211679.5440485374, 211679.5440485374, 211679.5440485374, 211679.5440485374, 211679.5440485374, 211679.5440485374, 211679.5440485374, 211679.5440485374, 211679.5440485374, 211679.5440485374, 211679.5440485374, 211679.5440485374, 211679.5440485374, 211679.5440485374, 211679.5440485374, 211679.5440485374, 211679.5440485374, 211679.5440485374, 211679.5440485374, 211679.5440485374, 211679.5440485374, 211679.5440485374, 211679.5440485374, 211679.5440485374, 211679.5440485374, 211679.5440485374, 211679.5440485374, 211679.5440485374, 211679.5440485374, 211679.5440485374, 211679.5440485374, 211679.5440485374, 211679.5440485374, 211679.5440485374, 211679.5440485374, 211679.5440485374, 211679.5440485374, 211679.5440485374, 211679.5440485374, 211679.5440485374, 211679.5440485374, 211679.5440485374, 211679.5440485374, 211679.5440485374, 211679.5440485374, 211679.5440485374, 211679.5440485374, 211679.5440485374, 211679.5440485374, 211679.5440485374, 211679.5440485374, 211679.5440485374, 211679.5440485374, 211679.5440485374, 211679.5440485374, 211679.5440485374, 211679.5440485374, 211679.5440485374, 211679.5440485374, 211679.5440485374, 211679.5440485374, 211679.5440485374, 211679.5440485374, 211679.5440485374, 211679.5440485374, 211679.5440485374, 211679.5440485374, 211679.5440485374, 211679.5440485374, 211679.5440485374, 211679.5440485374, 211679.5440485374, 211679.5440485374, 211679.5440485374, 211679.5440485374, 211679.5440485374, 211679.5440485374, 211679.5440485374, 211679.5440485374, 211679.5440485374, 211679.5440485374, 211679.5440485374, 211679.5440485374, 211679.5440485374, 211679.5440485374, 211679.5440485374, 211679.5440485374, 211679.5440485374, 211679.5440485374, 211679.5440485374, 211679.5440485374, 211679.5440485374, 211679.5440485374, 211679.5440485374, 211679.5440485374, 211679.5440485374, 211679.5440485374, 211679.5440485374, 211679.5440485374, 211679.5440485374, 211679.5440485374, 211679.5440485374, 211679.5440485374, 211679.5440485374, 211679.5440485374, 211679.5440485374, 211679.5440485374, 211679.5440485374, 211679.5440485374, 211679.5440485374, 211679.5440485374, 211679.5440485374, 211679.5440485374, 211679.5440485374, 211679.5440485374, 211679.5440485374, 211679.5440485374, 211679.5440485374, 211679.5440485374, 211679.5440485374, 211679.5440485374, 211679.5440485374, 211679.5440485374, 211679.5440485374, 211679.5440485374, 211679.5440485374, 211679.5440485374, 211679.5440485374, 211679.5440485374, 211679.5440485374, 211679.5440485374, 211679.5440485374, 211679.5440485374, 211679.5440485374, 211679.5440485374, 211679.5440485374, 211679.5440485374, 211679.5440485374, 211679.5440485374, 211679.5440485374, 211679.5440485374, 211679.5440485374, 211679.5440485374, 211679.5440485374, 211679.5440485374, 211679.5440485374, 211679.5440485374, 211679.5440485374, 211679.5440485374, 211679.5440485374, 211679.5440485374, 211679.5440485374, 211679.5440485374, 211679.5440485374, 211679.5440485374, 211679.5440485374, 211679.5440485374, 211679.5440485374, 211679.5440485374, 211679.5440485374, 211679.5440485374, 211679.5440485374, 211679.5440485374, 211679.5440485374, 211679.5440485374, 211679.5440485374, 211679.5440485374, 211679.5440485374, 211679.5440485374, 211679.5440485374, 211679.5440485374, 211679.5440485374, 211679.5440485374, 211679.5440485374, 211679.5440485374, 211679.5440485374, 211679.5440485374, 211679.5440485374, 211679.5440485374, 211679.5440485374, 211679.5440485374, 211679.5440485374, 211679.5440485374, 211679.5440485374, 211679.5440485374, 211679.5440485374, 211679.5440485374]\n"
     ]
    }
   ],
   "source": [
    "# not needed now right?\n",
    "losses1, w1 = learning_by_gradient_descent(y_0, tX_tilda_0, np.zeros(tX_tilda_0.shape[1]), 0.8, 10000)\n",
    "#print(losses1)"
   ]
  },
  {
   "cell_type": "code",
   "execution_count": 37,
   "metadata": {},
   "outputs": [],
   "source": [
    "# I believe that the second order is used nowhere and should be removed since it is also arithmetically unstable\n",
    "def calculate_hessian(y, tx, w):\n",
    "    \"\"\"return the Hessian of the loss function.\"\"\"\n",
    "    diag = sigmoid(tx @ w) * (1 - sigmoid(tx @ w))\n",
    "    D = diag * np.eye(tx.shape[0])\n",
    "    return np.transpose(tx) @ D @ tx"
   ]
  },
  {
   "cell_type": "code",
   "execution_count": 38,
   "metadata": {},
   "outputs": [],
   "source": [
    "#calculate the values of the logistic regression\n",
    "def logistic_regression(y, tx, w):\n",
    "    grad = calculate_gradient(y, tx, w) #calculate the gradient\n",
    "    hess = calculate_hessian(y, tx, w) #\n",
    "    loss = calculate_loss(y, tx, w) # calcualte the loss\n",
    "    return loss, grad, hess"
   ]
  },
  {
   "cell_type": "code",
   "execution_count": 39,
   "metadata": {},
   "outputs": [],
   "source": [
    "# Should this be removed as well since we only have to use th gradient method\n",
    "def learning_by_newton_method(y, tx, w, gamma):\n",
    "    loss, grad, hess = logistic_regression(y, tx, w)\n",
    "    sol = np.linalg.solve(hess, grad)\n",
    "    w = w - gamma * sol\n",
    "    return loss, w"
   ]
  },
  {
   "cell_type": "code",
   "execution_count": 40,
   "metadata": {},
   "outputs": [],
   "source": [
    "# Compute the logistic regression with an L2 regularizer\n",
    "def penalized_logistic_regression(y, tx, w, lambda_):\n",
    "    \"\"\"return the loss, gradient\"\"\"\n",
    "    loss = calculate_loss(y, tx, w) + lambda_*np.linalg.norm(w) ** 2\n",
    "    grad = calculate_gradient(y, tx, w) + 2*lambda_*w\n",
    "    hess = calculate_hessian(y, tx, w) + 2*lambda_*np.eye(w.shape[0])\n",
    "    return loss, grad, hess"
   ]
  },
  {
   "cell_type": "code",
   "execution_count": 41,
   "metadata": {},
   "outputs": [],
   "source": [
    "# Execute one step of regularized logistic regression\n",
    "def learning_by_penalized_gradient(y, tx, w_initial, gamma, max_iters, lambda_):\n",
    "    threshold = 1e-8 # threshold to stop execution\n",
    "    losses = []\n",
    "    w = w_initial # initialize weights for the first iteration of the algorithm\n",
    "    for iter in range(max_iters):\n",
    "        grad = calculate_gradient(y, tx, w) + 2*lambda_*w # calcualte gradient\n",
    "        w = w - gamma * grad # update the weights given the gradient and the step\n",
    "        loss = calculate_loss(y, tx, w) + lambda_*np.linalg.norm(w) ** 2 # compute loss\n",
    "        losses.append(loss) # append loss to the list of losses\n",
    "        if iter % 25 == 0:\n",
    "            gamma = gamma / 2 # decrease gamma after some iterations to increase the fitting of the parameters \n",
    "            print(\"Current iteration={i}, loss={l}\".format(i=iter, l=loss))\n",
    "        # converge criterion\n",
    "        if len(losses) > 1 and np.abs(losses[-1] - losses[-2]) < threshold:\n",
    "            break\n",
    "    return losses, w"
   ]
  },
  {
   "cell_type": "code",
   "execution_count": 42,
   "metadata": {},
   "outputs": [],
   "source": [
    "# augment the feauture vector X\n",
    "def build_poly(x, degree):\n",
    "    powers = np.arange(1, degree + 1) #degrees of polynomial \n",
    "    phi = np.column_stack([np.power(x[:,0], exponent) for exponent in powers]) #extend the vector by putting the power\n",
    "                                                                               # of each feature of each sample\n",
    "    for i in range(1, x.shape[1]):\n",
    "        phi_i = np.column_stack([np.power(x[:,i], exponent) for exponent in powers]) \n",
    "        phi = np.column_stack([phi, phi_i])\n",
    "    return phi"
   ]
  },
  {
   "cell_type": "code",
   "execution_count": 43,
   "metadata": {},
   "outputs": [],
   "source": [
    "# build the k vector of shuffled indices\n",
    "def build_k_indices(y, k_fold, seed):\n",
    "    N = y.shape[0] # number of samples\n",
    "    np.random.seed(seed) # initialize random seed\n",
    "    interval = int(np.floor(N / k_fold)) # number of samples in each subset\n",
    "    indices = np.random.permutation(N) # return an array of rnadomly order indices in [0,N)\n",
    "    k_indices = [indices[k * interval: (k + 1) * interval] \n",
    "                 for k in range(k_fold)] # crete the sub arrays of indices in k-intervals\n",
    "    return np.array(k_indices)"
   ]
  },
  {
   "cell_type": "code",
   "execution_count": 44,
   "metadata": {},
   "outputs": [],
   "source": [
    "# cross validation function for ridge regression\n",
    "# k-indices = random subsets of the original samples\n",
    "# k the set that we will use as the test set out of the subsets\n",
    "# lambda_ = the lambda for the regularization function\n",
    "# degree = the degree up to which we will exponentiate each feature\n",
    "def cross_validation_ridge(y, x, k_indices, k, lambda_, degree):\n",
    "    N = y.shape[0] # number of samples \n",
    "    k_fold = k_indices.shape[0] # number of seperated sets\n",
    "    list_ = []\n",
    "    interval = int(N/k_fold) # the length of each subset\n",
    "    # this is not well written and should be changed it is very hard to understand\n",
    "    # Create a list of the indices of subsets that are supposed to be used as a training set\n",
    "    for i in range(k_fold):\n",
    "        if i != k:\n",
    "            list_.append(i)\n",
    "    # create the training set out of these indices\n",
    "    x_training = np.zeros((int((k_fold-1)/k_fold*N), x.shape[1])) \n",
    "    y_training = np.zeros(int((k_fold-1)/k_fold*N))\n",
    "    for j in range(len(list_)):\n",
    "        x_training[interval*(j):interval*(j+1), :] = x[np.array([k_indices[list_[j]]]), :]\n",
    "    for j in range(len(list_)):\n",
    "        y_training[interval*(j):interval*(j+1)] = y[np.array([k_indices[list_[j]]])]\n",
    "    # get the testing set out of the remaining set\n",
    "    x_testing = x[k_indices[k], :]\n",
    "    y_testing = y[k_indices[k]]\n",
    "    # augment the testing and training set feature vectors\n",
    "    x_training_augmented = build_poly(x_training, degree)\n",
    "    x_testing_augmented = build_poly(x_testing, degree)\n",
    "    # get optimal weights\n",
    "    w_opt_training = ridge_regression(y_training, x_training_augmented, lambda_)\n",
    "    # calculate losses for the training and test set respectively and return them\n",
    "    loss_tr = compute_loss(y_training, x_training_augmented, w_opt_training)\n",
    "    loss_te = compute_loss(y_testing, x_testing_augmented, w_opt_training)\n",
    "    return loss_tr, loss_te"
   ]
  },
  {
   "cell_type": "markdown",
   "metadata": {},
   "source": [
    "## The following cells of code aim at finetuning the hyperparameters of the code\n",
    "Each cell finetunes the hyperparameters for each case where Pri_Jet_Num is 0 or 1 or 2_3 so they are identical apart from the change in this parameters.\n",
    "## Create one fucntion and call it thrice"
   ]
  },
  {
   "cell_type": "code",
   "execution_count": 45,
   "metadata": {
    "tags": []
   },
   "outputs": [
    {
     "name": "stdout",
     "output_type": "stream",
     "text": [
      "[[0.06229007 0.06054168 0.05997957 0.05969034 0.05950786]\n",
      " [0.06229007 0.06054167 0.05997956 0.05969032 0.05950778]\n",
      " [0.06229006 0.06054165 0.05997954 0.05969026 0.05950758]\n",
      " [0.06229003 0.06054161 0.0599795  0.05969015 0.05950716]\n",
      " [0.06228999 0.06054157 0.05997947 0.05968998 0.05950642]\n",
      " [0.06228999 0.06054165 0.05997968 0.05969003 0.05950573]\n",
      " [0.06229041 0.06054265 0.05998142 0.05969194 0.05950806]\n",
      " [0.06229306 0.06054829 0.05999042 0.05970297 0.05952563]\n",
      " [0.06230481 0.06057272 0.06002762 0.05974795 0.05959274]\n",
      " [0.06234758 0.06065782 0.06015417 0.0598943  0.05977394]\n",
      " [0.06248079 0.06089653 0.06050353 0.06027633 0.0601499 ]\n",
      " [0.06283664 0.0614592  0.06125489 0.06105903 0.06079715]\n",
      " [0.06371731 0.06264497 0.0624934  0.06231165 0.06185065]\n",
      " [0.06585003 0.0648964  0.06417547 0.06401799 0.06359233]\n",
      " [0.07042634 0.06869078 0.06642577 0.0662836  0.06617371]]\n",
      "[0.00061054] [6]\n"
     ]
    }
   ],
   "source": [
    "degrees = np.arange(2, 7) # create array of degrees\n",
    "lambdas = np.logspace(-5,0,15) #create array of lambdas\n",
    "k_fold = 5 # number of subsets to split the training set into\n",
    "seed = 1 # initialise the seed for the randomizer\n",
    "training_loss = np.zeros((len(lambdas), len(degrees)))# initial 2-d array for the grid search or the lambads and the degrees\n",
    "testing_loss = np.zeros((len(lambdas), len(degrees))) # initial 2-d array for the grid search or the lambads and the degrees\n",
    "k_indices = build_k_indices(y_0, k_fold, seed) #create the subarrays for the cross_validation\n",
    "for index1 in range(len(lambdas)):\n",
    "    for index2 in range(len(degrees)):\n",
    "        train_loss = 0 # initialize the training loss for each repetition\n",
    "        test_loss = 0 # initialize the test loss for each repetition\n",
    "        \n",
    "        #run the cross validation for each possible split into test-train\n",
    "        for k in range(k_fold):\n",
    "            loss_tr, loss_te = cross_validation_ridge(y_0, tX_tilda_0, k_indices, k,\n",
    "                                                lambdas[index1], degrees[index2])\n",
    "            train_loss += loss_tr# increase the training loss for this execution\n",
    "            test_loss += loss_te# increase the test loss for this eecution\n",
    "        training_loss[index1, index2] = train_loss / k_fold # save the average of the training loss\n",
    "        testing_loss[index1, index2] = test_loss / k_fold # save the average of the testing loss\n",
    "best_result = np.where(testing_loss == np.amin(testing_loss)) # get the optimal index for the hyper parameters\n",
    "print(testing_loss)\n",
    "# get and print the optimal values\n",
    "lambda_opt, degree_opt = lambdas[best_result[0]],degrees[best_result[1]] \n",
    "print(lambda_opt, degree_opt) "
   ]
  },
  {
   "cell_type": "code",
   "execution_count": 46,
   "metadata": {},
   "outputs": [
    {
     "name": "stdout",
     "output_type": "stream",
     "text": [
      "[[0.08022969 0.07472501 0.07384662 0.07246893 0.07232976]\n",
      " [0.08022968 0.07472499 0.0738466  0.0724689  0.07232973]\n",
      " [0.08022967 0.07472497 0.07384655 0.07246883 0.07232964]\n",
      " [0.08022965 0.07472492 0.07384647 0.07246878 0.07232975]\n",
      " [0.08022963 0.07472489 0.07384646 0.07246911 0.07233081]\n",
      " [0.08022972 0.07472521 0.07384724 0.07247147 0.0723349 ]\n",
      " [0.08023057 0.07472777 0.07385246 0.07248172 0.07234905]\n",
      " [0.08023556 0.07474199 0.07387736 0.07252124 0.07240095]\n",
      " [0.08025961 0.07480703 0.07397579 0.07266608 0.07257992]\n",
      " [0.08035669 0.07505001 0.07430176 0.07312224 0.0730842 ]\n",
      " [0.08067315 0.0757488  0.07515953 0.07424121 0.07419037]\n",
      " [0.08150696 0.07726097 0.07689265 0.07633714 0.07609521]\n",
      " [0.08339738 0.0799469  0.07970283 0.07941736 0.07874686]\n",
      " [0.08726569 0.08438512 0.08365394 0.08323829 0.08203457]\n",
      " [0.09413339 0.09118387 0.08869685 0.08773981 0.08631216]]\n",
      "[5.17947468e-05] [6]\n"
     ]
    }
   ],
   "source": [
    "degrees = np.arange(2, 7)\n",
    "lambdas = np.logspace(-5,0,15)\n",
    "k_fold = 5\n",
    "seed = 1\n",
    "training_loss = np.zeros((len(lambdas), len(degrees)))\n",
    "testing_loss = np.zeros((len(lambdas), len(degrees)))\n",
    "k_indices = build_k_indices(y_1, k_fold, seed)\n",
    "for index1 in range(len(lambdas)):\n",
    "    for index2 in range(len(degrees)):\n",
    "        train_loss = 0\n",
    "        test_loss = 0\n",
    "        for k in range(k_fold):\n",
    "            loss_tr, loss_te = cross_validation_ridge(y_1, tX_tilda_1, k_indices, k, \n",
    "                                                lambdas[index1], degrees[index2])\n",
    "            train_loss += loss_tr\n",
    "            test_loss += loss_te\n",
    "        training_loss[index1, index2] = train_loss / k_fold\n",
    "        testing_loss[index1, index2] = test_loss / k_fold\n",
    "best_result = np.where(testing_loss == np.amin(testing_loss))\n",
    "print(testing_loss)\n",
    "lambda_opt, degree_opt = lambdas[best_result[0]], degrees[best_result[1]]\n",
    "print(lambda_opt, degree_opt)"
   ]
  },
  {
   "cell_type": "code",
   "execution_count": null,
   "metadata": {},
   "outputs": [],
   "source": [
    "degrees = np.arange(2, 7)\n",
    "lambdas = np.logspace(-5,0,15)\n",
    "k_fold = 5\n",
    "seed = 1\n",
    "training_loss = np.zeros((len(lambdas), len(degrees)))\n",
    "testing_loss = np.zeros((len(lambdas), len(degrees)))\n",
    "k_indices = build_k_indices(y_2_3, k_fold, seed)\n",
    "for index1 in range(len(lambdas)):\n",
    "    for index2 in range(len(degrees)):\n",
    "        train_loss = 0\n",
    "        test_loss = 0\n",
    "        for k in range(k_fold):\n",
    "            loss_tr, loss_te = cross_validation_ridge(y_2_3, tX_tilda_2_3, k_indices, k,\n",
    "                                            lambdas[index1], degrees[index2])\n",
    "            train_loss += loss_tr\n",
    "            test_loss += loss_te\n",
    "        training_loss[index1, index2] = train_loss / k_fold\n",
    "        testing_loss[index1, index2] = test_loss / k_fold\n",
    "best_result = np.where(testing_loss == np.amin(testing_loss))\n",
    "lambda_opt, degree_opt = lambdas[best_result[0]], degrees[best_result[1]]\n",
    "print(testing_loss)\n",
    "print(lambda_opt, degree_opt) "
   ]
  },
  {
   "cell_type": "markdown",
   "metadata": {},
   "source": [
    "We train the model for ridge regression with the best hyperparameters"
   ]
  },
  {
   "cell_type": "code",
   "execution_count": null,
   "metadata": {},
   "outputs": [],
   "source": [
    "#Augment the feauture vector and calculate the optimal weights for ridge regression\n",
    "# for Pjet_In 0\n",
    "tX_tilda_0_augmented = build_poly(tX_tilda_0, degree = 6)\n",
    "w_ridge_0 = ridge_regression(y_0, tX_tilda_0_augmented, lambda_= 0.00061054)\n",
    "#print(w_ridge_0)"
   ]
  },
  {
   "cell_type": "code",
   "execution_count": null,
   "metadata": {},
   "outputs": [],
   "source": [
    "# for Pjet_In 1\n",
    "tX_tilda_1_augmented = build_poly(tX_tilda_1, degree=6)\n",
    "w_ridge_1 = ridge_regression(y_1, tX_tilda_1_augmented, lambda_= 5.17947468e-05)\n",
    "#print(w_ridge_1)"
   ]
  },
  {
   "cell_type": "code",
   "execution_count": null,
   "metadata": {},
   "outputs": [],
   "source": [
    "# for Pjet_In 2_3\n",
    "tX_tilda_2_3_augmented = build_poly(tX_tilda_2_3, degree=6)\n",
    "w_ridge_2_3 = ridge_regression(y_2_3, tX_tilda_2_3_augmented, lambda_= 0.00026827)\n",
    "#print(w_ridge_2_3)"
   ]
  },
  {
   "cell_type": "markdown",
   "metadata": {},
   "source": [
    "We will now try with logistic regression"
   ]
  },
  {
   "cell_type": "code",
   "execution_count": null,
   "metadata": {},
   "outputs": [],
   "source": [
    "# cross validation function for logistic regression\n",
    "# k-indices = random subsets of the original samples\n",
    "# k the set that we will use as the test set out of the subsets\n",
    "# lambda_ = the lambda for the regularization function\n",
    "# degree = the degree up to which we will exponentiate each feature\n",
    "def cross_validation_logistic(y, x, k_indices, k, lambda_, degree, gamma = 3.0e-02):\n",
    "    \"\"\"return the loss of ridge regression.\"\"\"\n",
    "    N = y.shape[0] # the number of features\n",
    "    k_fold = k_indices.shape[0]\n",
    "    list_ = []\n",
    "    interval = int(N/k_fold) # the length of each subset\n",
    "    # this is not well written and should be changed it is very hard to understand\n",
    "    # Create a list of the indices of subsets that are supposed to be used as a training set\n",
    "    for i in range(k_fold):\n",
    "        if i != k:\n",
    "            list_.append(i)\n",
    "    x_training = np.zeros((int((k_fold-1)/k_fold*N), x.shape[1]))\n",
    "    y_training = np.zeros(int((k_fold-1)/k_fold*N))\n",
    "    for j in range(len(list_)):\n",
    "        x_training[interval*(j):interval*(j+1), :] = x[np.array([k_indices[list_[j]]]), :]\n",
    "    for j in range(len(list_)):\n",
    "        y_training[interval*(j):interval*(j+1)] = y[np.array([k_indices[list_[j]]])]\n",
    "    # get the testing set out of the remaining set\n",
    "    x_testing = x[k_indices[k], :]\n",
    "    y_testing = y[k_indices[k]]\n",
    "    # augment the testing and training set feature vectors\n",
    "    x_training_augmented = build_poly(x_training, degree)\n",
    "    x_testing_augmented = build_poly(x_testing, degree)\n",
    "    #w_opt_training = ridge_regression(y_training, x_training_augmented, lambda_)\n",
    "    # get optimal weights\n",
    "    _,  w_opt_training = learning_by_penalized_gradient(y_training, x_training_augmented,\n",
    "                                                        np.ones(x_training_augmented.shape[1]), gamma, 1000, lambda_)\n",
    "    # calculate losses for the training and test set respectively and return them\n",
    "    loss_tr = calculate_loss(y_training, x_training_augmented, w_opt_training)\n",
    "    loss_te = calculate_loss(y_testing, x_testing_augmented, w_opt_training)\n",
    "    return loss_tr, loss_te"
   ]
  },
  {
   "cell_type": "markdown",
   "metadata": {},
   "source": [
    "We perform cross validation in order to find the best parameters degree, lamdba and gamma caracterizing logistic regression"
   ]
  },
  {
   "cell_type": "code",
   "execution_count": null,
   "metadata": {},
   "outputs": [],
   "source": [
    "print(tX_tilda_0)"
   ]
  },
  {
   "cell_type": "code",
   "execution_count": null,
   "metadata": {},
   "outputs": [],
   "source": [
    "degrees = np.arange(2, 6) # create array of degrees\n",
    "lambdas = np.logspace(-2, 0, 5)#create array of lambdas\n",
    "gamma = 3.0e-02 # learning rate\n",
    "#Why 3 and not 5?\n",
    "k_fold = 3 # number of subsets to split the training set into\n",
    "seed = 1 \n",
    "training_loss = np.zeros((len(lambdas), len(degrees)))# initial 2-d array for the grid search or the lambdas and the degrees\n",
    "testing_loss = np.zeros((len(lambdas), len(degrees)))# initial 2-d array for the grid search or the lambdas and the degrees\n",
    "k_indices = build_k_indices(y_0, k_fold, seed)#create the subarrays for the cross_validation\n",
    "for index1 in range(len(lambdas)):\n",
    "    for index2 in range(len(degrees)):\n",
    "        train_loss = 0 # initialize the training loss for each repetition\n",
    "        test_loss = 0 # initialize the test loss for each repetition\n",
    "        #run the cross validation for each possible split into test-train\n",
    "        for k in range(k_fold):\n",
    "            loss_tr, loss_te = cross_validation_logistic(y_0, tX_tilda_0, k_indices, k,\n",
    "                                                lambdas[index1], degrees[index2], gamma)\n",
    "        train_loss += loss_tr # increase the training loss for this execution\n",
    "        test_loss += loss_te # increase the test loss for this execution\n",
    "        training_loss[index1, index2] = train_loss / k_fold # save the average of the training loss\n",
    "        testing_loss[index1, index2] = test_loss / k_fold # save the average of the testing loss\n",
    "best_result = np.where(testing_loss == np.amin(testing_loss)) # get the optimal index for the hyper parameters\n",
    "# get and print the optimal values\n",
    "lambda_opt, degree_opt = lambdas[best_result[0]], degrees[best_result[1]]\n",
    "print(lambda_opt, degree_opt)"
   ]
  },
  {
   "cell_type": "code",
   "execution_count": null,
   "metadata": {},
   "outputs": [],
   "source": [
    "print(np.logspace(-2,0,5))"
   ]
  },
  {
   "cell_type": "code",
   "execution_count": null,
   "metadata": {},
   "outputs": [],
   "source": [
    "degrees = np.arange(2, 6)\n",
    "lambdas = np.logspace(-5, 0, 5)\n",
    "gamma = 3.0e-02\n",
    "k_fold = 3\n",
    "seed = 1\n",
    "training_loss = np.zeros((len(lambdas), len(degrees)))\n",
    "testing_loss = np.zeros((len(lambdas), len(degrees)))\n",
    "k_indices = build_k_indices(y_1, k_fold, seed)\n",
    "for index1 in range(len(lambdas)):\n",
    "    for index2 in range(len(degrees)):\n",
    "            train_loss = 0\n",
    "            test_loss = 0\n",
    "            for k in range(k_fold):\n",
    "                loss_tr, loss_te = cross_validation_logistic(y_1, tX_tilda_1, k_indices, k,\n",
    "                                                lambdas[index1], degrees[index2], gamma)\n",
    "                train_loss += loss_tr\n",
    "                test_loss += loss_te\n",
    "            training_loss[index1, index2] = train_loss / k_fold\n",
    "            testing_loss[index1, index2] = test_loss / k_fold\n",
    "best_result = np.where(testing_loss == np.amin(testing_loss))\n",
    "lambda_opt, degree_opt = lambdas[best_result[0]], degrees[best_result[1]]\n",
    "print(lambda_opt, degree_opt)"
   ]
  },
  {
   "cell_type": "code",
   "execution_count": null,
   "metadata": {},
   "outputs": [],
   "source": [
    "degrees = np.arange(2, 6)\n",
    "lambdas = np.logspace(-5, 0, 5)\n",
    "gamma = 3.0e-02\n",
    "k_fold = 3\n",
    "seed = 1\n",
    "training_loss = np.zeros((len(lambdas), len(degrees)))\n",
    "testing_loss = np.zeros((len(lambdas), len(degrees)))\n",
    "k_indices = build_k_indices(y_2_3, k_fold, seed)\n",
    "for index1 in range(len(lambdas)):\n",
    "    for index2 in range(len(degrees)):\n",
    "            train_loss = 0\n",
    "            test_loss = 0\n",
    "            for k in range(k_fold):\n",
    "                loss_tr, loss_te = cross_validation_logistic(y_2_3, tX_tilda_2_3, k_indices, k,\n",
    "                                                lambdas[index1], degrees[index2], gamma)\n",
    "                train_loss += loss_tr\n",
    "                test_loss += loss_te\n",
    "            training_loss[index1, index2] = train_loss / k_fold\n",
    "            testing_loss[index1, index2] = test_loss / k_fold\n",
    "best_result = np.where(testing_loss == np.amin(testing_loss))\n",
    "lambda_opt, degree_opt = lambdas[best_result[0]],degrees[best_result[1]]\n",
    "print(lambda_opt, degree_opt)"
   ]
  },
  {
   "cell_type": "code",
   "execution_count": null,
   "metadata": {},
   "outputs": [],
   "source": [
    "#Augment the feauture vector and calculate the optimal weights for logistic regression\n",
    "# for Pjet_In 0\n",
    "tX_tilda_0_augmented = build_poly(tX_tilda_0, degree = 2)\n",
    "_, w_logistic_0 = learning_by_penalized_gradient(y_0, tX_tilda_0_augmented, np.zeros(tX_tilda_0_augmented.shape[1]), 3.0e-02,\n",
    "                                              1000, lambda_= 1)"
   ]
  },
  {
   "cell_type": "code",
   "execution_count": null,
   "metadata": {},
   "outputs": [],
   "source": [
    "# for Pjet_In 1\n",
    "tX_tilda_1_augmented = build_poly(tX_tilda_1, degree = 2)\n",
    "_, w_logistic_1 = learning_by_penalized_gradient(y_1, tX_tilda_1_augmented, np.zeros(tX_tilda_1_augmented.shape[1]), 3.0e-02,\n",
    "                                              1000, lambda_= 1)"
   ]
  },
  {
   "cell_type": "code",
   "execution_count": null,
   "metadata": {},
   "outputs": [],
   "source": [
    "# for Pjet_In 2_3\n",
    "tX_tilda_2_3_augmented = build_poly(tX_tilda_2_3, degree = 2)\n",
    "_, w_logistic_2_3 = learning_by_penalized_gradient(y_2_3, tX_tilda_2_3_augmented, np.zeros(tX_tilda_2_3_augmented.shape[1]),\n",
    "                                                3.0e-02, 1000, lambda_= 1)"
   ]
  },
  {
   "cell_type": "code",
   "execution_count": null,
   "metadata": {},
   "outputs": [],
   "source": []
  },
  {
   "cell_type": "markdown",
   "metadata": {},
   "source": [
    "### Generate predictions and save ouput in csv format for submission:"
   ]
  },
  {
   "cell_type": "code",
   "execution_count": null,
   "metadata": {
    "jupyter": {
     "outputs_hidden": false
    }
   },
   "outputs": [],
   "source": [
    "# open the test file\n",
    "DATA_TEST_PATH = '../data/test.csv' # TODO: download train data and supply path here \n",
    "_, tX_test, ids_test = load_csv_data(DATA_TEST_PATH)"
   ]
  },
  {
   "cell_type": "code",
   "execution_count": null,
   "metadata": {},
   "outputs": [],
   "source": [
    "print(tX_test.shape)"
   ]
  },
  {
   "cell_type": "markdown",
   "metadata": {},
   "source": [
    "We will now format the tX_test as we did for tX_train"
   ]
  },
  {
   "cell_type": "markdown",
   "metadata": {},
   "source": [
    "### we split the test into the three subgroups"
   ]
  },
  {
   "cell_type": "code",
   "execution_count": null,
   "metadata": {},
   "outputs": [],
   "source": [
    "# create index lists of elemets with 0,1, 2_3 Pjet_In value\n",
    "zero_indices = []\n",
    "one_indices = []\n",
    "two_three_indices = []\n",
    "zero_indices = np.where(tX_test[:,22]==0)[0]\n",
    "one_indices = np.where(tX_test[:,22]==1)[0]\n",
    "two_three_indices = np.where(np.logical_or(tX_test[:,22]==2, tX_test[:,22]==3))[0]\n",
    "#Use indices to seperate the testing samples into the respective arrays\n",
    "tX_test_0 = tX_test[zero_indices, :]\n",
    "tX_test_0 = np.delete(tX_test_0, 22, axis=1)\n",
    "tX_test_1 = tX_test[one_indices, :]\n",
    "tX_test_1 = np.delete(tX_test_1, 22, axis=1)\n",
    "tX_test_2_3 = tX_test[two_three_indices, :]"
   ]
  },
  {
   "cell_type": "markdown",
   "metadata": {},
   "source": [
    "### Adding a column of zeros and ones to detect whether the mass has been measured or not\n",
    "This should be done prior to splitting it is the same procedure and just wastes space "
   ]
  },
  {
   "cell_type": "code",
   "execution_count": null,
   "metadata": {},
   "outputs": [],
   "source": [
    "# take the indices where the mass is not calculated, add the column which has 0 in those indices\n",
    "# and 1 everywhere else for all matrices 0,1,2_3\n",
    "zero_indices_0 = np.where(tX_test_0[:,1] == -999.)[0]\n",
    "column_to_add = np.array([0 if i in zero_indices_0 else 1 for i in range(tX_test_0.shape[0])])\n",
    "tX_test_0 = np.insert(tX_test_0, 0, column_to_add, axis=1)\n",
    "zero_indices_1 = np.where(tX_test_1[:,1] == -999.)[0]\n",
    "column_to_add = np.array([0 if i in zero_indices_1 else 1 for i in range(tX_test_1.shape[0])])\n",
    "tX_test_1 = np.insert(tX_test_1, 0, column_to_add, axis=1)\n",
    "zero_indices_2_3 = np.where(tX_test_2_3[:,1] == -999.)[0]\n",
    "column_to_add = np.array([0 if i in zero_indices_2_3 else 1 for i in range(tX_test_2_3.shape[0])])\n",
    "tX_test_2_3 = np.insert(tX_test_2_3, 0, column_to_add, axis=1)"
   ]
  },
  {
   "cell_type": "markdown",
   "metadata": {},
   "source": [
    "### We drop the same columns we have dropped for the X training"
   ]
  },
  {
   "cell_type": "code",
   "execution_count": null,
   "metadata": {},
   "outputs": [],
   "source": [
    "tX_test_0 = np.delete(tX_test_0, col_to_delete_0, axis=1)\n",
    "tX_test_1 = np.delete(tX_test_1, col_to_delete_1, axis=1)"
   ]
  },
  {
   "cell_type": "markdown",
   "metadata": {},
   "source": [
    "### Now we substitute the -999 values with the median\n",
    "This should also be done with a function it is the same thing repeated thrice"
   ]
  },
  {
   "cell_type": "code",
   "execution_count": null,
   "metadata": {},
   "outputs": [],
   "source": [
    "for i in range(1, tX_test_2_3.shape[1]):\n",
    "    index_column_non_valid =np.where(tX_test_2_3[:,i] == -999.)[0] # calculate invalid indices \n",
    "    index_column_valid =np.where(tX_test_2_3[:,i] != -999.)[0] # calculate valid indices\n",
    "    median = np.median(tX_test_2_3[index_column_valid, i], axis = 0) # calculate the median\n",
    "    tX_test_2_3[index_column_non_valid,i] =  median # substitute the invalid values with the median"
   ]
  },
  {
   "cell_type": "code",
   "execution_count": null,
   "metadata": {},
   "outputs": [],
   "source": [
    "for i in range(1, tX_test_1.shape[1]):\n",
    "    index_column_non_valid =np.where(tX_test_1[:,i] == -999.)[0] # calculate invalid indices\n",
    "    index_column_valid =np.where(tX_test_1[:,i] != -999.)[0] # calculate valid indices\n",
    "    median = np.median(tX_test_1[index_column_valid, i], axis = 0) # calculate the median\n",
    "    tX_test_1[index_column_non_valid,i] =  median # substitute the invalid values with the median"
   ]
  },
  {
   "cell_type": "code",
   "execution_count": null,
   "metadata": {},
   "outputs": [],
   "source": [
    "for i in range(1, tX_test_0.shape[1]):\n",
    "    index_column_non_valid =np.where(tX_test_0[:,i] == -999.)[0] # calculate invalid indices\n",
    "    index_column_valid =np.where(tX_test_0[:,i] != -999.)[0] # calculate valid indices\n",
    "    median = np.median(tX_test_0[index_column_valid, i], axis = 0) # calculate the median\n",
    "    tX_test_0[index_column_non_valid,i] =  median # substitute the invalid values with the median"
   ]
  },
  {
   "cell_type": "markdown",
   "metadata": {},
   "source": [
    "### We standardize the test set using the mean and the standard deviation of the training"
   ]
  },
  {
   "cell_type": "code",
   "execution_count": null,
   "metadata": {},
   "outputs": [],
   "source": [
    "print(tX_test_0.shape)"
   ]
  },
  {
   "cell_type": "code",
   "execution_count": null,
   "metadata": {},
   "outputs": [],
   "source": [
    "print(tX_0.shape)"
   ]
  },
  {
   "cell_type": "code",
   "execution_count": null,
   "metadata": {},
   "outputs": [],
   "source": [
    "# standardize the data in the test set\n",
    "# should have used the same function both here and on the training part same process this is reduntant\n",
    "def standardize_test(x, mean, std):\n",
    "    \"\"\"Standardize the test set.\"\"\"\n",
    "    x = x - mean \n",
    "    x = x / std\n",
    "    return x"
   ]
  },
  {
   "cell_type": "code",
   "execution_count": null,
   "metadata": {},
   "outputs": [],
   "source": [
    "tX_test_0[:,1:] = standardize_test(tX_test_0[:,1:], mean_0, std_0)  #we standardize everything a part from the column added manually\n",
    "tX_test_1[:,1:] = standardize_test(tX_test_1[:,1:], mean_1, std_1)  #we standardize everything a part from the column added manually\n",
    "tX_test_2_3[:,1:]= standardize_test(tX_test_2_3[:,1:], mean_2_3, std_2_3) #we standardize everything a part from the column added manually"
   ]
  },
  {
   "cell_type": "markdown",
   "metadata": {},
   "source": [
    "### We insert the column for the bias term"
   ]
  },
  {
   "cell_type": "code",
   "execution_count": null,
   "metadata": {},
   "outputs": [],
   "source": [
    "tX_tilda_test_0 = np.insert(tX_test_0, 0, np.ones(tX_test_0.shape[0]), axis=1) #the first column now is all ones and is used for bias\n",
    "tX_tilda_test_1 = np.insert(tX_test_1, 0, np.ones(tX_test_1.shape[0]), axis=1) #the first column now is all ones and is used for bias\n",
    "tX_tilda_test_2_3 = np.insert(tX_test_2_3, 0, np.ones(tX_test_2_3.shape[0]), axis=1) #the first column now is all ones and is used for bias"
   ]
  },
  {
   "cell_type": "markdown",
   "metadata": {},
   "source": [
    "### We make the predictions"
   ]
  },
  {
   "cell_type": "code",
   "execution_count": null,
   "metadata": {},
   "outputs": [],
   "source": [
    "#since we trained the model in augmented data, we augment the test set\n",
    "tX_tilda_test_2_3_augmented = build_poly(tX_tilda_test_2_3, degree=6)\n",
    "# make the predictions with the augmented test set and ridge resgression\n",
    "predictions_ridge_2_3 = tX_tilda_test_2_3_augmented @ w_ridge_2_3\n",
    "# print(predictions_2_3.shape)"
   ]
  },
  {
   "cell_type": "code",
   "execution_count": null,
   "metadata": {},
   "outputs": [],
   "source": [
    "#since we trained the model in augmented data, we augment the test set\n",
    "tX_tilda_test_0_augmented = build_poly(tX_tilda_test_0, degree = 6)\n",
    "# make the predictions with the augmented test set and ridge regression\n",
    "predictions_ridge_0 = tX_tilda_test_0_augmented @ w_ridge_0\n",
    "# print(predictions_0.shape)"
   ]
  },
  {
   "cell_type": "code",
   "execution_count": null,
   "metadata": {},
   "outputs": [],
   "source": [
    "#since we trained the model in augmented data, we augment the test set\n",
    "tX_tilda_test_1_augmented = build_poly(tX_tilda_test_1, degree = 6)\n",
    "# make the predictions with the augmented test set and ridge regression\n",
    "predictions_ridge_1 = tX_tilda_test_1_augmented @ w_ridge_1\n",
    "# print(predictions_1.shape)"
   ]
  },
  {
   "cell_type": "code",
   "execution_count": null,
   "metadata": {},
   "outputs": [],
   "source": [
    "print(len(zero_indices))\n",
    "print(len(one_indices))\n",
    "print(len(two_three_indices))\n",
    "print()"
   ]
  },
  {
   "cell_type": "code",
   "execution_count": null,
   "metadata": {},
   "outputs": [],
   "source": [
    "### Predictions with logistic regression"
   ]
  },
  {
   "cell_type": "code",
   "execution_count": null,
   "metadata": {},
   "outputs": [],
   "source": [
    "# make the predictions with the augmented test set\n",
    "#since we trained the model in augmented data, we augment the test set\n",
    "tX_tilda_test_2_3_augmented = build_poly(tX_tilda_test_2_3, degree = 2)\n",
    "# make the predictions with the augmented test set and logistic regression\n",
    "predictions_logistic_2_3 = sigmoid(tX_tilda_test_2_3_augmented @ w_logistic_2_3)\n",
    "# print(predictions_2_3.shape)"
   ]
  },
  {
   "cell_type": "code",
   "execution_count": null,
   "metadata": {},
   "outputs": [],
   "source": [
    "#since we trained the model in augmented data, we augment the test set\n",
    "tX_tilda_test_1_augmented = build_poly(tX_tilda_test_1, degree = 2)\n",
    "# make the predictions with the augmented test set and logistic regression\n",
    "predictions_logistic_1 = sigmoid(tX_tilda_test_1_augmented @ w_logistic_1)\n",
    "# print(predictions_1.shape)"
   ]
  },
  {
   "cell_type": "code",
   "execution_count": null,
   "metadata": {},
   "outputs": [],
   "source": [
    "#since we trained the model in augmented data, we augment the test set\n",
    "tX_tilda_test_0_augmented = build_poly(tX_tilda_test_0, degree = 2)\n",
    "# make the predictions with the augmented test set and logistic regression\n",
    "predictions_logistic_0 = sigmoid(tX_tilda_test_0_augmented @ w_logistic_0)\n",
    "# print(predictions_0.shape)"
   ]
  },
  {
   "cell_type": "markdown",
   "metadata": {},
   "source": [
    "Now we have to reconstruct a single vector of predictions"
   ]
  },
  {
   "cell_type": "code",
   "execution_count": null,
   "metadata": {},
   "outputs": [],
   "source": [
    "#jupyter notebook --NotebookApp.iopub_data_rate_limit=1.0e10"
   ]
  },
  {
   "cell_type": "code",
   "execution_count": null,
   "metadata": {},
   "outputs": [],
   "source": [
    "# create a list with all of the predictions stacked from the 3 case from 0,1,2_3\n",
    "# also the counts seem to be reduntant if so please remove them\n",
    "# it should also be done into a function with the shell below to be called for all models arbitrarily\n",
    "stacked_predictions = []\n",
    "count_0 = 0\n",
    "count_1 = 0\n",
    "count_2_3 = 0\n",
    "for index_row in range(tX_test.shape[0]):\n",
    "    if index_row in zero_indices:\n",
    "        stacked_predictions.append(predictions_logistic_0[count_0])\n",
    "        count_0 = count_0 + 1\n",
    "    elif index_row in one_indices:\n",
    "        stacked_predictions.append(predictions_logistic_1[count_1])\n",
    "        count_1 = count_1 +1\n",
    "    else:\n",
    "        stacked_predictions.append(predictions_logistic_2_3[count_2_3])\n",
    "        count_2_3 = count_2_3 + 1"
   ]
  },
  {
   "cell_type": "code",
   "execution_count": null,
   "metadata": {},
   "outputs": [],
   "source": [
    "# apply a decision boundary to generate -1 or 1 ou of the results of the model\n",
    "# transform the list to np array\n",
    "# parameter 0.5 needs to be finetuned for optimal performance\n",
    "final_predictions = np.array([-1 if el < 0.5 else 1 for el in stacked_predictions])"
   ]
  },
  {
   "cell_type": "code",
   "execution_count": null,
   "metadata": {},
   "outputs": [],
   "source": [
    "print(final_predictions)"
   ]
  },
  {
   "cell_type": "code",
   "execution_count": null,
   "metadata": {},
   "outputs": [],
   "source": [
    "# this does not seem to be used and should be removed in such a case\n",
    "def predict_labels(weights, tX_test):\n",
    "    y = np.array(tX_test) @ np.array(weights)\n",
    "    labels = [1 if l > 0 else -1 for l in y]\n",
    "    return labels"
   ]
  },
  {
   "cell_type": "code",
   "execution_count": null,
   "metadata": {
    "jupyter": {
     "outputs_hidden": false
    }
   },
   "outputs": [],
   "source": [
    "# I changed the output path so that all the data will be in the same file\n",
    "OUTPUT_PATH = '../data/submission.csv' # name towards the destination file to be written \n",
    "#y_pred = predict_labels(weights, tX_test)\n",
    "y_pred = final_predictions # seems reduntant \n",
    "create_csv_submission(ids_test, y_pred, OUTPUT_PATH) # print csv file according to results"
   ]
  },
  {
   "cell_type": "code",
   "execution_count": null,
   "metadata": {},
   "outputs": [],
   "source": []
  }
 ],
 "metadata": {
  "anaconda-cloud": {},
  "kernelspec": {
   "display_name": "Python 3",
   "language": "python",
   "name": "python3"
  },
  "language_info": {
   "codemirror_mode": {
    "name": "ipython",
    "version": 3
   },
   "file_extension": ".py",
   "mimetype": "text/x-python",
   "name": "python",
   "nbconvert_exporter": "python",
   "pygments_lexer": "ipython3",
   "version": "3.8.8"
  }
 },
 "nbformat": 4,
 "nbformat_minor": 4
}
